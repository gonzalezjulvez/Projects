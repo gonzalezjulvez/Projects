{
 "cells": [
  {
   "cell_type": "markdown",
   "metadata": {},
   "source": [
    "Crear un notebook que consuma datos en formato JSON en streaming a través de un topic de kafka denominado json_topic. El procesamiento de los streams será utilizando una longitud de ventana de 10 minutos y un intervalo de deslizamiento de 5 minutos. El contenido de los mensajes enviados será como el siguiente: {\"nombre\":\"jose\",\"edad\":38,\"peso\":75.5}"
   ]
  },
  {
   "cell_type": "code",
   "execution_count": 2,
   "metadata": {},
   "outputs": [],
   "source": [
    "import findspark\n",
    "findspark.init()"
   ]
  },
  {
   "cell_type": "code",
   "execution_count": 6,
   "metadata": {},
   "outputs": [],
   "source": [
    "# Importamos librerias\n",
    "from pyspark.sql import SparkSession\n",
    "from pyspark.sql.types import StringType, IntegerType, FloatType, StringType, StructField\n",
    "from pyspark.sql.functions import window, col, from_json"
   ]
  },
  {
   "cell_type": "code",
   "execution_count": null,
   "metadata": {},
   "outputs": [],
   "source": [
    "# Arrancamos la session\n",
    "spark = SparkSession.builder.appName(\"JSON_Kafka\").getOrCreate()"
   ]
  },
  {
   "cell_type": "code",
   "execution_count": null,
   "metadata": {},
   "outputs": [],
   "source": [
    "# Schema JSON\n",
    "\n",
    "schema = StructType([\n",
    "    StructField(\"Nombre\",StringType()),\n",
    "    StructField(\"Edad\",IntegerType()),\n",
    "    StructField(\"Peso\",FloatType())\n",
    "])\n"
   ]
  },
  {
   "cell_type": "code",
   "execution_count": 5,
   "metadata": {},
   "outputs": [],
   "source": [
    "# Deberemos tener abierto el producer de nuesto sistema Kafka a la hora de inciar nuestro readStream\n",
    "# Kafka-topics.sh --zookeeper 127.0.0.1:2181 --topic json_topic --create --partitions 3 --replication-factor 1\n",
    "# Kafka-console-producer.sh --broker-list 127.0.0.1:9092 --topic json_topic"
   ]
  },
  {
   "cell_type": "code",
   "execution_count": null,
   "metadata": {},
   "outputs": [],
   "source": [
    "lines = spark\\\n",
    "        .readStream\\\n",
    "        .format(\"kafka\")\\ # Especificamos el formato\n",
    "        .option(\"kafka.bootstrap.server\",\"localhost:9092\")\\\n",
    "        .option(\"subscribe\",\"json_topic\")\\# Con la opcion subscribe ponemos el topic de donde obtendremos los datos.\n",
    "        .option(\"includeTimestamp\",\"true\")\\# Habilitaremos la option de timestamp para que capture la hora de ingreso de los datos, usada para la option de ventana\n",
    "        .load()\\\n",
    "        .selectExpr(\"CAST(value AS STRING)\",\"timestamp\")\\# Campo Value es donde se aloja toda la informacion capturada de Kafka\n",
    "        .select(from_json(col(\"value\"),schema).alias(\"parsed_value\"),\"timestamp\")\\# Aplicamos el esquema \n",
    "        .select(\"parsed_value.*\",\"timestamp\")# Leemos solo los campos que nos interesan "
   ]
  },
  {
   "cell_type": "code",
   "execution_count": null,
   "metadata": {},
   "outputs": [],
   "source": [
    "# Creamos la ventana con un tamaño de 10 minutos y un desplazamiento de 5 minutos y que agrupe por nombre\n",
    "windowedCounts = lines.groupBy(window(lines.timestamp,\"10 minutes\",\"5 minutes\"),lines.nombre)\\\n",
    "                        .agg(avg(\"peso\"),max(\"peso\"),min(\"min\"),avg(\"edad\"),max(\"edad\"),min(\"edad\"))"
   ]
  },
  {
   "cell_type": "code",
   "execution_count": null,
   "metadata": {},
   "outputs": [],
   "source": [
    "# La salida sera mediante consola\n",
    "query = windowedCounts.writeStream\\\n",
    "        .outputMode(\"complete\")\\\n",
    "        .option(\"truncate\",\"fase\")\\\n",
    "        .format(\"console\")\\\n",
    "        .start()\n",
    "query.awaiTermination()"
   ]
  }
 ],
 "metadata": {
  "kernelspec": {
   "display_name": "Python 3",
   "language": "python",
   "name": "python3"
  },
  "language_info": {
   "codemirror_mode": {
    "name": "ipython",
    "version": 3
   },
   "file_extension": ".py",
   "mimetype": "text/x-python",
   "name": "python",
   "nbconvert_exporter": "python",
   "pygments_lexer": "ipython3",
   "version": "3.8.5"
  }
 },
 "nbformat": 4,
 "nbformat_minor": 4
}
