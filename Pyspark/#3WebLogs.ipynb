{
  "nbformat": 4,
  "nbformat_minor": 0,
  "metadata": {
    "kernelspec": {
      "display_name": "Python 3",
      "language": "python",
      "name": "python3"
    },
    "language_info": {
      "codemirror_mode": {
        "name": "ipython",
        "version": 3
      },
      "file_extension": ".py",
      "mimetype": "text/x-python",
      "name": "python",
      "nbconvert_exporter": "python",
      "pygments_lexer": "ipython3",
      "version": "3.8.5"
    },
    "colab": {
      "name": "#3WebLogs.ipynb",
      "provenance": [],
      "toc_visible": true
    }
  },
  "cells": [
    {
      "cell_type": "markdown",
      "metadata": {
        "id": "m0s66No8r65V"
      },
      "source": [
        "# Spark : Web Server Logs Analysis with Python"
      ]
    },
    {
      "cell_type": "markdown",
      "metadata": {
        "id": "kc8c4l0Pr65Z"
      },
      "source": [
        "El análisis de registros del servidor es un caso de uso ideal para Spark. Es una fuente de datos común muy grande y contiene un rico conjunto de información. Spark le permite almacenar sus registros en archivos en disco de forma económica, al mismo tiempo que proporciona una forma rápida y sencilla de realizar análisis de datos en ellos. Esta tarea le mostrará cómo usar Apache Spark en registros de producción basados en texto del mundo real y aprovechar al máximo el poder de esos datos. Los datos de registro provienen de muchas fuentes, como servidores web, de archivos y de computación, registros de aplicaciones, contenido generado por el usuario, y se pueden usar para monitorear servidores, mejorar la inteligencia comercial y del cliente, crear sistemas de recomendación, detección de fraudes y mucho más."
      ]
    },
    {
      "cell_type": "markdown",
      "metadata": {
        "id": "52mlTFPxr65a"
      },
      "source": [
        "#### Parte 1: Introducción y importación\n",
        "\n",
        "Para este laboratorio, usaremos un conjunto de datos aleatorios del sitio web de Kaggle y contiene todas las solicitudes HTTP durante un año.\n"
      ]
    },
    {
      "cell_type": "code",
      "metadata": {
        "id": "kAhUcRc9r65a"
      },
      "source": [
        "import findspark\n",
        "findspark.init()"
      ],
      "execution_count": null,
      "outputs": []
    },
    {
      "cell_type": "code",
      "metadata": {
        "id": "VALpNk0rr65a"
      },
      "source": [
        "# Importamos librerias necesarias. \n",
        "from pyspark.sql import SparkSession\n",
        "from pyspark.sql.types import *\n",
        "from pyspark.sql.window import Window\n",
        "from pyspark.sql.functions import *"
      ],
      "execution_count": null,
      "outputs": []
    },
    {
      "cell_type": "code",
      "metadata": {
        "id": "4Vj_AKBKr65a"
      },
      "source": [
        "# Creamos las Session donde desarrollaremos nuestra aplicación.\n",
        "spark = SparkSession.builder.appName(\"weblog\").getOrCreate()"
      ],
      "execution_count": null,
      "outputs": []
    },
    {
      "cell_type": "code",
      "metadata": {
        "id": "aHy5mTp5r65b"
      },
      "source": [
        "# Crearemos el esquema donde se alojaran los datos a importar. En nuestro caso obtendremos 4 campos:\n",
        "schema = StructType([\n",
        "StructField(\"ip\",StringType(),False),\n",
        "StructField(\"timestamp\",StringType(),False),\n",
        "StructField(\"value\",StringType(),False),\n",
        "StructField(\"status\",StringType(),False)]\n",
        ")"
      ],
      "execution_count": null,
      "outputs": []
    },
    {
      "cell_type": "code",
      "metadata": {
        "id": "k9bLKlDar65b"
      },
      "source": [
        "# Importamos los datos del csv\n",
        "df_raw = spark.read.format(\"csv\")\\\n",
        ".option(\"header\",\"true\")\\\n",
        ".option(\"inferSchema\",\"false\")\\\n",
        ".option(\"sep\",\",\")\\\n",
        ".schema(schema)\\\n",
        ".load(\"weblog.csv\")"
      ],
      "execution_count": null,
      "outputs": []
    },
    {
      "cell_type": "code",
      "metadata": {
        "id": "VxQWm2eDr65b",
        "outputId": "d96d70a5-b1a6-4e54-b03c-656c4f3f3a3a"
      },
      "source": [
        "# Comprobamos si se ha importado el archivo y damos un primer vistazo a nuestros datos.\n",
        "df_raw.show(10, False)"
      ],
      "execution_count": null,
      "outputs": [
        {
          "output_type": "stream",
          "text": [
            "+----------+---------------------+---------------------------------------------+------+\n",
            "|ip        |timestamp            |value                                        |status|\n",
            "+----------+---------------------+---------------------------------------------+------+\n",
            "|10.128.2.1|[29/Nov/2017:06:58:55|GET /login.php HTTP/1.1                      |200   |\n",
            "|10.128.2.1|[29/Nov/2017:06:59:02|POST /process.php HTTP/1.1                   |302   |\n",
            "|10.128.2.1|[29/Nov/2017:06:59:03|GET /home.php HTTP/1.1                       |200   |\n",
            "|10.131.2.1|[29/Nov/2017:06:59:04|GET /js/vendor/moment.min.js HTTP/1.1        |200   |\n",
            "|10.130.2.1|[29/Nov/2017:06:59:06|GET /bootstrap-3.3.7/js/bootstrap.js HTTP/1.1|200   |\n",
            "|10.130.2.1|[29/Nov/2017:06:59:19|GET /profile.php?user=bala HTTP/1.1          |200   |\n",
            "|10.128.2.1|[29/Nov/2017:06:59:19|GET /js/jquery.min.js HTTP/1.1               |200   |\n",
            "|10.131.2.1|[29/Nov/2017:06:59:19|GET /js/chart.min.js HTTP/1.1                |200   |\n",
            "|10.131.2.1|[29/Nov/2017:06:59:30|GET /edit.php?name=bala HTTP/1.1             |200   |\n",
            "|10.131.2.1|[29/Nov/2017:06:59:37|GET /logout.php HTTP/1.1                     |302   |\n",
            "+----------+---------------------+---------------------------------------------+------+\n",
            "only showing top 10 rows\n",
            "\n"
          ],
          "name": "stdout"
        }
      ]
    },
    {
      "cell_type": "markdown",
      "metadata": {
        "id": "sz_8SzDzr65c"
      },
      "source": [
        "#### Part 2: Exploratory Data Analysis\n",
        "\n",
        "Una vez importados los datos deberemos realizar un análisis exploratorio permitiéndonos hacernos una idea de la estructura de los datos y su composición."
      ]
    },
    {
      "cell_type": "code",
      "metadata": {
        "id": "PJRFG0Dar65c",
        "outputId": "342fe54d-2d39-4937-d63b-9e18c2e26ab1"
      },
      "source": [
        "print(f\"Numero de registros weblogs: {df_raw.count()}\")\n",
        "df_raw.printSchema()"
      ],
      "execution_count": null,
      "outputs": [
        {
          "output_type": "stream",
          "text": [
            "Numero de registros weblogs: 16007\n",
            "root\n",
            " |-- ip: string (nullable = true)\n",
            " |-- timestamp: string (nullable = true)\n",
            " |-- value: string (nullable = true)\n",
            " |-- status: string (nullable = true)\n",
            "\n"
          ],
          "name": "stdout"
        }
      ]
    },
    {
      "cell_type": "code",
      "metadata": {
        "id": "rvqnwJaTr65c",
        "outputId": "ae646191-8d96-4082-b67d-7e89424041f2"
      },
      "source": [
        "df_raw.describe().show()"
      ],
      "execution_count": null,
      "outputs": [
        {
          "output_type": "stream",
          "text": [
            "+-------+----------+--------------------+-----------------+------------------+\n",
            "|summary|        ip|           timestamp|            value|            status|\n",
            "+-------+----------+--------------------+-----------------+------------------+\n",
            "|  count|     16007|               16007|            16007|             16007|\n",
            "|   mean|      null|                null|            992.0|230.19469250744189|\n",
            "| stddev|      null|                null|343.2105767600993| 50.05853522906924|\n",
            "|    min|10.128.2.1|C:WINDOWSSystem32...|           '*.o':|               200|\n",
            "|    max|  timeout:|                 the|              not|             found|\n",
            "+-------+----------+--------------------+-----------------+------------------+\n",
            "\n"
          ],
          "name": "stdout"
        }
      ]
    },
    {
      "cell_type": "code",
      "metadata": {
        "id": "U6fiB09sr65c",
        "outputId": "00a95220-d58f-45f1-e176-d2077d2527a8"
      },
      "source": [
        "df_raw.select([count(when(isnan(c), c)).alias(c) for c in df_raw.columns]).show()"
      ],
      "execution_count": null,
      "outputs": [
        {
          "output_type": "stream",
          "text": [
            "+---+---------+-----+------+\n",
            "| ip|timestamp|value|status|\n",
            "+---+---------+-----+------+\n",
            "|  0|        0|    0|     0|\n",
            "+---+---------+-----+------+\n",
            "\n"
          ],
          "name": "stdout"
        }
      ]
    },
    {
      "cell_type": "markdown",
      "metadata": {
        "id": "2hwPqGdDr65d"
      },
      "source": [
        "#### 2.1 Exploración de variables"
      ]
    },
    {
      "cell_type": "markdown",
      "metadata": {
        "id": "BhnOmruUr65d"
      },
      "source": [
        "##### Variable IP"
      ]
    },
    {
      "cell_type": "code",
      "metadata": {
        "id": "TS96nWsgr65d",
        "outputId": "38860b64-3c67-4565-f381-757e57984a37"
      },
      "source": [
        "df_raw.groupby(\"ip\").count().orderBy(desc(\"count\")).show()"
      ],
      "execution_count": null,
      "outputs": [
        {
          "output_type": "stream",
          "text": [
            "+----------+-----+\n",
            "|        ip|count|\n",
            "+----------+-----+\n",
            "|10.128.2.1| 4257|\n",
            "|10.131.0.1| 4198|\n",
            "|10.130.2.1| 4056|\n",
            "|10.129.2.1| 1652|\n",
            "|10.131.2.1| 1626|\n",
            "|    chmod:|   95|\n",
            "|       rm:|   72|\n",
            "|      [Tue|   17|\n",
            "|       sh:|    7|\n",
            "|      [Thu|    6|\n",
            "|  timeout:|    5|\n",
            "|      [Wed|    5|\n",
            "|      [Mon|    5|\n",
            "|    a.out:|    4|\n",
            "|      [Fri|    1|\n",
            "|      [Sat|    1|\n",
            "+----------+-----+\n",
            "\n"
          ],
          "name": "stdout"
        }
      ]
    },
    {
      "cell_type": "markdown",
      "metadata": {
        "id": "7uRs4UZbr65d"
      },
      "source": [
        "Vemos que existen registros de ip extraños, deberemos estudiar esos registros por si podrían estar dañados o erróneos."
      ]
    },
    {
      "cell_type": "code",
      "metadata": {
        "id": "1Olcip8xr65d"
      },
      "source": [
        "# Recogemos todos los datos donde la ip no coincide una estructura normal.\n",
        "bad_lines = df_raw.filter(~col(\"ip\").startswith(\"10\"))"
      ],
      "execution_count": null,
      "outputs": []
    },
    {
      "cell_type": "code",
      "metadata": {
        "id": "QkueBGsWr65d",
        "outputId": "17d76202-bd7b-4a67-d657-0f3c7360ef15"
      },
      "source": [
        "print(f\"Numero de lineas malas:{bad_lines.count()}\")\n",
        "bad_lines.show()"
      ],
      "execution_count": null,
      "outputs": [
        {
          "output_type": "stream",
          "text": [
            "Numero de lineas malas:218\n",
            "+--------+---------+------------+------------+\n",
            "|      ip|timestamp|       value|      status|\n",
            "+--------+---------+------------+------------+\n",
            "|  chmod:|   cannot|    'a.out':|          No|\n",
            "|  chmod:|   cannot|'error.txt':|          No|\n",
            "|     rm:|   cannot|      '*.o':|          No|\n",
            "|     rm:|   cannot|    'a.out':|          No|\n",
            "|  chmod:|   cannot|'error.txt':|          No|\n",
            "|timeout:|      the|     command|      dumped|\n",
            "|     sh:|     line|         451|Segmentation|\n",
            "|     rm:|   cannot|      '*.o':|          No|\n",
            "|  chmod:|   cannot|    'a.out':|          No|\n",
            "|  chmod:|   cannot|'error.txt':|          No|\n",
            "|     rm:|   cannot|      '*.o':|          No|\n",
            "|  chmod:|   cannot|'error.txt':|          No|\n",
            "|  chmod:|   cannot|'error.txt':|          No|\n",
            "|  chmod:|   cannot|'error.txt':|          No|\n",
            "|     rm:|   cannot|      '*.o':|          No|\n",
            "|  chmod:|   cannot|'error.txt':|          No|\n",
            "|  chmod:|   cannot|    'a.out':|          No|\n",
            "|     rm:|   cannot|      '*.o':|          No|\n",
            "|     rm:|   cannot|    'a.out':|          No|\n",
            "|  chmod:|   cannot|'error.txt':|          No|\n",
            "+--------+---------+------------+------------+\n",
            "only showing top 20 rows\n",
            "\n"
          ],
          "name": "stdout"
        }
      ]
    },
    {
      "cell_type": "markdown",
      "metadata": {
        "id": "TCpi6natr65e"
      },
      "source": [
        "Observamos que se tratarían de registros erróneos que no nos aportara información a nuestro análisis. Entre estos registros vemos que hay muchos datos duplicados antes tomar una decisión sobre que hacer con los datos \n",
        "no aseguremos si existe información en estos registros eliminando los duplicados.\n"
      ]
    },
    {
      "cell_type": "code",
      "metadata": {
        "id": "ZFPhbJGor65e",
        "outputId": "912f27da-fab9-40e7-b8f6-74458f33ec75"
      },
      "source": [
        "bad_lines.dropDuplicates().show(24)"
      ],
      "execution_count": null,
      "outputs": [
        {
          "output_type": "stream",
          "text": [
            "+--------+--------------------+------------+------------+\n",
            "|      ip|           timestamp|       value|      status|\n",
            "+--------+--------------------+------------+------------+\n",
            "|     sh:|                line|        1226|     Aborted|\n",
            "|  a.out:|        main.cpp:51:|     main():|   Assertion|\n",
            "|     rm:|              cannot|    'a.out':|          No|\n",
            "|     sh:|C:WINDOWSSystem32...|         not|       found|\n",
            "|     sh:|                line|         848|     Aborted|\n",
            "|  chmod:|              cannot|'error.txt':|          No|\n",
            "|    [Tue|                 Feb|     24:12.8|       2018]|\n",
            "|     sh:|                line|         451|Segmentation|\n",
            "|  chmod:|              cannot|    'a.out':|          No|\n",
            "|    [Mon|                 Feb|     52:06.9|       2018]|\n",
            "|    [Tue|                 Jan|     02:49.8|       2018]|\n",
            "|timeout:|                 the|     command|      dumped|\n",
            "|    [Wed|                 Dec|     29:09.2|       2017]|\n",
            "|     sh:|                line|        1192|     Aborted|\n",
            "|    [Thu|                 Dec|     44:47.7|       2017]|\n",
            "|    [Tue|                 Jan|     00:53.4|       2018]|\n",
            "|    [Sat|                 Feb|     20:28.3|       2018]|\n",
            "|     sh:|                line|        1243|     Aborted|\n",
            "|  a.out:|        main.cpp:64:|     main():|   Assertion|\n",
            "|    [Tue|                 Dec|     51:47.0|       2017]|\n",
            "|     rm:|              cannot|      '*.o':|          No|\n",
            "|    [Fri|                 Feb|     40:28.7|       2018]|\n",
            "|    [Tue|                 Jan|     12:58.7|       2018]|\n",
            "|    [Thu|                 Jan|     48:37.1|       2018]|\n",
            "+--------+--------------------+------------+------------+\n",
            "\n"
          ],
          "name": "stdout"
        }
      ]
    },
    {
      "cell_type": "markdown",
      "metadata": {
        "id": "PmF3JPMUr65e"
      },
      "source": [
        "Existen 24 registros únicos que se repiten un total de 218 veces a lo largo de nuestro dataframe y no nos aportaría información lo que lo borraríamos para poder centrarnos en los weblog de nuestros clientes."
      ]
    },
    {
      "cell_type": "markdown",
      "metadata": {
        "id": "t1iDgHtUr65e"
      },
      "source": [
        "##### Variable Status"
      ]
    },
    {
      "cell_type": "code",
      "metadata": {
        "id": "-gxaVygdr65e",
        "outputId": "c6cd17cf-9f52-425a-eedc-b91cabd4c7ce"
      },
      "source": [
        "df_raw.groupby(\"status\").count().show()"
      ],
      "execution_count": null,
      "outputs": [
        {
          "output_type": "stream",
          "text": [
            "+------------+-----+\n",
            "|      status|count|\n",
            "+------------+-----+\n",
            "|         200|11330|\n",
            "|       2018]|   28|\n",
            "|     Aborted|    4|\n",
            "|   Assertion|    4|\n",
            "|         206|   52|\n",
            "|         302| 3498|\n",
            "|         404|  251|\n",
            "|       2017]|    7|\n",
            "|      dumped|    5|\n",
            "|          No|  167|\n",
            "|         304|  658|\n",
            "|       found|    2|\n",
            "|Segmentation|    1|\n",
            "+------------+-----+\n",
            "\n"
          ],
          "name": "stdout"
        }
      ]
    },
    {
      "cell_type": "markdown",
      "metadata": {
        "id": "ApRoPkPxr65e"
      },
      "source": [
        "Obtenemos cinco clases de status HTTP junto con 218 registros null."
      ]
    },
    {
      "cell_type": "markdown",
      "metadata": {
        "id": "Al2wa5cYr65f"
      },
      "source": [
        "#### Parte 3. Limpieza y Parseado de los datos "
      ]
    },
    {
      "cell_type": "markdown",
      "metadata": {
        "id": "hp0mXGSfr65f"
      },
      "source": [
        "Según los estudios anteriores que le hemos realizado a nuestro dataFrame nos hemos data cuenta que existen 218 registros erro neos que deberemos eliminar, ademas deberemos parsear nuestros datos para obtener mucho mas información de los mismo. La columna de Value debe dividirse en tres columnas mediante la función regex_extract permitendonos obtener el método, path y protocolo de la weblogs."
      ]
    },
    {
      "cell_type": "code",
      "metadata": {
        "id": "-1wT3PK0r65f"
      },
      "source": [
        "# Eliminamos todos lo registros erroneos\n",
        "df_cleaned = df_raw.filter(col(\"ip\").startswith(\"10\"))"
      ],
      "execution_count": null,
      "outputs": []
    },
    {
      "cell_type": "code",
      "metadata": {
        "id": "NQXIsI9Fr65f",
        "outputId": "f4bf7f84-6b16-4af8-a020-a79d48b6ce0b"
      },
      "source": [
        "# Parseamos nuestros datos y realizamos un split para añadir mas columnas de nuestro interés al dataframe.\n",
        "temp = df_cleaned.withColumn(\"ip\",regexp_extract(col(\"ip\"),r'(\\d{1,3}\\.\\d{1,3}\\.\\d{1,3}\\.\\d{1,3})', 1))\n",
        "temp=  temp.withColumn(\"timestamp\",regexp_extract(col(\"timestamp\"),r'\\[(\\d+\\/\\w{3}\\/\\d{4}:\\d{2}:\\d{2}:\\d{2})', 1))\n",
        "temp = temp.withColumn(\"metodo\",regexp_extract(col(\"value\"),r'(\\w+)\\s+([^\\s]+)\\s+(\\w+\\/\\d+.\\d+)', 1))\n",
        "temp = temp.withColumn(\"path\",regexp_extract(col(\"value\"),r'(\\w+)\\s+([^\\s]+)\\s+(\\w+\\/\\d+.\\d+)', 2))\n",
        "temp = temp.withColumn(\"protocolo\",regexp_extract(col(\"value\"),r'(\\w+)\\s+([^\\s]+)\\s+(\\w+\\/\\d+.\\d+)', 3))\n",
        "temp = temp.withColumn(\"status\",regexp_extract(col(\"status\"),r'(\\d{3})', 1))\n",
        "temp = temp.drop(\"value\")\n",
        "df = temp.select(\"ip\",\"timestamp\",\"metodo\",\"path\",\"protocolo\",\"status\")\n",
        "df.take(10)"
      ],
      "execution_count": null,
      "outputs": [
        {
          "output_type": "execute_result",
          "data": {
            "text/plain": [
              "[Row(ip='10.128.2.1', timestamp='29/Nov/2017:06:58:55', metodo='GET', path='/login.php', protocolo='HTTP/1.1', status='200'),\n",
              " Row(ip='10.128.2.1', timestamp='29/Nov/2017:06:59:02', metodo='POST', path='/process.php', protocolo='HTTP/1.1', status='302'),\n",
              " Row(ip='10.128.2.1', timestamp='29/Nov/2017:06:59:03', metodo='GET', path='/home.php', protocolo='HTTP/1.1', status='200'),\n",
              " Row(ip='10.131.2.1', timestamp='29/Nov/2017:06:59:04', metodo='GET', path='/js/vendor/moment.min.js', protocolo='HTTP/1.1', status='200'),\n",
              " Row(ip='10.130.2.1', timestamp='29/Nov/2017:06:59:06', metodo='GET', path='/bootstrap-3.3.7/js/bootstrap.js', protocolo='HTTP/1.1', status='200'),\n",
              " Row(ip='10.130.2.1', timestamp='29/Nov/2017:06:59:19', metodo='GET', path='/profile.php?user=bala', protocolo='HTTP/1.1', status='200'),\n",
              " Row(ip='10.128.2.1', timestamp='29/Nov/2017:06:59:19', metodo='GET', path='/js/jquery.min.js', protocolo='HTTP/1.1', status='200'),\n",
              " Row(ip='10.131.2.1', timestamp='29/Nov/2017:06:59:19', metodo='GET', path='/js/chart.min.js', protocolo='HTTP/1.1', status='200'),\n",
              " Row(ip='10.131.2.1', timestamp='29/Nov/2017:06:59:30', metodo='GET', path='/edit.php?name=bala', protocolo='HTTP/1.1', status='200'),\n",
              " Row(ip='10.131.2.1', timestamp='29/Nov/2017:06:59:37', metodo='GET', path='/logout.php', protocolo='HTTP/1.1', status='302')]"
            ]
          },
          "metadata": {
            "tags": []
          },
          "execution_count": 33
        }
      ]
    },
    {
      "cell_type": "code",
      "metadata": {
        "id": "Ng4LJecRr65f"
      },
      "source": [
        "# Parseamos la fecha\n",
        "mes = {'Jan':1,'Feb':2,'Mar':3,'Apr':4,'May':5,'Jun':6,'Jul':7,'Aug':8,'Sep':9,'Oct':10,'Nov':11,'Dec':12}\n",
        "def parse_clf_time(s):\n",
        "    return \"{0:02d}-{1:02d}-{2:04d} {3:02d}:{4:02d}:{5:02d}\".format(\n",
        "      int(s[7:11]),\n",
        "      mes[s[3:6]],\n",
        "      int(s[0:2]),\n",
        "      int(s[12:14]),\n",
        "      int(s[15:17]),\n",
        "      int(s[18:20])\n",
        "    )\n",
        "u_parse_time = udf(parse_clf_time)\n",
        "# Una vez parseada la fecha deberemos transformarla la tipología del dato y nos permita obtener mucha mas información de registro.\n",
        "df = df.withColumn(\"timestamp\",u_parse_time(df['timestamp']).cast('timestamp'))"
      ],
      "execution_count": null,
      "outputs": []
    },
    {
      "cell_type": "code",
      "metadata": {
        "id": "PlDxz2I7r65g",
        "outputId": "485a7054-9c60-499f-e0e2-99facd697af5"
      },
      "source": [
        "df.cache()\n",
        "df.take(10)"
      ],
      "execution_count": null,
      "outputs": [
        {
          "output_type": "execute_result",
          "data": {
            "text/plain": [
              "[Row(ip='10.128.2.1', timestamp=datetime.datetime(2017, 11, 29, 6, 58, 55), metodo='GET', path='/login.php', protocolo='HTTP/1.1', status='200'),\n",
              " Row(ip='10.128.2.1', timestamp=datetime.datetime(2017, 11, 29, 6, 59, 2), metodo='POST', path='/process.php', protocolo='HTTP/1.1', status='302'),\n",
              " Row(ip='10.128.2.1', timestamp=datetime.datetime(2017, 11, 29, 6, 59, 3), metodo='GET', path='/home.php', protocolo='HTTP/1.1', status='200'),\n",
              " Row(ip='10.131.2.1', timestamp=datetime.datetime(2017, 11, 29, 6, 59, 4), metodo='GET', path='/js/vendor/moment.min.js', protocolo='HTTP/1.1', status='200'),\n",
              " Row(ip='10.130.2.1', timestamp=datetime.datetime(2017, 11, 29, 6, 59, 6), metodo='GET', path='/bootstrap-3.3.7/js/bootstrap.js', protocolo='HTTP/1.1', status='200'),\n",
              " Row(ip='10.130.2.1', timestamp=datetime.datetime(2017, 11, 29, 6, 59, 19), metodo='GET', path='/profile.php?user=bala', protocolo='HTTP/1.1', status='200'),\n",
              " Row(ip='10.128.2.1', timestamp=datetime.datetime(2017, 11, 29, 6, 59, 19), metodo='GET', path='/js/jquery.min.js', protocolo='HTTP/1.1', status='200'),\n",
              " Row(ip='10.131.2.1', timestamp=datetime.datetime(2017, 11, 29, 6, 59, 19), metodo='GET', path='/js/chart.min.js', protocolo='HTTP/1.1', status='200'),\n",
              " Row(ip='10.131.2.1', timestamp=datetime.datetime(2017, 11, 29, 6, 59, 30), metodo='GET', path='/edit.php?name=bala', protocolo='HTTP/1.1', status='200'),\n",
              " Row(ip='10.131.2.1', timestamp=datetime.datetime(2017, 11, 29, 6, 59, 37), metodo='GET', path='/logout.php', protocolo='HTTP/1.1', status='302')]"
            ]
          },
          "metadata": {
            "tags": []
          },
          "execution_count": 30
        }
      ]
    },
    {
      "cell_type": "markdown",
      "metadata": {
        "id": "2zsWeA5or65g"
      },
      "source": [
        "#### Parte 4. Analysis Walk-Through on the Web Server Log File"
      ]
    },
    {
      "cell_type": "markdown",
      "metadata": {
        "id": "54drOg8or65g"
      },
      "source": [
        "##### 1. ¿Analizá los status de los registros?"
      ]
    },
    {
      "cell_type": "markdown",
      "metadata": {
        "id": "5eDbnnE-r65g"
      },
      "source": [
        "**Status**\n",
        "\n",
        "302 -- El recurso se ha movido temporalmente.\n",
        "\n",
        "304 -- No es necesario retransmitir recursos solicitados\n",
        "\n",
        "200 -- Respuesta satisfactoria.\n",
        "\n",
        "404 -- Error\n",
        "\n",
        "206 -- Contenido partial. "
      ]
    },
    {
      "cell_type": "code",
      "metadata": {
        "id": "BJMIkJ1sr65g",
        "outputId": "d2449cf8-9d8e-4ec8-a2ed-7f48461b5a31"
      },
      "source": [
        "# Analizamos el status del http\n",
        "df.groupby(\"status\").count().orderBy(\"status\").show()"
      ],
      "execution_count": null,
      "outputs": [
        {
          "output_type": "stream",
          "text": [
            "+------+-----+\n",
            "|status|count|\n",
            "+------+-----+\n",
            "|   200|11330|\n",
            "|   206|   52|\n",
            "|   302| 3498|\n",
            "|   304|  658|\n",
            "|   404|  251|\n",
            "+------+-----+\n",
            "\n"
          ],
          "name": "stdout"
        }
      ]
    },
    {
      "cell_type": "markdown",
      "metadata": {
        "id": "CBCHM8e_r65g"
      },
      "source": [
        "Observamos que los principales status de los registros obtenidos se tratan de weblogs que se han realizado con éxito. Observamos que existen también weblogs que han salido defectuosos con el status 404, intentaremos analizar si existe una causa."
      ]
    },
    {
      "cell_type": "code",
      "metadata": {
        "id": "NcI627owr65h",
        "outputId": "7ffdd75f-385f-4c14-ade7-4c85be6eef2e"
      },
      "source": [
        "# Analizamos las conexiones por IP\n",
        "df.where(col(\"status\") == \"404\").groupby(\"ip\").count().show()"
      ],
      "execution_count": null,
      "outputs": [
        {
          "output_type": "stream",
          "text": [
            "+----------+-----+\n",
            "|        ip|count|\n",
            "+----------+-----+\n",
            "|10.131.2.1|   30|\n",
            "|10.128.2.1|   67|\n",
            "|10.130.2.1|   52|\n",
            "|10.131.0.1|   61|\n",
            "|10.129.2.1|   41|\n",
            "+----------+-----+\n",
            "\n"
          ],
          "name": "stdout"
        }
      ]
    },
    {
      "cell_type": "markdown",
      "metadata": {
        "id": "pgFDdkaZr65h"
      },
      "source": [
        "Observamos que hay una distribución uniforme por usuario entre los errores obtenidos en los registros."
      ]
    },
    {
      "cell_type": "code",
      "metadata": {
        "id": "gAnKfELar65h",
        "outputId": "17d008dd-0224-4afc-a2d2-959753dc22e2"
      },
      "source": [
        "# protocolos\n",
        "df.where(col(\"status\") == \"404\").groupby(\"protocolo\").count().show()"
      ],
      "execution_count": null,
      "outputs": [
        {
          "output_type": "stream",
          "text": [
            "+---------+-----+\n",
            "|protocolo|count|\n",
            "+---------+-----+\n",
            "| HTTP/1.1|  251|\n",
            "+---------+-----+\n",
            "\n"
          ],
          "name": "stdout"
        }
      ]
    },
    {
      "cell_type": "markdown",
      "metadata": {
        "id": "_dK3GIJ6r65h"
      },
      "source": [
        "Los errores no se han producido por el uso de un protocolo desactualizado sino que se han producido todos ellos en la versión mas actualizada del dataframe. "
      ]
    },
    {
      "cell_type": "code",
      "metadata": {
        "id": "mjdumaIGr65h",
        "outputId": "4ae03868-5f9c-4544-a5bd-d0a1302eab04"
      },
      "source": [
        "# Analizamos los caminos \n",
        "df.where(col(\"status\") == \"404\").groupby(\"path\").count().orderBy(desc(\"count\")).show(5,False)"
      ],
      "execution_count": null,
      "outputs": [
        {
          "output_type": "stream",
          "text": [
            "+---------------------------------------+-----+\n",
            "|path                                   |count|\n",
            "+---------------------------------------+-----+\n",
            "|/robots.txt                            |224  |\n",
            "|/favicon.ico                           |19   |\n",
            "|/djs/vendor/bootstrap-datetimepicker.js|7    |\n",
            "|/css/bootstrap.min.css.map             |1    |\n",
            "+---------------------------------------+-----+\n",
            "\n"
          ],
          "name": "stdout"
        }
      ]
    },
    {
      "cell_type": "markdown",
      "metadata": {
        "id": "5UFPVLMwr65i"
      },
      "source": [
        "Nos hemos encontrado que los errores en los registros se han obtenido al intentar acceder a cuatro direcciones."
      ]
    },
    {
      "cell_type": "markdown",
      "metadata": {
        "id": "XweUZJb6r65i"
      },
      "source": [
        "##### Principales Web donde se realizan los métodos POST y quien es el usuario que más usa este método"
      ]
    },
    {
      "cell_type": "code",
      "metadata": {
        "id": "oAuNeHzIr65i",
        "outputId": "9ce0eeb1-3840-4caf-ab8d-8f569d4fac17"
      },
      "source": [
        "# Principales Web donde hacemos POST\n",
        "df.where(col(\"metodo\") == \"POST\").groupby(\"path\").count().orderBy(desc(\"count\")).show(10,False)"
      ],
      "execution_count": null,
      "outputs": [
        {
          "output_type": "stream",
          "text": [
            "+----------------------+-----+\n",
            "|path                  |count|\n",
            "+----------------------+-----+\n",
            "|/process.php          |313  |\n",
            "|/compile.php          |96   |\n",
            "|/action.php           |81   |\n",
            "|/pcompile.php         |77   |\n",
            "|/contestsubmission.php|47   |\n",
            "|/allsubmission.php    |26   |\n",
            "|/contestproblem.php   |11   |\n",
            "|/contest.php          |7    |\n",
            "|/archive.php          |7    |\n",
            "|/update.php           |7    |\n",
            "+----------------------+-----+\n",
            "only showing top 10 rows\n",
            "\n"
          ],
          "name": "stdout"
        }
      ]
    },
    {
      "cell_type": "code",
      "metadata": {
        "id": "mlYuvRfwr65i",
        "outputId": "80755ce1-3279-4372-b532-dd22715e1a03"
      },
      "source": [
        "# Usuarios que realizan mas POST\n",
        "df.where(col(\"metodo\") == \"POST\").groupby(\"ip\").count().orderBy(desc(\"count\")).first()"
      ],
      "execution_count": null,
      "outputs": [
        {
          "output_type": "execute_result",
          "data": {
            "text/plain": [
              "Row(ip='10.131.0.1', count=181)"
            ]
          },
          "metadata": {
            "tags": []
          },
          "execution_count": 24
        }
      ]
    },
    {
      "cell_type": "markdown",
      "metadata": {
        "id": "Cd5Wq0lxr65i"
      },
      "source": [
        "##### Cuales son las 3 direcciones mas utilizadas por cada usuario."
      ]
    },
    {
      "cell_type": "code",
      "metadata": {
        "id": "9nLf9rjXr65i"
      },
      "source": [
        "# PATH mas usadas por cada Usuario.\n",
        "ranked =  df.select(\"ip\",\"path\").groupby(\"ip\",\"path\").count().withColumn(\"rank\", dense_rank().over(Window.partitionBy(\"ip\").orderBy(desc(\"count\"))))\n"
      ],
      "execution_count": null,
      "outputs": []
    },
    {
      "cell_type": "code",
      "metadata": {
        "id": "k5nIH3-rr65j",
        "outputId": "f6380c73-500e-4440-ed17-5e28cbaddcf6"
      },
      "source": [
        "ranked.select(\"ip\",\"path\",\"count\",\"rank\").where(col(\"rank\") < 4) .show(20,False)"
      ],
      "execution_count": null,
      "outputs": [
        {
          "output_type": "stream",
          "text": [
            "+----------+---------------------------------------------------------------+-----+----+\n",
            "|ip        |path                                                           |count|rank|\n",
            "+----------+---------------------------------------------------------------+-----+----+\n",
            "|10.131.2.1|/login.php                                                     |174  |1   |\n",
            "|10.131.2.1|/                                                              |138  |2   |\n",
            "|10.131.2.1|/contestproblem.php?name=RUET%20OJ%20Server%20Testing%20Contest|102  |3   |\n",
            "|10.128.2.1|/login.php                                                     |995  |1   |\n",
            "|10.128.2.1|/home.php                                                      |874  |2   |\n",
            "|10.128.2.1|/js/vendor/modernizr-2.8.3.min.js                              |482  |3   |\n",
            "|10.130.2.1|/login.php                                                     |963  |1   |\n",
            "|10.130.2.1|/home.php                                                      |790  |2   |\n",
            "|10.130.2.1|/js/vendor/modernizr-2.8.3.min.js                              |419  |3   |\n",
            "|10.131.0.1|/login.php                                                     |983  |1   |\n",
            "|10.131.0.1|/home.php                                                      |793  |2   |\n",
            "|10.131.0.1|/js/vendor/modernizr-2.8.3.min.js                              |411  |3   |\n",
            "|10.129.2.1|/login.php                                                     |183  |1   |\n",
            "|10.129.2.1|/                                                              |134  |2   |\n",
            "|10.129.2.1|/home.php                                                      |103  |3   |\n",
            "+----------+---------------------------------------------------------------+-----+----+\n",
            "\n"
          ],
          "name": "stdout"
        }
      ]
    },
    {
      "cell_type": "markdown",
      "metadata": {
        "id": "t62m9ZzCr65j"
      },
      "source": [
        "##### Realiza una consulta utilizando las clausulas de date"
      ]
    },
    {
      "cell_type": "code",
      "metadata": {
        "id": "Fp5I5Ye3r65j",
        "outputId": "899dabce-ddac-48d5-acca-00a3f75fc2a3"
      },
      "source": [
        "# timestamps\n",
        "df.groupby(year(\"timestamp\").alias(\"Año\"),month(\"timestamp\").alias(\"Mes\")).count().orderBy(\"Año\",\"Mes\").show()"
      ],
      "execution_count": null,
      "outputs": [
        {
          "output_type": "stream",
          "text": [
            "+----+---+-----+\n",
            "| Año|Mes|count|\n",
            "+----+---+-----+\n",
            "|2017| 11| 7254|\n",
            "|2017| 12| 1929|\n",
            "|2018|  1| 5260|\n",
            "|2018|  2| 1172|\n",
            "|2018|  3|  174|\n",
            "+----+---+-----+\n",
            "\n"
          ],
          "name": "stdout"
        }
      ]
    },
    {
      "cell_type": "code",
      "metadata": {
        "id": "rg56FfAtr65j",
        "outputId": "69a47d99-8bf4-4ed8-80be-681bc44d08e5"
      },
      "source": [
        "df.groupby(hour(\"timestamp\").alias(\"Hora\")).count().orderBy(\"Hora\").show()"
      ],
      "execution_count": null,
      "outputs": [
        {
          "output_type": "stream",
          "text": [
            "+----+-----+\n",
            "|Hora|count|\n",
            "+----+-----+\n",
            "|   0|  118|\n",
            "|   1|   53|\n",
            "|   2|   48|\n",
            "|   3|  164|\n",
            "|   4|  246|\n",
            "|   5|  283|\n",
            "|   6|  575|\n",
            "|   7|  313|\n",
            "|   8|  284|\n",
            "|   9|  187|\n",
            "|  10|  138|\n",
            "|  11|  255|\n",
            "|  12|  732|\n",
            "|  13|  766|\n",
            "|  14|  581|\n",
            "|  15| 1461|\n",
            "|  16| 1169|\n",
            "|  17|  754|\n",
            "|  18|  734|\n",
            "|  19|  847|\n",
            "|  20| 5458|\n",
            "|  21|  240|\n",
            "|  22|  226|\n",
            "|  23|  157|\n",
            "+----+-----+\n",
            "\n"
          ],
          "name": "stdout"
        }
      ]
    }
  ]
}