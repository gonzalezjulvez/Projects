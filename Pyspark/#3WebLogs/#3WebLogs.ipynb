{
  "nbformat": 4,
  "nbformat_minor": 0,
  "metadata": {
    "kernelspec": {
      "display_name": "Python 3",
      "language": "python",
      "name": "python3"
    },
    "language_info": {
      "codemirror_mode": {
        "name": "ipython",
        "version": 3
      },
      "file_extension": ".py",
      "mimetype": "text/x-python",
      "name": "python",
      "nbconvert_exporter": "python",
      "pygments_lexer": "ipython3",
      "version": "3.8.5-final"
    },
    "colab": {
      "name": "#3WebLogs.ipynb",
      "provenance": [],
      "toc_visible": true
    }
  },
  "cells": [
    {
      "cell_type": "markdown",
      "metadata": {
        "id": "m0s66No8r65V"
      },
      "source": [
        "# Spark : Web Server Logs Analysis with Python"
      ]
    },
    {
      "cell_type": "markdown",
      "metadata": {
        "id": "kc8c4l0Pr65Z"
      },
      "source": [
        "El análisis de registros del servidor es un caso de uso ideal para Spark. Es una fuente de datos común muy grande y contiene un rico conjunto de información. Spark le permite almacenar sus registros en archivos en disco de forma económica, al mismo tiempo que proporciona una forma rápida y sencilla de realizar análisis de datos en ellos. Esta tarea le mostrará cómo usar Apache Spark en registros de producción basados en texto del mundo real y aprovechar al máximo el poder de esos datos. Los datos de registro provienen de muchas fuentes, como servidores web, de archivos y de computación, registros de aplicaciones, contenido generado por el usuario, y se pueden usar para monitorear servidores, mejorar la inteligencia comercial y del cliente, crear sistemas de recomendación, detección de fraudes y mucho más."
      ]
    },
    {
      "cell_type": "markdown",
      "metadata": {
        "id": "52mlTFPxr65a"
      },
      "source": [
        "#### Parte 1: Introducción y importación\n",
        "\n",
        "Para este laboratorio, usaremos un conjunto de datos aleatorios del sitio web de Kaggle y contiene todas las solicitudes HTTP durante un año.\n"
      ]
    },
    {
      "cell_type": "code",
      "metadata": {
        "id": "kAhUcRc9r65a"
      },
      "source": [
        "import findspark\n",
        "findspark.init()"
      ],
      "execution_count": 2,
      "outputs": []
    },
    {
      "cell_type": "code",
      "metadata": {
        "id": "VALpNk0rr65a"
      },
      "source": [
        "# Importamos librerias necesarias. \n",
        "from pyspark.sql import SparkSession\n",
        "from pyspark.sql.types import *\n",
        "from pyspark.sql.window import Window\n",
        "from pyspark.sql.functions import *"
      ],
      "execution_count": 3,
      "outputs": []
    },
    {
      "cell_type": "code",
      "metadata": {
        "id": "4Vj_AKBKr65a"
      },
      "source": [
        "# Creamos las Session donde desarrollaremos nuestra aplicación.\n",
        "spark = SparkSession.builder.appName(\"weblog\").getOrCreate()"
      ],
      "execution_count": 4,
      "outputs": []
    },
    {
      "cell_type": "code",
      "metadata": {
        "id": "aHy5mTp5r65b"
      },
      "source": [
        "# Crearemos el esquema donde se alojaran los datos a importar. En nuestro caso obtendremos 4 campos:\n",
        "schema = StructType([\n",
        "StructField(\"ip\",StringType(),False),\n",
        "StructField(\"timestamp\",StringType(),False),\n",
        "StructField(\"value\",StringType(),False),\n",
        "StructField(\"status\",StringType(),False)]\n",
        ")"
      ],
      "execution_count": 5,
      "outputs": []
    },
    {
      "cell_type": "code",
      "metadata": {
        "id": "k9bLKlDar65b"
      },
      "source": [
        "# Importamos los datos del csv\n",
        "df_raw = spark.read.format(\"csv\")\\\n",
        ".option(\"header\",\"true\")\\\n",
        ".option(\"inferSchema\",\"false\")\\\n",
        ".option(\"sep\",\",\")\\\n",
        ".schema(schema)\\\n",
        ".load(\"data/weblog.csv\")"
      ],
      "execution_count": 6,
      "outputs": [
        {
          "output_type": "error",
          "ename": "AnalysisException",
          "evalue": "Path does not exist: file:/c:/Users/javier.gpenalosa/Github/Projects-1/Pyspark/#3WebLogs/data/weblog.csv;",
          "traceback": [
            "\u001b[1;31m---------------------------------------------------------------------------\u001b[0m",
            "\u001b[1;31mAnalysisException\u001b[0m                         Traceback (most recent call last)",
            "\u001b[1;32m<ipython-input-6-4c376d8e2afc>\u001b[0m in \u001b[0;36m<module>\u001b[1;34m\u001b[0m\n\u001b[0;32m      1\u001b[0m \u001b[1;31m# Importamos los datos del csv\u001b[0m\u001b[1;33m\u001b[0m\u001b[1;33m\u001b[0m\u001b[1;33m\u001b[0m\u001b[0m\n\u001b[1;32m----> 2\u001b[1;33m \u001b[0mdf_raw\u001b[0m \u001b[1;33m=\u001b[0m \u001b[0mspark\u001b[0m\u001b[1;33m.\u001b[0m\u001b[0mread\u001b[0m\u001b[1;33m.\u001b[0m\u001b[0mformat\u001b[0m\u001b[1;33m(\u001b[0m\u001b[1;34m\"csv\"\u001b[0m\u001b[1;33m)\u001b[0m\u001b[0;31m\\\u001b[0m\u001b[1;33m\u001b[0m\u001b[1;33m\u001b[0m\u001b[0m\n\u001b[0m\u001b[0;32m      3\u001b[0m \u001b[1;33m.\u001b[0m\u001b[0moption\u001b[0m\u001b[1;33m(\u001b[0m\u001b[1;34m\"header\"\u001b[0m\u001b[1;33m,\u001b[0m\u001b[1;34m\"true\"\u001b[0m\u001b[1;33m)\u001b[0m\u001b[0;31m\\\u001b[0m\u001b[1;33m\u001b[0m\u001b[1;33m\u001b[0m\u001b[0m\n\u001b[0;32m      4\u001b[0m \u001b[1;33m.\u001b[0m\u001b[0moption\u001b[0m\u001b[1;33m(\u001b[0m\u001b[1;34m\"inferSchema\"\u001b[0m\u001b[1;33m,\u001b[0m\u001b[1;34m\"false\"\u001b[0m\u001b[1;33m)\u001b[0m\u001b[0;31m\\\u001b[0m\u001b[1;33m\u001b[0m\u001b[1;33m\u001b[0m\u001b[0m\n\u001b[0;32m      5\u001b[0m \u001b[1;33m.\u001b[0m\u001b[0moption\u001b[0m\u001b[1;33m(\u001b[0m\u001b[1;34m\"sep\"\u001b[0m\u001b[1;33m,\u001b[0m\u001b[1;34m\",\"\u001b[0m\u001b[1;33m)\u001b[0m\u001b[0;31m\\\u001b[0m\u001b[1;33m\u001b[0m\u001b[1;33m\u001b[0m\u001b[0m\n",
            "\u001b[1;32mC:\\spark\\spark-3.0.1-bin-hadoop2.7\\python\\pyspark\\sql\\readwriter.py\u001b[0m in \u001b[0;36mload\u001b[1;34m(self, path, format, schema, **options)\u001b[0m\n\u001b[0;32m    176\u001b[0m         \u001b[0mself\u001b[0m\u001b[1;33m.\u001b[0m\u001b[0moptions\u001b[0m\u001b[1;33m(\u001b[0m\u001b[1;33m**\u001b[0m\u001b[0moptions\u001b[0m\u001b[1;33m)\u001b[0m\u001b[1;33m\u001b[0m\u001b[1;33m\u001b[0m\u001b[0m\n\u001b[0;32m    177\u001b[0m         \u001b[1;32mif\u001b[0m \u001b[0misinstance\u001b[0m\u001b[1;33m(\u001b[0m\u001b[0mpath\u001b[0m\u001b[1;33m,\u001b[0m \u001b[0mbasestring\u001b[0m\u001b[1;33m)\u001b[0m\u001b[1;33m:\u001b[0m\u001b[1;33m\u001b[0m\u001b[1;33m\u001b[0m\u001b[0m\n\u001b[1;32m--> 178\u001b[1;33m             \u001b[1;32mreturn\u001b[0m \u001b[0mself\u001b[0m\u001b[1;33m.\u001b[0m\u001b[0m_df\u001b[0m\u001b[1;33m(\u001b[0m\u001b[0mself\u001b[0m\u001b[1;33m.\u001b[0m\u001b[0m_jreader\u001b[0m\u001b[1;33m.\u001b[0m\u001b[0mload\u001b[0m\u001b[1;33m(\u001b[0m\u001b[0mpath\u001b[0m\u001b[1;33m)\u001b[0m\u001b[1;33m)\u001b[0m\u001b[1;33m\u001b[0m\u001b[1;33m\u001b[0m\u001b[0m\n\u001b[0m\u001b[0;32m    179\u001b[0m         \u001b[1;32melif\u001b[0m \u001b[0mpath\u001b[0m \u001b[1;32mis\u001b[0m \u001b[1;32mnot\u001b[0m \u001b[1;32mNone\u001b[0m\u001b[1;33m:\u001b[0m\u001b[1;33m\u001b[0m\u001b[1;33m\u001b[0m\u001b[0m\n\u001b[0;32m    180\u001b[0m             \u001b[1;32mif\u001b[0m \u001b[0mtype\u001b[0m\u001b[1;33m(\u001b[0m\u001b[0mpath\u001b[0m\u001b[1;33m)\u001b[0m \u001b[1;33m!=\u001b[0m \u001b[0mlist\u001b[0m\u001b[1;33m:\u001b[0m\u001b[1;33m\u001b[0m\u001b[1;33m\u001b[0m\u001b[0m\n",
            "\u001b[1;32mC:\\spark\\spark-3.0.1-bin-hadoop2.7\\python\\lib\\py4j-0.10.9-src.zip\\py4j\\java_gateway.py\u001b[0m in \u001b[0;36m__call__\u001b[1;34m(self, *args)\u001b[0m\n\u001b[0;32m   1302\u001b[0m \u001b[1;33m\u001b[0m\u001b[0m\n\u001b[0;32m   1303\u001b[0m         \u001b[0manswer\u001b[0m \u001b[1;33m=\u001b[0m \u001b[0mself\u001b[0m\u001b[1;33m.\u001b[0m\u001b[0mgateway_client\u001b[0m\u001b[1;33m.\u001b[0m\u001b[0msend_command\u001b[0m\u001b[1;33m(\u001b[0m\u001b[0mcommand\u001b[0m\u001b[1;33m)\u001b[0m\u001b[1;33m\u001b[0m\u001b[1;33m\u001b[0m\u001b[0m\n\u001b[1;32m-> 1304\u001b[1;33m         return_value = get_return_value(\n\u001b[0m\u001b[0;32m   1305\u001b[0m             answer, self.gateway_client, self.target_id, self.name)\n\u001b[0;32m   1306\u001b[0m \u001b[1;33m\u001b[0m\u001b[0m\n",
            "\u001b[1;32mC:\\spark\\spark-3.0.1-bin-hadoop2.7\\python\\pyspark\\sql\\utils.py\u001b[0m in \u001b[0;36mdeco\u001b[1;34m(*a, **kw)\u001b[0m\n\u001b[0;32m    132\u001b[0m                 \u001b[1;31m# Hide where the exception came from that shows a non-Pythonic\u001b[0m\u001b[1;33m\u001b[0m\u001b[1;33m\u001b[0m\u001b[1;33m\u001b[0m\u001b[0m\n\u001b[0;32m    133\u001b[0m                 \u001b[1;31m# JVM exception message.\u001b[0m\u001b[1;33m\u001b[0m\u001b[1;33m\u001b[0m\u001b[1;33m\u001b[0m\u001b[0m\n\u001b[1;32m--> 134\u001b[1;33m                 \u001b[0mraise_from\u001b[0m\u001b[1;33m(\u001b[0m\u001b[0mconverted\u001b[0m\u001b[1;33m)\u001b[0m\u001b[1;33m\u001b[0m\u001b[1;33m\u001b[0m\u001b[0m\n\u001b[0m\u001b[0;32m    135\u001b[0m             \u001b[1;32melse\u001b[0m\u001b[1;33m:\u001b[0m\u001b[1;33m\u001b[0m\u001b[1;33m\u001b[0m\u001b[0m\n\u001b[0;32m    136\u001b[0m                 \u001b[1;32mraise\u001b[0m\u001b[1;33m\u001b[0m\u001b[1;33m\u001b[0m\u001b[0m\n",
            "\u001b[1;32mC:\\spark\\spark-3.0.1-bin-hadoop2.7\\python\\pyspark\\sql\\utils.py\u001b[0m in \u001b[0;36mraise_from\u001b[1;34m(e)\u001b[0m\n",
            "\u001b[1;31mAnalysisException\u001b[0m: Path does not exist: file:/c:/Users/javier.gpenalosa/Github/Projects-1/Pyspark/#3WebLogs/data/weblog.csv;"
          ]
        }
      ]
    },
    {
      "cell_type": "code",
      "metadata": {
        "id": "VxQWm2eDr65b",
        "outputId": "d96d70a5-b1a6-4e54-b03c-656c4f3f3a3a"
      },
      "source": [
        "# Comprobamos si se ha importado el archivo y damos un primer vistazo a nuestros datos.\n",
        "df_raw.show(10, False)"
      ],
      "execution_count": 24,
      "outputs": [
        {
          "output_type": "stream",
          "name": "stdout",
          "text": [
            "+----------+---------------------+---------------------------------------------+------+\n|ip        |timestamp            |value                                        |status|\n+----------+---------------------+---------------------------------------------+------+\n|10.128.2.1|[29/Nov/2017:06:58:55|GET /login.php HTTP/1.1                      |200   |\n|10.128.2.1|[29/Nov/2017:06:59:02|POST /process.php HTTP/1.1                   |302   |\n|10.128.2.1|[29/Nov/2017:06:59:03|GET /home.php HTTP/1.1                       |200   |\n|10.131.2.1|[29/Nov/2017:06:59:04|GET /js/vendor/moment.min.js HTTP/1.1        |200   |\n|10.130.2.1|[29/Nov/2017:06:59:06|GET /bootstrap-3.3.7/js/bootstrap.js HTTP/1.1|200   |\n|10.130.2.1|[29/Nov/2017:06:59:19|GET /profile.php?user=bala HTTP/1.1          |200   |\n|10.128.2.1|[29/Nov/2017:06:59:19|GET /js/jquery.min.js HTTP/1.1               |200   |\n|10.131.2.1|[29/Nov/2017:06:59:19|GET /js/chart.min.js HTTP/1.1                |200   |\n|10.131.2.1|[29/Nov/2017:06:59:30|GET /edit.php?name=bala HTTP/1.1             |200   |\n|10.131.2.1|[29/Nov/2017:06:59:37|GET /logout.php HTTP/1.1                     |302   |\n+----------+---------------------+---------------------------------------------+------+\nonly showing top 10 rows\n\n"
          ]
        }
      ]
    },
    {
      "cell_type": "markdown",
      "metadata": {
        "id": "sz_8SzDzr65c"
      },
      "source": [
        "#### Part 2: Exploratory Data Analysis\n",
        "\n",
        "Una vez importados los datos deberemos realizar un análisis exploratorio permitiéndonos hacernos una idea de la estructura de los datos y su composición."
      ]
    },
    {
      "cell_type": "code",
      "metadata": {
        "id": "PJRFG0Dar65c",
        "outputId": "342fe54d-2d39-4937-d63b-9e18c2e26ab1"
      },
      "source": [
        "print(f\"Numero de registros weblogs: {df_raw.count()}\")\n",
        "df_raw.printSchema()"
      ],
      "execution_count": 25,
      "outputs": [
        {
          "output_type": "stream",
          "name": "stdout",
          "text": [
            "Numero de registros weblogs: 16007\nroot\n |-- ip: string (nullable = true)\n |-- timestamp: string (nullable = true)\n |-- value: string (nullable = true)\n |-- status: string (nullable = true)\n\n"
          ]
        }
      ]
    },
    {
      "cell_type": "code",
      "metadata": {
        "id": "rvqnwJaTr65c",
        "outputId": "ae646191-8d96-4082-b67d-7e89424041f2"
      },
      "source": [
        "df_raw.describe().show()"
      ],
      "execution_count": 26,
      "outputs": [
        {
          "output_type": "stream",
          "name": "stdout",
          "text": [
            "+-------+----------+--------------------+-----------------+------------------+\n|summary|        ip|           timestamp|            value|            status|\n+-------+----------+--------------------+-----------------+------------------+\n|  count|     16007|               16007|            16007|             16007|\n|   mean|      null|                null|            992.0|230.19469250744189|\n| stddev|      null|                null|343.2105767600993| 50.05853522906924|\n|    min|10.128.2.1|C:WINDOWSSystem32...|           '*.o':|               200|\n|    max|  timeout:|                 the|              not|             found|\n+-------+----------+--------------------+-----------------+------------------+\n\n"
          ]
        }
      ]
    },
    {
      "cell_type": "code",
      "metadata": {
        "id": "U6fiB09sr65c",
        "outputId": "00a95220-d58f-45f1-e176-d2077d2527a8"
      },
      "source": [
        "df_raw.select([count(when(isnan(c), c)).alias(c) for c in df_raw.columns]).show()"
      ],
      "execution_count": 27,
      "outputs": [
        {
          "output_type": "stream",
          "name": "stdout",
          "text": [
            "+---+---------+-----+------+\n| ip|timestamp|value|status|\n+---+---------+-----+------+\n|  0|        0|    0|     0|\n+---+---------+-----+------+\n\n"
          ]
        }
      ]
    },
    {
      "cell_type": "markdown",
      "metadata": {
        "id": "2hwPqGdDr65d"
      },
      "source": [
        "#### 2.1 Exploración de variables"
      ]
    },
    {
      "cell_type": "markdown",
      "metadata": {
        "id": "BhnOmruUr65d"
      },
      "source": [
        "##### Variable IP"
      ]
    },
    {
      "cell_type": "code",
      "metadata": {
        "id": "TS96nWsgr65d",
        "outputId": "38860b64-3c67-4565-f381-757e57984a37"
      },
      "source": [
        "df_raw.groupby(\"ip\").count().orderBy(desc(\"count\")).show()"
      ],
      "execution_count": 28,
      "outputs": [
        {
          "output_type": "stream",
          "name": "stdout",
          "text": [
            "+----------+-----+\n|        ip|count|\n+----------+-----+\n|10.128.2.1| 4257|\n|10.131.0.1| 4198|\n|10.130.2.1| 4056|\n|10.129.2.1| 1652|\n|10.131.2.1| 1626|\n|    chmod:|   95|\n|       rm:|   72|\n|      [Tue|   17|\n|       sh:|    7|\n|      [Thu|    6|\n|  timeout:|    5|\n|      [Wed|    5|\n|      [Mon|    5|\n|    a.out:|    4|\n|      [Fri|    1|\n|      [Sat|    1|\n+----------+-----+\n\n"
          ]
        }
      ]
    },
    {
      "cell_type": "markdown",
      "metadata": {
        "id": "7uRs4UZbr65d"
      },
      "source": [
        "Vemos que existen registros de ip extraños, deberemos estudiar esos registros por si podrían estar dañados o erróneos."
      ]
    },
    {
      "cell_type": "code",
      "metadata": {
        "id": "1Olcip8xr65d"
      },
      "source": [
        "# Recogemos todos los datos donde la ip no coincide una estructura normal.\n",
        "bad_lines = df_raw.filter(~col(\"ip\").startswith(\"10\"))"
      ],
      "execution_count": 29,
      "outputs": []
    },
    {
      "cell_type": "code",
      "metadata": {
        "id": "QkueBGsWr65d",
        "outputId": "17d76202-bd7b-4a67-d657-0f3c7360ef15"
      },
      "source": [
        "print(f\"Numero de lineas malas:{bad_lines.count()}\")\n",
        "bad_lines.show()"
      ],
      "execution_count": 30,
      "outputs": [
        {
          "output_type": "stream",
          "name": "stdout",
          "text": [
            "Numero de lineas malas:218\n+--------+---------+------------+------------+\n|      ip|timestamp|       value|      status|\n+--------+---------+------------+------------+\n|  chmod:|   cannot|    'a.out':|          No|\n|  chmod:|   cannot|'error.txt':|          No|\n|     rm:|   cannot|      '*.o':|          No|\n|     rm:|   cannot|    'a.out':|          No|\n|  chmod:|   cannot|'error.txt':|          No|\n|timeout:|      the|     command|      dumped|\n|     sh:|     line|         451|Segmentation|\n|     rm:|   cannot|      '*.o':|          No|\n|  chmod:|   cannot|    'a.out':|          No|\n|  chmod:|   cannot|'error.txt':|          No|\n|     rm:|   cannot|      '*.o':|          No|\n|  chmod:|   cannot|'error.txt':|          No|\n|  chmod:|   cannot|'error.txt':|          No|\n|  chmod:|   cannot|'error.txt':|          No|\n|     rm:|   cannot|      '*.o':|          No|\n|  chmod:|   cannot|'error.txt':|          No|\n|  chmod:|   cannot|    'a.out':|          No|\n|     rm:|   cannot|      '*.o':|          No|\n|     rm:|   cannot|    'a.out':|          No|\n|  chmod:|   cannot|'error.txt':|          No|\n+--------+---------+------------+------------+\nonly showing top 20 rows\n\n"
          ]
        }
      ]
    },
    {
      "cell_type": "markdown",
      "metadata": {
        "id": "TCpi6natr65e"
      },
      "source": [
        "Observamos que se tratarían de registros erróneos que no nos aportara información a nuestro análisis. Entre estos registros vemos que hay muchos datos duplicados antes tomar una decisión sobre que hacer con los datos \n",
        "no aseguremos si existe información en estos registros eliminando los duplicados.\n"
      ]
    },
    {
      "cell_type": "code",
      "metadata": {
        "id": "ZFPhbJGor65e",
        "outputId": "912f27da-fab9-40e7-b8f6-74458f33ec75"
      },
      "source": [
        "bad_lines.dropDuplicates().show(24)"
      ],
      "execution_count": 31,
      "outputs": [
        {
          "output_type": "stream",
          "name": "stdout",
          "text": [
            "+--------+--------------------+------------+------------+\n|      ip|           timestamp|       value|      status|\n+--------+--------------------+------------+------------+\n|     sh:|                line|        1226|     Aborted|\n|  a.out:|        main.cpp:51:|     main():|   Assertion|\n|     rm:|              cannot|    'a.out':|          No|\n|     sh:|C:WINDOWSSystem32...|         not|       found|\n|     sh:|                line|         848|     Aborted|\n|  chmod:|              cannot|'error.txt':|          No|\n|    [Tue|                 Feb|     24:12.8|       2018]|\n|     sh:|                line|         451|Segmentation|\n|  chmod:|              cannot|    'a.out':|          No|\n|    [Mon|                 Feb|     52:06.9|       2018]|\n|    [Tue|                 Jan|     02:49.8|       2018]|\n|timeout:|                 the|     command|      dumped|\n|    [Wed|                 Dec|     29:09.2|       2017]|\n|     sh:|                line|        1192|     Aborted|\n|    [Thu|                 Dec|     44:47.7|       2017]|\n|    [Tue|                 Jan|     00:53.4|       2018]|\n|    [Sat|                 Feb|     20:28.3|       2018]|\n|     sh:|                line|        1243|     Aborted|\n|  a.out:|        main.cpp:64:|     main():|   Assertion|\n|    [Tue|                 Dec|     51:47.0|       2017]|\n|     rm:|              cannot|      '*.o':|          No|\n|    [Fri|                 Feb|     40:28.7|       2018]|\n|    [Tue|                 Jan|     12:58.7|       2018]|\n|    [Thu|                 Jan|     48:37.1|       2018]|\n+--------+--------------------+------------+------------+\n\n"
          ]
        }
      ]
    },
    {
      "cell_type": "markdown",
      "metadata": {
        "id": "PmF3JPMUr65e"
      },
      "source": [
        "Existen 24 registros únicos que se repiten un total de 218 veces a lo largo de nuestro dataframe y no nos aportaría información lo que lo borraríamos para poder centrarnos en los weblog de nuestros clientes."
      ]
    },
    {
      "cell_type": "markdown",
      "metadata": {
        "id": "t1iDgHtUr65e"
      },
      "source": [
        "##### Variable Status"
      ]
    },
    {
      "cell_type": "code",
      "metadata": {
        "id": "-gxaVygdr65e",
        "outputId": "c6cd17cf-9f52-425a-eedc-b91cabd4c7ce"
      },
      "source": [
        "df_raw.groupby(\"status\").count().show()"
      ],
      "execution_count": 32,
      "outputs": [
        {
          "output_type": "stream",
          "name": "stdout",
          "text": [
            "+------------+-----+\n|      status|count|\n+------------+-----+\n|         200|11330|\n|       2018]|   28|\n|     Aborted|    4|\n|   Assertion|    4|\n|         206|   52|\n|         302| 3498|\n|         404|  251|\n|       2017]|    7|\n|      dumped|    5|\n|          No|  167|\n|         304|  658|\n|       found|    2|\n|Segmentation|    1|\n+------------+-----+\n\n"
          ]
        }
      ]
    },
    {
      "cell_type": "markdown",
      "metadata": {
        "id": "ApRoPkPxr65e"
      },
      "source": [
        "Obtenemos cinco clases de status HTTP junto con 218 registros null."
      ]
    },
    {
      "cell_type": "markdown",
      "metadata": {
        "id": "Al2wa5cYr65f"
      },
      "source": [
        "#### Parte 3. Limpieza y Parseado de los datos "
      ]
    },
    {
      "cell_type": "markdown",
      "metadata": {
        "id": "hp0mXGSfr65f"
      },
      "source": [
        "Según los estudios anteriores que le hemos realizado a nuestro dataFrame nos hemos data cuenta que existen 218 registros erro neos que deberemos eliminar, ademas deberemos parsear nuestros datos para obtener mucho mas información de los mismo. La columna de Value debe dividirse en tres columnas mediante la función regex_extract permitendonos obtener el método, path y protocolo de la weblogs."
      ]
    },
    {
      "cell_type": "code",
      "metadata": {
        "id": "-1wT3PK0r65f"
      },
      "source": [
        "# Eliminamos todos lo registros erroneos\n",
        "df_cleaned = df_raw.filter(col(\"ip\").startswith(\"10\"))"
      ],
      "execution_count": 33,
      "outputs": []
    },
    {
      "cell_type": "code",
      "metadata": {
        "id": "NQXIsI9Fr65f",
        "outputId": "f4bf7f84-6b16-4af8-a020-a79d48b6ce0b"
      },
      "source": [
        "# Parseamos nuestros datos y realizamos un split para añadir mas columnas de nuestro interés al dataframe.\n",
        "temp = df_cleaned.withColumn(\"ip\",regexp_extract(col(\"ip\"),r'(\\d{1,3}\\.\\d{1,3}\\.\\d{1,3}\\.\\d{1,3})', 1))\n",
        "temp=  temp.withColumn(\"timestamp\",regexp_extract(col(\"timestamp\"),r'\\[(\\d+\\/\\w{3}\\/\\d{4}:\\d{2}:\\d{2}:\\d{2})', 1))\n",
        "temp = temp.withColumn(\"metodo\",regexp_extract(col(\"value\"),r'(\\w+)\\s+([^\\s]+)\\s+(\\w+\\/\\d+.\\d+)', 1))\n",
        "temp = temp.withColumn(\"path\",regexp_extract(col(\"value\"),r'(\\w+)\\s+([^\\s]+)\\s+(\\w+\\/\\d+.\\d+)', 2))\n",
        "temp = temp.withColumn(\"protocolo\",regexp_extract(col(\"value\"),r'(\\w+)\\s+([^\\s]+)\\s+(\\w+\\/\\d+.\\d+)', 3))\n",
        "temp = temp.withColumn(\"status\",regexp_extract(col(\"status\"),r'(\\d{3})', 1))\n",
        "temp = temp.drop(\"value\")\n",
        "df = temp.select(\"ip\",\"timestamp\",\"metodo\",\"path\",\"protocolo\",\"status\")\n",
        "df.show(10)"
      ],
      "execution_count": 34,
      "outputs": [
        {
          "output_type": "execute_result",
          "data": {
            "text/plain": [
              "[Row(ip='10.128.2.1', timestamp='29/Nov/2017:06:58:55', metodo='GET', path='/login.php', protocolo='HTTP/1.1', status='200'),\n",
              " Row(ip='10.128.2.1', timestamp='29/Nov/2017:06:59:02', metodo='POST', path='/process.php', protocolo='HTTP/1.1', status='302'),\n",
              " Row(ip='10.128.2.1', timestamp='29/Nov/2017:06:59:03', metodo='GET', path='/home.php', protocolo='HTTP/1.1', status='200'),\n",
              " Row(ip='10.131.2.1', timestamp='29/Nov/2017:06:59:04', metodo='GET', path='/js/vendor/moment.min.js', protocolo='HTTP/1.1', status='200'),\n",
              " Row(ip='10.130.2.1', timestamp='29/Nov/2017:06:59:06', metodo='GET', path='/bootstrap-3.3.7/js/bootstrap.js', protocolo='HTTP/1.1', status='200'),\n",
              " Row(ip='10.130.2.1', timestamp='29/Nov/2017:06:59:19', metodo='GET', path='/profile.php?user=bala', protocolo='HTTP/1.1', status='200'),\n",
              " Row(ip='10.128.2.1', timestamp='29/Nov/2017:06:59:19', metodo='GET', path='/js/jquery.min.js', protocolo='HTTP/1.1', status='200'),\n",
              " Row(ip='10.131.2.1', timestamp='29/Nov/2017:06:59:19', metodo='GET', path='/js/chart.min.js', protocolo='HTTP/1.1', status='200'),\n",
              " Row(ip='10.131.2.1', timestamp='29/Nov/2017:06:59:30', metodo='GET', path='/edit.php?name=bala', protocolo='HTTP/1.1', status='200'),\n",
              " Row(ip='10.131.2.1', timestamp='29/Nov/2017:06:59:37', metodo='GET', path='/logout.php', protocolo='HTTP/1.1', status='302')]"
            ]
          },
          "metadata": {},
          "execution_count": 34
        }
      ]
    },
    {
      "cell_type": "code",
      "metadata": {
        "id": "Ng4LJecRr65f"
      },
      "source": [
        "# Parseamos la fecha\n",
        "mes = {'Jan':1,'Feb':2,'Mar':3,'Apr':4,'May':5,'Jun':6,'Jul':7,'Aug':8,'Sep':9,'Oct':10,'Nov':11,'Dec':12}\n",
        "def parse_clf_time(s):\n",
        "    return \"{0:02d}-{1:02d}-{2:04d} {3:02d}:{4:02d}:{5:02d}\".format(\n",
        "      int(s[7:11]),\n",
        "      mes[s[3:6]],\n",
        "      int(s[0:2]),\n",
        "      int(s[12:14]),\n",
        "      int(s[15:17]),\n",
        "      int(s[18:20])\n",
        "    )\n",
        "u_parse_time = udf(parse_clf_time)\n",
        "# Una vez parseada la fecha deberemos transformarla la tipología del dato y nos permita obtener mucha mas información de registro.\n",
        "df = df.withColumn(\"timestamp\",u_parse_time(df['timestamp']).cast('timestamp'))"
      ],
      "execution_count": 35,
      "outputs": []
    },
    {
      "cell_type": "code",
      "metadata": {
        "id": "PlDxz2I7r65g",
        "outputId": "485a7054-9c60-499f-e0e2-99facd697af5"
      },
      "source": [
        "df.cache()\n",
        "df.show(10)"
      ],
      "execution_count": 1,
      "outputs": [
        {
          "output_type": "error",
          "ename": "NameError",
          "evalue": "name 'df' is not defined",
          "traceback": [
            "\u001b[1;31m---------------------------------------------------------------------------\u001b[0m",
            "\u001b[1;31mNameError\u001b[0m                                 Traceback (most recent call last)",
            "\u001b[1;32m<ipython-input-1-e13a02122c36>\u001b[0m in \u001b[0;36m<module>\u001b[1;34m\u001b[0m\n\u001b[1;32m----> 1\u001b[1;33m \u001b[0mdf\u001b[0m\u001b[1;33m.\u001b[0m\u001b[0mcache\u001b[0m\u001b[1;33m(\u001b[0m\u001b[1;33m)\u001b[0m\u001b[1;33m\u001b[0m\u001b[1;33m\u001b[0m\u001b[0m\n\u001b[0m\u001b[0;32m      2\u001b[0m \u001b[0mdf\u001b[0m\u001b[1;33m.\u001b[0m\u001b[0mshow\u001b[0m\u001b[1;33m(\u001b[0m\u001b[1;36m10\u001b[0m\u001b[1;33m)\u001b[0m\u001b[1;33m\u001b[0m\u001b[1;33m\u001b[0m\u001b[0m\n",
            "\u001b[1;31mNameError\u001b[0m: name 'df' is not defined"
          ]
        }
      ]
    },
    {
      "cell_type": "markdown",
      "metadata": {
        "id": "2zsWeA5or65g"
      },
      "source": [
        "#### Parte 4. Analysis Walk-Through on the Web Server Log File"
      ]
    },
    {
      "cell_type": "markdown",
      "metadata": {
        "id": "54drOg8or65g"
      },
      "source": [
        "##### 1. ¿Analizá los status de los registros?"
      ]
    },
    {
      "cell_type": "code",
      "metadata": {
        "id": "BJMIkJ1sr65g",
        "outputId": "d2449cf8-9d8e-4ec8-a2ed-7f48461b5a31"
      },
      "source": [
        "# Analizamos el status del http\n",
        "df.groupby(\"status\").count().orderBy(\"status\").show()"
      ],
      "execution_count": 70,
      "outputs": [
        {
          "output_type": "stream",
          "name": "stdout",
          "text": [
            "+------+-----+\n|status|count|\n+------+-----+\n|   200|11330|\n|   206|   52|\n|   302| 3498|\n|   304|  658|\n|   404|  251|\n+------+-----+\n\n"
          ]
        }
      ]
    },
    {
      "cell_type": "markdown",
      "metadata": {
        "id": "CBCHM8e_r65g"
      },
      "source": [
        "Observamos que los principales status de los registros obtenidos se tratan de weblogs que se han realizado con éxito. Observamos que existen también weblogs que han salido defectuosos con el status 404, intentaremos analizar si existe una causa."
      ]
    },
    {
      "cell_type": "code",
      "metadata": {
        "id": "NcI627owr65h",
        "outputId": "7ffdd75f-385f-4c14-ade7-4c85be6eef2e"
      },
      "source": [
        "# Analizamos las conexiones por IP\n",
        "df.where(col(\"status\") == \"404\").groupby(\"ip\").count().show()"
      ],
      "execution_count": 38,
      "outputs": [
        {
          "output_type": "stream",
          "name": "stdout",
          "text": [
            "+----------+-----+\n|        ip|count|\n+----------+-----+\n|10.131.2.1|   30|\n|10.128.2.1|   67|\n|10.130.2.1|   52|\n|10.131.0.1|   61|\n|10.129.2.1|   41|\n+----------+-----+\n\n"
          ]
        }
      ]
    },
    {
      "cell_type": "markdown",
      "metadata": {
        "id": "pgFDdkaZr65h"
      },
      "source": [
        "Observamos que hay una distribución uniforme por usuario entre los errores obtenidos en los registros."
      ]
    },
    {
      "cell_type": "code",
      "metadata": {
        "id": "gAnKfELar65h",
        "outputId": "17d008dd-0224-4afc-a2d2-959753dc22e2"
      },
      "source": [
        "# protocolos\n",
        "df.where(col(\"status\") == \"404\").groupby(\"protocolo\").count().show()"
      ],
      "execution_count": 39,
      "outputs": [
        {
          "output_type": "stream",
          "name": "stdout",
          "text": [
            "+---------+-----+\n|protocolo|count|\n+---------+-----+\n| HTTP/1.1|  251|\n+---------+-----+\n\n"
          ]
        }
      ]
    },
    {
      "cell_type": "markdown",
      "metadata": {
        "id": "_dK3GIJ6r65h"
      },
      "source": [
        "Los errores no se han producido por el uso de un protocolo desactualizado sino que se han producido todos ellos en la versión mas actualizada del dataframe. "
      ]
    },
    {
      "cell_type": "code",
      "metadata": {
        "id": "mjdumaIGr65h",
        "outputId": "4ae03868-5f9c-4544-a5bd-d0a1302eab04"
      },
      "source": [
        "# Analizamos los caminos \n",
        "df.where(col(\"status\") == \"404\").select(date_format(\"timestamp\",'yyyy-MM-dd').alias(\"dia\")).groupby((\"dia\")).count().orderBy(desc(\"count\")).show(10)"
      ],
      "execution_count": 81,
      "outputs": [
        {
          "output_type": "stream",
          "name": "stdout",
          "text": [
            "+----------+-----+\n|       dia|count|\n+----------+-----+\n|2017-12-21|   23|\n|2017-11-14|   18|\n|2017-11-11|   12|\n|2017-11-30|   12|\n|2017-11-09|   10|\n|2017-11-13|   10|\n|2017-11-16|   10|\n|2017-11-08|    8|\n|2017-11-15|    8|\n|2017-12-20|    7|\n+----------+-----+\nonly showing top 10 rows\n\n"
          ]
        }
      ]
    },
    {
      "cell_type": "code",
      "execution_count": 75,
      "metadata": {},
      "outputs": [
        {
          "output_type": "stream",
          "name": "stdout",
          "text": [
            "+---------------------------------------+-----+\n|path                                   |count|\n+---------------------------------------+-----+\n|/robots.txt                            |224  |\n|/favicon.ico                           |19   |\n|/djs/vendor/bootstrap-datetimepicker.js|7    |\n|/css/bootstrap.min.css.map             |1    |\n+---------------------------------------+-----+\n\n"
          ]
        }
      ],
      "source": [
        "df.where(col(\"status\") == \"404\").groupby(\"path\").count().orderBy(desc(\"count\")).show(5,False)"
      ]
    },
    {
      "cell_type": "markdown",
      "metadata": {
        "id": "5UFPVLMwr65i"
      },
      "source": [
        "Nos hemos encontrado que los errores en los registros se han obtenido al intentar acceder a cuatro direcciones."
      ]
    },
    {
      "cell_type": "markdown",
      "metadata": {
        "id": "XweUZJb6r65i"
      },
      "source": [
        "##### 2. Principales Web donde se realizan los métodos POST y quien es el usuario que más usa este método"
      ]
    },
    {
      "cell_type": "code",
      "metadata": {
        "id": "oAuNeHzIr65i",
        "outputId": "9ce0eeb1-3840-4caf-ab8d-8f569d4fac17"
      },
      "source": [
        "# Principales Web donde hacemos POST\n",
        "df.where(col(\"metodo\") == \"POST\").groupby(\"path\").count().orderBy(desc(\"count\")).show(10,False)"
      ],
      "execution_count": 41,
      "outputs": [
        {
          "output_type": "stream",
          "name": "stdout",
          "text": [
            "+----------------------+-----+\n|path                  |count|\n+----------------------+-----+\n|/process.php          |313  |\n|/compile.php          |96   |\n|/action.php           |81   |\n|/pcompile.php         |77   |\n|/contestsubmission.php|47   |\n|/allsubmission.php    |26   |\n|/contestproblem.php   |11   |\n|/update.php           |7    |\n|/contest.php          |7    |\n|/archive.php          |7    |\n+----------------------+-----+\nonly showing top 10 rows\n\n"
          ]
        }
      ]
    },
    {
      "cell_type": "code",
      "metadata": {
        "id": "mlYuvRfwr65i",
        "outputId": "80755ce1-3279-4372-b532-dd22715e1a03"
      },
      "source": [
        "# Usuario que realizan mas POST\n",
        "df.where(col(\"metodo\") == \"POST\").groupby(\"ip\").count().orderBy(desc(\"count\")).first()"
      ],
      "execution_count": 71,
      "outputs": [
        {
          "output_type": "execute_result",
          "data": {
            "text/plain": [
              "Row(ip='10.131.0.1', count=181)"
            ]
          },
          "metadata": {},
          "execution_count": 71
        }
      ]
    },
    {
      "cell_type": "markdown",
      "metadata": {
        "id": "Cd5Wq0lxr65i"
      },
      "source": [
        "##### 3. Cuales son las 3 direcciones mas utilizadas por cada usuario."
      ]
    },
    {
      "cell_type": "code",
      "metadata": {
        "id": "9nLf9rjXr65i"
      },
      "source": [
        "# PATH mas usadas por cada Usuario.\n",
        "ranked =  df.select(\"ip\",\"path\").groupby(\"ip\",\"path\").count().withColumn(\"rank\", dense_rank().over(Window.partitionBy(\"ip\").orderBy(desc(\"count\"))))\n"
      ],
      "execution_count": 43,
      "outputs": []
    },
    {
      "cell_type": "code",
      "metadata": {
        "id": "k5nIH3-rr65j",
        "outputId": "f6380c73-500e-4440-ed17-5e28cbaddcf6"
      },
      "source": [
        "ranked.select(\"ip\",\"path\",\"count\",\"rank\").where(col(\"rank\") < 4) .show(20,False)"
      ],
      "execution_count": 44,
      "outputs": [
        {
          "output_type": "stream",
          "name": "stdout",
          "text": [
            "+----------+---------------------------------------------------------------+-----+----+\n|ip        |path                                                           |count|rank|\n+----------+---------------------------------------------------------------+-----+----+\n|10.131.2.1|/login.php                                                     |174  |1   |\n|10.131.2.1|/                                                              |138  |2   |\n|10.131.2.1|/contestproblem.php?name=RUET%20OJ%20Server%20Testing%20Contest|102  |3   |\n|10.128.2.1|/login.php                                                     |995  |1   |\n|10.128.2.1|/home.php                                                      |874  |2   |\n|10.128.2.1|/js/vendor/modernizr-2.8.3.min.js                              |482  |3   |\n|10.130.2.1|/login.php                                                     |963  |1   |\n|10.130.2.1|/home.php                                                      |790  |2   |\n|10.130.2.1|/js/vendor/modernizr-2.8.3.min.js                              |419  |3   |\n|10.131.0.1|/login.php                                                     |983  |1   |\n|10.131.0.1|/home.php                                                      |793  |2   |\n|10.131.0.1|/js/vendor/modernizr-2.8.3.min.js                              |411  |3   |\n|10.129.2.1|/login.php                                                     |183  |1   |\n|10.129.2.1|/                                                              |134  |2   |\n|10.129.2.1|/home.php                                                      |103  |3   |\n+----------+---------------------------------------------------------------+-----+----+\n\n"
          ]
        }
      ]
    },
    {
      "source": [
        "#### 4.¿Cuales es el horario más común que la gente entra a la web?"
      ],
      "cell_type": "markdown",
      "metadata": {}
    },
    {
      "cell_type": "code",
      "metadata": {
        "id": "rg56FfAtr65j",
        "outputId": "69a47d99-8bf4-4ed8-80be-681bc44d08e5"
      },
      "source": [
        "horas = df.groupby(hour(\"timestamp\").alias(\"Hora\")).count().orderBy(\"Hora\").toPandas()\n",
        "horas"
      ],
      "execution_count": 74,
      "outputs": [
        {
          "output_type": "execute_result",
          "data": {
            "text/plain": [
              "    Hora  count\n",
              "0      0    118\n",
              "1      1     53\n",
              "2      2     48\n",
              "3      3    164\n",
              "4      4    246\n",
              "5      5    283\n",
              "6      6    575\n",
              "7      7    313\n",
              "8      8    284\n",
              "9      9    187\n",
              "10    10    138\n",
              "11    11    255\n",
              "12    12    732\n",
              "13    13    766\n",
              "14    14    581\n",
              "15    15   1461\n",
              "16    16   1169\n",
              "17    17    754\n",
              "18    18    734\n",
              "19    19    847\n",
              "20    20   5458\n",
              "21    21    240\n",
              "22    22    226\n",
              "23    23    157"
            ],
            "text/html": "<div>\n<style scoped>\n    .dataframe tbody tr th:only-of-type {\n        vertical-align: middle;\n    }\n\n    .dataframe tbody tr th {\n        vertical-align: top;\n    }\n\n    .dataframe thead th {\n        text-align: right;\n    }\n</style>\n<table border=\"1\" class=\"dataframe\">\n  <thead>\n    <tr style=\"text-align: right;\">\n      <th></th>\n      <th>Hora</th>\n      <th>count</th>\n    </tr>\n  </thead>\n  <tbody>\n    <tr>\n      <th>0</th>\n      <td>0</td>\n      <td>118</td>\n    </tr>\n    <tr>\n      <th>1</th>\n      <td>1</td>\n      <td>53</td>\n    </tr>\n    <tr>\n      <th>2</th>\n      <td>2</td>\n      <td>48</td>\n    </tr>\n    <tr>\n      <th>3</th>\n      <td>3</td>\n      <td>164</td>\n    </tr>\n    <tr>\n      <th>4</th>\n      <td>4</td>\n      <td>246</td>\n    </tr>\n    <tr>\n      <th>5</th>\n      <td>5</td>\n      <td>283</td>\n    </tr>\n    <tr>\n      <th>6</th>\n      <td>6</td>\n      <td>575</td>\n    </tr>\n    <tr>\n      <th>7</th>\n      <td>7</td>\n      <td>313</td>\n    </tr>\n    <tr>\n      <th>8</th>\n      <td>8</td>\n      <td>284</td>\n    </tr>\n    <tr>\n      <th>9</th>\n      <td>9</td>\n      <td>187</td>\n    </tr>\n    <tr>\n      <th>10</th>\n      <td>10</td>\n      <td>138</td>\n    </tr>\n    <tr>\n      <th>11</th>\n      <td>11</td>\n      <td>255</td>\n    </tr>\n    <tr>\n      <th>12</th>\n      <td>12</td>\n      <td>732</td>\n    </tr>\n    <tr>\n      <th>13</th>\n      <td>13</td>\n      <td>766</td>\n    </tr>\n    <tr>\n      <th>14</th>\n      <td>14</td>\n      <td>581</td>\n    </tr>\n    <tr>\n      <th>15</th>\n      <td>15</td>\n      <td>1461</td>\n    </tr>\n    <tr>\n      <th>16</th>\n      <td>16</td>\n      <td>1169</td>\n    </tr>\n    <tr>\n      <th>17</th>\n      <td>17</td>\n      <td>754</td>\n    </tr>\n    <tr>\n      <th>18</th>\n      <td>18</td>\n      <td>734</td>\n    </tr>\n    <tr>\n      <th>19</th>\n      <td>19</td>\n      <td>847</td>\n    </tr>\n    <tr>\n      <th>20</th>\n      <td>20</td>\n      <td>5458</td>\n    </tr>\n    <tr>\n      <th>21</th>\n      <td>21</td>\n      <td>240</td>\n    </tr>\n    <tr>\n      <th>22</th>\n      <td>22</td>\n      <td>226</td>\n    </tr>\n    <tr>\n      <th>23</th>\n      <td>23</td>\n      <td>157</td>\n    </tr>\n  </tbody>\n</table>\n</div>"
          },
          "metadata": {},
          "execution_count": 74
        }
      ]
    },
    {
      "cell_type": "code",
      "execution_count": 59,
      "metadata": {},
      "outputs": [],
      "source": [
        "import pandas as pd\n",
        "import matplotlib.pyplot as plt\n",
        "%matplotlib inline"
      ]
    },
    {
      "cell_type": "code",
      "execution_count": 68,
      "metadata": {},
      "outputs": [
        {
          "output_type": "display_data",
          "data": {
            "text/plain": "<Figure size 720x432 with 1 Axes>",
            "image/svg+xml": "<?xml version=\"1.0\" encoding=\"utf-8\" standalone=\"no\"?>\r\n<!DOCTYPE svg PUBLIC \"-//W3C//DTD SVG 1.1//EN\"\r\n  \"http://www.w3.org/Graphics/SVG/1.1/DTD/svg11.dtd\">\r\n<!-- Created with matplotlib (https://matplotlib.org/) -->\r\n<svg height=\"401.79125pt\" version=\"1.1\" viewBox=\"0 0 616.7 401.79125\" width=\"616.7pt\" xmlns=\"http://www.w3.org/2000/svg\" xmlns:xlink=\"http://www.w3.org/1999/xlink\">\r\n <metadata>\r\n  <rdf:RDF xmlns:cc=\"http://creativecommons.org/ns#\" xmlns:dc=\"http://purl.org/dc/elements/1.1/\" xmlns:rdf=\"http://www.w3.org/1999/02/22-rdf-syntax-ns#\">\r\n   <cc:Work>\r\n    <dc:type rdf:resource=\"http://purl.org/dc/dcmitype/StillImage\"/>\r\n    <dc:date>2021-01-13T09:17:26.811003</dc:date>\r\n    <dc:format>image/svg+xml</dc:format>\r\n    <dc:creator>\r\n     <cc:Agent>\r\n      <dc:title>Matplotlib v3.3.2, https://matplotlib.org/</dc:title>\r\n     </cc:Agent>\r\n    </dc:creator>\r\n   </cc:Work>\r\n  </rdf:RDF>\r\n </metadata>\r\n <defs>\r\n  <style type=\"text/css\">*{stroke-linecap:butt;stroke-linejoin:round;}</style>\r\n </defs>\r\n <g id=\"figure_1\">\r\n  <g id=\"patch_1\">\r\n   <path d=\"M 0 401.79125 \r\nL 616.7 401.79125 \r\nL 616.7 0 \r\nL 0 0 \r\nz\r\n\" style=\"fill:none;\"/>\r\n  </g>\r\n  <g id=\"axes_1\">\r\n   <g id=\"patch_2\">\r\n    <path d=\"M 51.5 354.556875 \r\nL 609.5 354.556875 \r\nL 609.5 28.396875 \r\nL 51.5 28.396875 \r\nz\r\n\" style=\"fill:#ffffff;\"/>\r\n   </g>\r\n   <g id=\"patch_3\">\r\n    <path clip-path=\"url(#pc64c5e2b46)\" d=\"M 51.5 351.201319 \r\nL 62.989295 351.201319 \r\nL 62.989295 340.463542 \r\nL 51.5 340.463542 \r\nz\r\n\" style=\"fill:#1f77b4;\"/>\r\n   </g>\r\n   <g id=\"patch_4\">\r\n    <path clip-path=\"url(#pc64c5e2b46)\" d=\"M 51.5 337.779097 \r\nL 56.660446 337.779097 \r\nL 56.660446 327.041319 \r\nL 51.5 327.041319 \r\nz\r\n\" style=\"fill:#1f77b4;\"/>\r\n   </g>\r\n   <g id=\"patch_5\">\r\n    <path clip-path=\"url(#pc64c5e2b46)\" d=\"M 51.5 324.356875 \r\nL 56.173611 324.356875 \r\nL 56.173611 313.619097 \r\nL 51.5 313.619097 \r\nz\r\n\" style=\"fill:#1f77b4;\"/>\r\n   </g>\r\n   <g id=\"patch_6\">\r\n    <path clip-path=\"url(#pc64c5e2b46)\" d=\"M 51.5 310.934653 \r\nL 67.468173 310.934653 \r\nL 67.468173 300.196875 \r\nL 51.5 300.196875 \r\nz\r\n\" style=\"fill:#1f77b4;\"/>\r\n   </g>\r\n   <g id=\"patch_7\">\r\n    <path clip-path=\"url(#pc64c5e2b46)\" d=\"M 51.5 297.512431 \r\nL 75.452259 297.512431 \r\nL 75.452259 286.774653 \r\nL 51.5 286.774653 \r\nz\r\n\" style=\"fill:#1f77b4;\"/>\r\n   </g>\r\n   <g id=\"patch_8\">\r\n    <path clip-path=\"url(#pc64c5e2b46)\" d=\"M 51.5 284.090208 \r\nL 79.054834 284.090208 \r\nL 79.054834 273.352431 \r\nL 51.5 273.352431 \r\nz\r\n\" style=\"fill:#1f77b4;\"/>\r\n   </g>\r\n   <g id=\"patch_9\">\r\n    <path clip-path=\"url(#pc64c5e2b46)\" d=\"M 51.5 270.667986 \r\nL 107.485971 270.667986 \r\nL 107.485971 259.930208 \r\nL 51.5 259.930208 \r\nz\r\n\" style=\"fill:#1f77b4;\"/>\r\n   </g>\r\n   <g id=\"patch_10\">\r\n    <path clip-path=\"url(#pc64c5e2b46)\" d=\"M 51.5 257.245764 \r\nL 81.975841 257.245764 \r\nL 81.975841 246.507986 \r\nL 51.5 246.507986 \r\nz\r\n\" style=\"fill:#1f77b4;\"/>\r\n   </g>\r\n   <g id=\"patch_11\">\r\n    <path clip-path=\"url(#pc64c5e2b46)\" d=\"M 51.5 243.823542 \r\nL 79.152201 243.823542 \r\nL 79.152201 233.085764 \r\nL 51.5 233.085764 \r\nz\r\n\" style=\"fill:#1f77b4;\"/>\r\n   </g>\r\n   <g id=\"patch_12\">\r\n    <path clip-path=\"url(#pc64c5e2b46)\" d=\"M 51.5 230.401319 \r\nL 69.707611 230.401319 \r\nL 69.707611 219.663542 \r\nL 51.5 219.663542 \r\nz\r\n\" style=\"fill:#1f77b4;\"/>\r\n   </g>\r\n   <g id=\"patch_13\">\r\n    <path clip-path=\"url(#pc64c5e2b46)\" d=\"M 51.5 216.979097 \r\nL 64.936633 216.979097 \r\nL 64.936633 206.241319 \r\nL 51.5 206.241319 \r\nz\r\n\" style=\"fill:#1f77b4;\"/>\r\n   </g>\r\n   <g id=\"patch_14\">\r\n    <path clip-path=\"url(#pc64c5e2b46)\" d=\"M 51.5 203.556875 \r\nL 76.328561 203.556875 \r\nL 76.328561 192.819097 \r\nL 51.5 192.819097 \r\nz\r\n\" style=\"fill:#1f77b4;\"/>\r\n   </g>\r\n   <g id=\"patch_15\">\r\n    <path clip-path=\"url(#pc64c5e2b46)\" d=\"M 51.5 190.134653 \r\nL 122.772575 190.134653 \r\nL 122.772575 179.396875 \r\nL 51.5 179.396875 \r\nz\r\n\" style=\"fill:#1f77b4;\"/>\r\n   </g>\r\n   <g id=\"patch_16\">\r\n    <path clip-path=\"url(#pc64c5e2b46)\" d=\"M 51.5 176.712431 \r\nL 126.08305 176.712431 \r\nL 126.08305 165.974653 \r\nL 51.5 165.974653 \r\nz\r\n\" style=\"fill:#1f77b4;\"/>\r\n   </g>\r\n   <g id=\"patch_17\">\r\n    <path clip-path=\"url(#pc64c5e2b46)\" d=\"M 51.5 163.290208 \r\nL 108.070172 163.290208 \r\nL 108.070172 152.552431 \r\nL 51.5 152.552431 \r\nz\r\n\" style=\"fill:#1f77b4;\"/>\r\n   </g>\r\n   <g id=\"patch_18\">\r\n    <path clip-path=\"url(#pc64c5e2b46)\" d=\"M 51.5 149.867986 \r\nL 193.753049 149.867986 \r\nL 193.753049 139.130208 \r\nL 51.5 139.130208 \r\nz\r\n\" style=\"fill:#1f77b4;\"/>\r\n   </g>\r\n   <g id=\"patch_19\">\r\n    <path clip-path=\"url(#pc64c5e2b46)\" d=\"M 51.5 136.445764 \r\nL 165.321913 136.445764 \r\nL 165.321913 125.707986 \r\nL 51.5 125.707986 \r\nz\r\n\" style=\"fill:#1f77b4;\"/>\r\n   </g>\r\n   <g id=\"patch_20\">\r\n    <path clip-path=\"url(#pc64c5e2b46)\" d=\"M 51.5 123.023542 \r\nL 124.914647 123.023542 \r\nL 124.914647 112.285764 \r\nL 51.5 112.285764 \r\nz\r\n\" style=\"fill:#1f77b4;\"/>\r\n   </g>\r\n   <g id=\"patch_21\">\r\n    <path clip-path=\"url(#pc64c5e2b46)\" d=\"M 51.5 109.601319 \r\nL 122.967309 109.601319 \r\nL 122.967309 98.863542 \r\nL 51.5 98.863542 \r\nz\r\n\" style=\"fill:#1f77b4;\"/>\r\n   </g>\r\n   <g id=\"patch_22\">\r\n    <path clip-path=\"url(#pc64c5e2b46)\" d=\"M 51.5 96.179097 \r\nL 133.969769 96.179097 \r\nL 133.969769 85.441319 \r\nL 51.5 85.441319 \r\nz\r\n\" style=\"fill:#1f77b4;\"/>\r\n   </g>\r\n   <g id=\"patch_23\">\r\n    <path clip-path=\"url(#pc64c5e2b46)\" d=\"M 51.5 82.756875 \r\nL 582.928571 82.756875 \r\nL 582.928571 72.019097 \r\nL 51.5 72.019097 \r\nz\r\n\" style=\"fill:#1f77b4;\"/>\r\n   </g>\r\n   <g id=\"patch_24\">\r\n    <path clip-path=\"url(#pc64c5e2b46)\" d=\"M 51.5 69.334653 \r\nL 74.868057 69.334653 \r\nL 74.868057 58.596875 \r\nL 51.5 58.596875 \r\nz\r\n\" style=\"fill:#1f77b4;\"/>\r\n   </g>\r\n   <g id=\"patch_25\">\r\n    <path clip-path=\"url(#pc64c5e2b46)\" d=\"M 51.5 55.912431 \r\nL 73.504921 55.912431 \r\nL 73.504921 45.174653 \r\nL 51.5 45.174653 \r\nz\r\n\" style=\"fill:#1f77b4;\"/>\r\n   </g>\r\n   <g id=\"patch_26\">\r\n    <path clip-path=\"url(#pc64c5e2b46)\" d=\"M 51.5 42.490208 \r\nL 66.786604 42.490208 \r\nL 66.786604 31.752431 \r\nL 51.5 31.752431 \r\nz\r\n\" style=\"fill:#1f77b4;\"/>\r\n   </g>\r\n   <g id=\"matplotlib.axis_1\">\r\n    <g id=\"xtick_1\">\r\n     <g id=\"line2d_1\">\r\n      <defs>\r\n       <path d=\"M 0 0 \r\nL 0 3.5 \r\n\" id=\"m2ab45e23ea\" style=\"stroke:#000000;stroke-width:0.8;\"/>\r\n      </defs>\r\n      <g>\r\n       <use style=\"stroke:#000000;stroke-width:0.8;\" x=\"51.5\" xlink:href=\"#m2ab45e23ea\" y=\"354.556875\"/>\r\n      </g>\r\n     </g>\r\n     <g id=\"text_1\">\r\n      <!-- 0 -->\r\n      <g transform=\"translate(47.04625 372.194687)scale(0.14 -0.14)\">\r\n       <defs>\r\n        <path d=\"M 31.78125 66.40625 \r\nQ 24.171875 66.40625 20.328125 58.90625 \r\nQ 16.5 51.421875 16.5 36.375 \r\nQ 16.5 21.390625 20.328125 13.890625 \r\nQ 24.171875 6.390625 31.78125 6.390625 \r\nQ 39.453125 6.390625 43.28125 13.890625 \r\nQ 47.125 21.390625 47.125 36.375 \r\nQ 47.125 51.421875 43.28125 58.90625 \r\nQ 39.453125 66.40625 31.78125 66.40625 \r\nz\r\nM 31.78125 74.21875 \r\nQ 44.046875 74.21875 50.515625 64.515625 \r\nQ 56.984375 54.828125 56.984375 36.375 \r\nQ 56.984375 17.96875 50.515625 8.265625 \r\nQ 44.046875 -1.421875 31.78125 -1.421875 \r\nQ 19.53125 -1.421875 13.0625 8.265625 \r\nQ 6.59375 17.96875 6.59375 36.375 \r\nQ 6.59375 54.828125 13.0625 64.515625 \r\nQ 19.53125 74.21875 31.78125 74.21875 \r\nz\r\n\" id=\"DejaVuSans-48\"/>\r\n       </defs>\r\n       <use xlink:href=\"#DejaVuSans-48\"/>\r\n      </g>\r\n     </g>\r\n    </g>\r\n    <g id=\"xtick_2\">\r\n     <g id=\"line2d_2\">\r\n      <g>\r\n       <use style=\"stroke:#000000;stroke-width:0.8;\" x=\"148.866906\" xlink:href=\"#m2ab45e23ea\" y=\"354.556875\"/>\r\n      </g>\r\n     </g>\r\n     <g id=\"text_2\">\r\n      <!-- 1000 -->\r\n      <g transform=\"translate(131.051906 372.194687)scale(0.14 -0.14)\">\r\n       <defs>\r\n        <path d=\"M 12.40625 8.296875 \r\nL 28.515625 8.296875 \r\nL 28.515625 63.921875 \r\nL 10.984375 60.40625 \r\nL 10.984375 69.390625 \r\nL 28.421875 72.90625 \r\nL 38.28125 72.90625 \r\nL 38.28125 8.296875 \r\nL 54.390625 8.296875 \r\nL 54.390625 0 \r\nL 12.40625 0 \r\nz\r\n\" id=\"DejaVuSans-49\"/>\r\n       </defs>\r\n       <use xlink:href=\"#DejaVuSans-49\"/>\r\n       <use x=\"63.623047\" xlink:href=\"#DejaVuSans-48\"/>\r\n       <use x=\"127.246094\" xlink:href=\"#DejaVuSans-48\"/>\r\n       <use x=\"190.869141\" xlink:href=\"#DejaVuSans-48\"/>\r\n      </g>\r\n     </g>\r\n    </g>\r\n    <g id=\"xtick_3\">\r\n     <g id=\"line2d_3\">\r\n      <g>\r\n       <use style=\"stroke:#000000;stroke-width:0.8;\" x=\"246.233811\" xlink:href=\"#m2ab45e23ea\" y=\"354.556875\"/>\r\n      </g>\r\n     </g>\r\n     <g id=\"text_3\">\r\n      <!-- 2000 -->\r\n      <g transform=\"translate(228.418811 372.194687)scale(0.14 -0.14)\">\r\n       <defs>\r\n        <path d=\"M 19.1875 8.296875 \r\nL 53.609375 8.296875 \r\nL 53.609375 0 \r\nL 7.328125 0 \r\nL 7.328125 8.296875 \r\nQ 12.9375 14.109375 22.625 23.890625 \r\nQ 32.328125 33.6875 34.8125 36.53125 \r\nQ 39.546875 41.84375 41.421875 45.53125 \r\nQ 43.3125 49.21875 43.3125 52.78125 \r\nQ 43.3125 58.59375 39.234375 62.25 \r\nQ 35.15625 65.921875 28.609375 65.921875 \r\nQ 23.96875 65.921875 18.8125 64.3125 \r\nQ 13.671875 62.703125 7.8125 59.421875 \r\nL 7.8125 69.390625 \r\nQ 13.765625 71.78125 18.9375 73 \r\nQ 24.125 74.21875 28.421875 74.21875 \r\nQ 39.75 74.21875 46.484375 68.546875 \r\nQ 53.21875 62.890625 53.21875 53.421875 \r\nQ 53.21875 48.921875 51.53125 44.890625 \r\nQ 49.859375 40.875 45.40625 35.40625 \r\nQ 44.1875 33.984375 37.640625 27.21875 \r\nQ 31.109375 20.453125 19.1875 8.296875 \r\nz\r\n\" id=\"DejaVuSans-50\"/>\r\n       </defs>\r\n       <use xlink:href=\"#DejaVuSans-50\"/>\r\n       <use x=\"63.623047\" xlink:href=\"#DejaVuSans-48\"/>\r\n       <use x=\"127.246094\" xlink:href=\"#DejaVuSans-48\"/>\r\n       <use x=\"190.869141\" xlink:href=\"#DejaVuSans-48\"/>\r\n      </g>\r\n     </g>\r\n    </g>\r\n    <g id=\"xtick_4\">\r\n     <g id=\"line2d_4\">\r\n      <g>\r\n       <use style=\"stroke:#000000;stroke-width:0.8;\" x=\"343.600717\" xlink:href=\"#m2ab45e23ea\" y=\"354.556875\"/>\r\n      </g>\r\n     </g>\r\n     <g id=\"text_4\">\r\n      <!-- 3000 -->\r\n      <g transform=\"translate(325.785717 372.194687)scale(0.14 -0.14)\">\r\n       <defs>\r\n        <path d=\"M 40.578125 39.3125 \r\nQ 47.65625 37.796875 51.625 33 \r\nQ 55.609375 28.21875 55.609375 21.1875 \r\nQ 55.609375 10.40625 48.1875 4.484375 \r\nQ 40.765625 -1.421875 27.09375 -1.421875 \r\nQ 22.515625 -1.421875 17.65625 -0.515625 \r\nQ 12.796875 0.390625 7.625 2.203125 \r\nL 7.625 11.71875 \r\nQ 11.71875 9.328125 16.59375 8.109375 \r\nQ 21.484375 6.890625 26.8125 6.890625 \r\nQ 36.078125 6.890625 40.9375 10.546875 \r\nQ 45.796875 14.203125 45.796875 21.1875 \r\nQ 45.796875 27.640625 41.28125 31.265625 \r\nQ 36.765625 34.90625 28.71875 34.90625 \r\nL 20.21875 34.90625 \r\nL 20.21875 43.015625 \r\nL 29.109375 43.015625 \r\nQ 36.375 43.015625 40.234375 45.921875 \r\nQ 44.09375 48.828125 44.09375 54.296875 \r\nQ 44.09375 59.90625 40.109375 62.90625 \r\nQ 36.140625 65.921875 28.71875 65.921875 \r\nQ 24.65625 65.921875 20.015625 65.03125 \r\nQ 15.375 64.15625 9.8125 62.3125 \r\nL 9.8125 71.09375 \r\nQ 15.4375 72.65625 20.34375 73.4375 \r\nQ 25.25 74.21875 29.59375 74.21875 \r\nQ 40.828125 74.21875 47.359375 69.109375 \r\nQ 53.90625 64.015625 53.90625 55.328125 \r\nQ 53.90625 49.265625 50.4375 45.09375 \r\nQ 46.96875 40.921875 40.578125 39.3125 \r\nz\r\n\" id=\"DejaVuSans-51\"/>\r\n       </defs>\r\n       <use xlink:href=\"#DejaVuSans-51\"/>\r\n       <use x=\"63.623047\" xlink:href=\"#DejaVuSans-48\"/>\r\n       <use x=\"127.246094\" xlink:href=\"#DejaVuSans-48\"/>\r\n       <use x=\"190.869141\" xlink:href=\"#DejaVuSans-48\"/>\r\n      </g>\r\n     </g>\r\n    </g>\r\n    <g id=\"xtick_5\">\r\n     <g id=\"line2d_5\">\r\n      <g>\r\n       <use style=\"stroke:#000000;stroke-width:0.8;\" x=\"440.967623\" xlink:href=\"#m2ab45e23ea\" y=\"354.556875\"/>\r\n      </g>\r\n     </g>\r\n     <g id=\"text_5\">\r\n      <!-- 4000 -->\r\n      <g transform=\"translate(423.152623 372.194687)scale(0.14 -0.14)\">\r\n       <defs>\r\n        <path d=\"M 37.796875 64.3125 \r\nL 12.890625 25.390625 \r\nL 37.796875 25.390625 \r\nz\r\nM 35.203125 72.90625 \r\nL 47.609375 72.90625 \r\nL 47.609375 25.390625 \r\nL 58.015625 25.390625 \r\nL 58.015625 17.1875 \r\nL 47.609375 17.1875 \r\nL 47.609375 0 \r\nL 37.796875 0 \r\nL 37.796875 17.1875 \r\nL 4.890625 17.1875 \r\nL 4.890625 26.703125 \r\nz\r\n\" id=\"DejaVuSans-52\"/>\r\n       </defs>\r\n       <use xlink:href=\"#DejaVuSans-52\"/>\r\n       <use x=\"63.623047\" xlink:href=\"#DejaVuSans-48\"/>\r\n       <use x=\"127.246094\" xlink:href=\"#DejaVuSans-48\"/>\r\n       <use x=\"190.869141\" xlink:href=\"#DejaVuSans-48\"/>\r\n      </g>\r\n     </g>\r\n    </g>\r\n    <g id=\"xtick_6\">\r\n     <g id=\"line2d_6\">\r\n      <g>\r\n       <use style=\"stroke:#000000;stroke-width:0.8;\" x=\"538.334529\" xlink:href=\"#m2ab45e23ea\" y=\"354.556875\"/>\r\n      </g>\r\n     </g>\r\n     <g id=\"text_6\">\r\n      <!-- 5000 -->\r\n      <g transform=\"translate(520.519529 372.194687)scale(0.14 -0.14)\">\r\n       <defs>\r\n        <path d=\"M 10.796875 72.90625 \r\nL 49.515625 72.90625 \r\nL 49.515625 64.59375 \r\nL 19.828125 64.59375 \r\nL 19.828125 46.734375 \r\nQ 21.96875 47.46875 24.109375 47.828125 \r\nQ 26.265625 48.1875 28.421875 48.1875 \r\nQ 40.625 48.1875 47.75 41.5 \r\nQ 54.890625 34.8125 54.890625 23.390625 \r\nQ 54.890625 11.625 47.5625 5.09375 \r\nQ 40.234375 -1.421875 26.90625 -1.421875 \r\nQ 22.3125 -1.421875 17.546875 -0.640625 \r\nQ 12.796875 0.140625 7.71875 1.703125 \r\nL 7.71875 11.625 \r\nQ 12.109375 9.234375 16.796875 8.0625 \r\nQ 21.484375 6.890625 26.703125 6.890625 \r\nQ 35.15625 6.890625 40.078125 11.328125 \r\nQ 45.015625 15.765625 45.015625 23.390625 \r\nQ 45.015625 31 40.078125 35.4375 \r\nQ 35.15625 39.890625 26.703125 39.890625 \r\nQ 22.75 39.890625 18.8125 39.015625 \r\nQ 14.890625 38.140625 10.796875 36.28125 \r\nz\r\n\" id=\"DejaVuSans-53\"/>\r\n       </defs>\r\n       <use xlink:href=\"#DejaVuSans-53\"/>\r\n       <use x=\"63.623047\" xlink:href=\"#DejaVuSans-48\"/>\r\n       <use x=\"127.246094\" xlink:href=\"#DejaVuSans-48\"/>\r\n       <use x=\"190.869141\" xlink:href=\"#DejaVuSans-48\"/>\r\n      </g>\r\n     </g>\r\n    </g>\r\n    <g id=\"text_7\">\r\n     <!-- Count -->\r\n     <g transform=\"translate(306.7425 391.26375)scale(0.16 -0.16)\">\r\n      <defs>\r\n       <path d=\"M 64.40625 67.28125 \r\nL 64.40625 56.890625 \r\nQ 59.421875 61.53125 53.78125 63.8125 \r\nQ 48.140625 66.109375 41.796875 66.109375 \r\nQ 29.296875 66.109375 22.65625 58.46875 \r\nQ 16.015625 50.828125 16.015625 36.375 \r\nQ 16.015625 21.96875 22.65625 14.328125 \r\nQ 29.296875 6.6875 41.796875 6.6875 \r\nQ 48.140625 6.6875 53.78125 8.984375 \r\nQ 59.421875 11.28125 64.40625 15.921875 \r\nL 64.40625 5.609375 \r\nQ 59.234375 2.09375 53.4375 0.328125 \r\nQ 47.65625 -1.421875 41.21875 -1.421875 \r\nQ 24.65625 -1.421875 15.125 8.703125 \r\nQ 5.609375 18.84375 5.609375 36.375 \r\nQ 5.609375 53.953125 15.125 64.078125 \r\nQ 24.65625 74.21875 41.21875 74.21875 \r\nQ 47.75 74.21875 53.53125 72.484375 \r\nQ 59.328125 70.75 64.40625 67.28125 \r\nz\r\n\" id=\"DejaVuSans-67\"/>\r\n       <path d=\"M 30.609375 48.390625 \r\nQ 23.390625 48.390625 19.1875 42.75 \r\nQ 14.984375 37.109375 14.984375 27.296875 \r\nQ 14.984375 17.484375 19.15625 11.84375 \r\nQ 23.34375 6.203125 30.609375 6.203125 \r\nQ 37.796875 6.203125 41.984375 11.859375 \r\nQ 46.1875 17.53125 46.1875 27.296875 \r\nQ 46.1875 37.015625 41.984375 42.703125 \r\nQ 37.796875 48.390625 30.609375 48.390625 \r\nz\r\nM 30.609375 56 \r\nQ 42.328125 56 49.015625 48.375 \r\nQ 55.71875 40.765625 55.71875 27.296875 \r\nQ 55.71875 13.875 49.015625 6.21875 \r\nQ 42.328125 -1.421875 30.609375 -1.421875 \r\nQ 18.84375 -1.421875 12.171875 6.21875 \r\nQ 5.515625 13.875 5.515625 27.296875 \r\nQ 5.515625 40.765625 12.171875 48.375 \r\nQ 18.84375 56 30.609375 56 \r\nz\r\n\" id=\"DejaVuSans-111\"/>\r\n       <path d=\"M 8.5 21.578125 \r\nL 8.5 54.6875 \r\nL 17.484375 54.6875 \r\nL 17.484375 21.921875 \r\nQ 17.484375 14.15625 20.5 10.265625 \r\nQ 23.53125 6.390625 29.59375 6.390625 \r\nQ 36.859375 6.390625 41.078125 11.03125 \r\nQ 45.3125 15.671875 45.3125 23.6875 \r\nL 45.3125 54.6875 \r\nL 54.296875 54.6875 \r\nL 54.296875 0 \r\nL 45.3125 0 \r\nL 45.3125 8.40625 \r\nQ 42.046875 3.421875 37.71875 1 \r\nQ 33.40625 -1.421875 27.6875 -1.421875 \r\nQ 18.265625 -1.421875 13.375 4.4375 \r\nQ 8.5 10.296875 8.5 21.578125 \r\nz\r\nM 31.109375 56 \r\nz\r\n\" id=\"DejaVuSans-117\"/>\r\n       <path d=\"M 54.890625 33.015625 \r\nL 54.890625 0 \r\nL 45.90625 0 \r\nL 45.90625 32.71875 \r\nQ 45.90625 40.484375 42.875 44.328125 \r\nQ 39.84375 48.1875 33.796875 48.1875 \r\nQ 26.515625 48.1875 22.3125 43.546875 \r\nQ 18.109375 38.921875 18.109375 30.90625 \r\nL 18.109375 0 \r\nL 9.078125 0 \r\nL 9.078125 54.6875 \r\nL 18.109375 54.6875 \r\nL 18.109375 46.1875 \r\nQ 21.34375 51.125 25.703125 53.5625 \r\nQ 30.078125 56 35.796875 56 \r\nQ 45.21875 56 50.046875 50.171875 \r\nQ 54.890625 44.34375 54.890625 33.015625 \r\nz\r\n\" id=\"DejaVuSans-110\"/>\r\n       <path d=\"M 18.3125 70.21875 \r\nL 18.3125 54.6875 \r\nL 36.8125 54.6875 \r\nL 36.8125 47.703125 \r\nL 18.3125 47.703125 \r\nL 18.3125 18.015625 \r\nQ 18.3125 11.328125 20.140625 9.421875 \r\nQ 21.96875 7.515625 27.59375 7.515625 \r\nL 36.8125 7.515625 \r\nL 36.8125 0 \r\nL 27.59375 0 \r\nQ 17.1875 0 13.234375 3.875 \r\nQ 9.28125 7.765625 9.28125 18.015625 \r\nL 9.28125 47.703125 \r\nL 2.6875 47.703125 \r\nL 2.6875 54.6875 \r\nL 9.28125 54.6875 \r\nL 9.28125 70.21875 \r\nz\r\n\" id=\"DejaVuSans-116\"/>\r\n      </defs>\r\n      <use xlink:href=\"#DejaVuSans-67\"/>\r\n      <use x=\"69.824219\" xlink:href=\"#DejaVuSans-111\"/>\r\n      <use x=\"131.005859\" xlink:href=\"#DejaVuSans-117\"/>\r\n      <use x=\"194.384766\" xlink:href=\"#DejaVuSans-110\"/>\r\n      <use x=\"257.763672\" xlink:href=\"#DejaVuSans-116\"/>\r\n     </g>\r\n    </g>\r\n   </g>\r\n   <g id=\"matplotlib.axis_2\">\r\n    <g id=\"ytick_1\">\r\n     <g id=\"line2d_7\">\r\n      <defs>\r\n       <path d=\"M 0 0 \r\nL -3.5 0 \r\n\" id=\"m6942308dca\" style=\"stroke:#000000;stroke-width:0.8;\"/>\r\n      </defs>\r\n      <g>\r\n       <use style=\"stroke:#000000;stroke-width:0.8;\" x=\"51.5\" xlink:href=\"#m6942308dca\" y=\"345.832431\"/>\r\n      </g>\r\n     </g>\r\n     <g id=\"text_8\">\r\n      <!-- 0 -->\r\n      <g transform=\"translate(35.5925 351.151337)scale(0.14 -0.14)\">\r\n       <use xlink:href=\"#DejaVuSans-48\"/>\r\n      </g>\r\n     </g>\r\n    </g>\r\n    <g id=\"ytick_2\">\r\n     <g id=\"line2d_8\">\r\n      <g>\r\n       <use style=\"stroke:#000000;stroke-width:0.8;\" x=\"51.5\" xlink:href=\"#m6942308dca\" y=\"332.410208\"/>\r\n      </g>\r\n     </g>\r\n     <g id=\"text_9\">\r\n      <!-- 1 -->\r\n      <g transform=\"translate(35.5925 337.729115)scale(0.14 -0.14)\">\r\n       <use xlink:href=\"#DejaVuSans-49\"/>\r\n      </g>\r\n     </g>\r\n    </g>\r\n    <g id=\"ytick_3\">\r\n     <g id=\"line2d_9\">\r\n      <g>\r\n       <use style=\"stroke:#000000;stroke-width:0.8;\" x=\"51.5\" xlink:href=\"#m6942308dca\" y=\"318.987986\"/>\r\n      </g>\r\n     </g>\r\n     <g id=\"text_10\">\r\n      <!-- 2 -->\r\n      <g transform=\"translate(35.5925 324.306892)scale(0.14 -0.14)\">\r\n       <use xlink:href=\"#DejaVuSans-50\"/>\r\n      </g>\r\n     </g>\r\n    </g>\r\n    <g id=\"ytick_4\">\r\n     <g id=\"line2d_10\">\r\n      <g>\r\n       <use style=\"stroke:#000000;stroke-width:0.8;\" x=\"51.5\" xlink:href=\"#m6942308dca\" y=\"305.565764\"/>\r\n      </g>\r\n     </g>\r\n     <g id=\"text_11\">\r\n      <!-- 3 -->\r\n      <g transform=\"translate(35.5925 310.88467)scale(0.14 -0.14)\">\r\n       <use xlink:href=\"#DejaVuSans-51\"/>\r\n      </g>\r\n     </g>\r\n    </g>\r\n    <g id=\"ytick_5\">\r\n     <g id=\"line2d_11\">\r\n      <g>\r\n       <use style=\"stroke:#000000;stroke-width:0.8;\" x=\"51.5\" xlink:href=\"#m6942308dca\" y=\"292.143542\"/>\r\n      </g>\r\n     </g>\r\n     <g id=\"text_12\">\r\n      <!-- 4 -->\r\n      <g transform=\"translate(35.5925 297.462448)scale(0.14 -0.14)\">\r\n       <use xlink:href=\"#DejaVuSans-52\"/>\r\n      </g>\r\n     </g>\r\n    </g>\r\n    <g id=\"ytick_6\">\r\n     <g id=\"line2d_12\">\r\n      <g>\r\n       <use style=\"stroke:#000000;stroke-width:0.8;\" x=\"51.5\" xlink:href=\"#m6942308dca\" y=\"278.721319\"/>\r\n      </g>\r\n     </g>\r\n     <g id=\"text_13\">\r\n      <!-- 5 -->\r\n      <g transform=\"translate(35.5925 284.040226)scale(0.14 -0.14)\">\r\n       <use xlink:href=\"#DejaVuSans-53\"/>\r\n      </g>\r\n     </g>\r\n    </g>\r\n    <g id=\"ytick_7\">\r\n     <g id=\"line2d_13\">\r\n      <g>\r\n       <use style=\"stroke:#000000;stroke-width:0.8;\" x=\"51.5\" xlink:href=\"#m6942308dca\" y=\"265.299097\"/>\r\n      </g>\r\n     </g>\r\n     <g id=\"text_14\">\r\n      <!-- 6 -->\r\n      <g transform=\"translate(35.5925 270.618003)scale(0.14 -0.14)\">\r\n       <defs>\r\n        <path d=\"M 33.015625 40.375 \r\nQ 26.375 40.375 22.484375 35.828125 \r\nQ 18.609375 31.296875 18.609375 23.390625 \r\nQ 18.609375 15.53125 22.484375 10.953125 \r\nQ 26.375 6.390625 33.015625 6.390625 \r\nQ 39.65625 6.390625 43.53125 10.953125 \r\nQ 47.40625 15.53125 47.40625 23.390625 \r\nQ 47.40625 31.296875 43.53125 35.828125 \r\nQ 39.65625 40.375 33.015625 40.375 \r\nz\r\nM 52.59375 71.296875 \r\nL 52.59375 62.3125 \r\nQ 48.875 64.0625 45.09375 64.984375 \r\nQ 41.3125 65.921875 37.59375 65.921875 \r\nQ 27.828125 65.921875 22.671875 59.328125 \r\nQ 17.53125 52.734375 16.796875 39.40625 \r\nQ 19.671875 43.65625 24.015625 45.921875 \r\nQ 28.375 48.1875 33.59375 48.1875 \r\nQ 44.578125 48.1875 50.953125 41.515625 \r\nQ 57.328125 34.859375 57.328125 23.390625 \r\nQ 57.328125 12.15625 50.6875 5.359375 \r\nQ 44.046875 -1.421875 33.015625 -1.421875 \r\nQ 20.359375 -1.421875 13.671875 8.265625 \r\nQ 6.984375 17.96875 6.984375 36.375 \r\nQ 6.984375 53.65625 15.1875 63.9375 \r\nQ 23.390625 74.21875 37.203125 74.21875 \r\nQ 40.921875 74.21875 44.703125 73.484375 \r\nQ 48.484375 72.75 52.59375 71.296875 \r\nz\r\n\" id=\"DejaVuSans-54\"/>\r\n       </defs>\r\n       <use xlink:href=\"#DejaVuSans-54\"/>\r\n      </g>\r\n     </g>\r\n    </g>\r\n    <g id=\"ytick_8\">\r\n     <g id=\"line2d_14\">\r\n      <g>\r\n       <use style=\"stroke:#000000;stroke-width:0.8;\" x=\"51.5\" xlink:href=\"#m6942308dca\" y=\"251.876875\"/>\r\n      </g>\r\n     </g>\r\n     <g id=\"text_15\">\r\n      <!-- 7 -->\r\n      <g transform=\"translate(35.5925 257.195781)scale(0.14 -0.14)\">\r\n       <defs>\r\n        <path d=\"M 8.203125 72.90625 \r\nL 55.078125 72.90625 \r\nL 55.078125 68.703125 \r\nL 28.609375 0 \r\nL 18.3125 0 \r\nL 43.21875 64.59375 \r\nL 8.203125 64.59375 \r\nz\r\n\" id=\"DejaVuSans-55\"/>\r\n       </defs>\r\n       <use xlink:href=\"#DejaVuSans-55\"/>\r\n      </g>\r\n     </g>\r\n    </g>\r\n    <g id=\"ytick_9\">\r\n     <g id=\"line2d_15\">\r\n      <g>\r\n       <use style=\"stroke:#000000;stroke-width:0.8;\" x=\"51.5\" xlink:href=\"#m6942308dca\" y=\"238.454653\"/>\r\n      </g>\r\n     </g>\r\n     <g id=\"text_16\">\r\n      <!-- 8 -->\r\n      <g transform=\"translate(35.5925 243.773559)scale(0.14 -0.14)\">\r\n       <defs>\r\n        <path d=\"M 31.78125 34.625 \r\nQ 24.75 34.625 20.71875 30.859375 \r\nQ 16.703125 27.09375 16.703125 20.515625 \r\nQ 16.703125 13.921875 20.71875 10.15625 \r\nQ 24.75 6.390625 31.78125 6.390625 \r\nQ 38.8125 6.390625 42.859375 10.171875 \r\nQ 46.921875 13.96875 46.921875 20.515625 \r\nQ 46.921875 27.09375 42.890625 30.859375 \r\nQ 38.875 34.625 31.78125 34.625 \r\nz\r\nM 21.921875 38.8125 \r\nQ 15.578125 40.375 12.03125 44.71875 \r\nQ 8.5 49.078125 8.5 55.328125 \r\nQ 8.5 64.0625 14.71875 69.140625 \r\nQ 20.953125 74.21875 31.78125 74.21875 \r\nQ 42.671875 74.21875 48.875 69.140625 \r\nQ 55.078125 64.0625 55.078125 55.328125 \r\nQ 55.078125 49.078125 51.53125 44.71875 \r\nQ 48 40.375 41.703125 38.8125 \r\nQ 48.828125 37.15625 52.796875 32.3125 \r\nQ 56.78125 27.484375 56.78125 20.515625 \r\nQ 56.78125 9.90625 50.3125 4.234375 \r\nQ 43.84375 -1.421875 31.78125 -1.421875 \r\nQ 19.734375 -1.421875 13.25 4.234375 \r\nQ 6.78125 9.90625 6.78125 20.515625 \r\nQ 6.78125 27.484375 10.78125 32.3125 \r\nQ 14.796875 37.15625 21.921875 38.8125 \r\nz\r\nM 18.3125 54.390625 \r\nQ 18.3125 48.734375 21.84375 45.5625 \r\nQ 25.390625 42.390625 31.78125 42.390625 \r\nQ 38.140625 42.390625 41.71875 45.5625 \r\nQ 45.3125 48.734375 45.3125 54.390625 \r\nQ 45.3125 60.0625 41.71875 63.234375 \r\nQ 38.140625 66.40625 31.78125 66.40625 \r\nQ 25.390625 66.40625 21.84375 63.234375 \r\nQ 18.3125 60.0625 18.3125 54.390625 \r\nz\r\n\" id=\"DejaVuSans-56\"/>\r\n       </defs>\r\n       <use xlink:href=\"#DejaVuSans-56\"/>\r\n      </g>\r\n     </g>\r\n    </g>\r\n    <g id=\"ytick_10\">\r\n     <g id=\"line2d_16\">\r\n      <g>\r\n       <use style=\"stroke:#000000;stroke-width:0.8;\" x=\"51.5\" xlink:href=\"#m6942308dca\" y=\"225.032431\"/>\r\n      </g>\r\n     </g>\r\n     <g id=\"text_17\">\r\n      <!-- 9 -->\r\n      <g transform=\"translate(35.5925 230.351337)scale(0.14 -0.14)\">\r\n       <defs>\r\n        <path d=\"M 10.984375 1.515625 \r\nL 10.984375 10.5 \r\nQ 14.703125 8.734375 18.5 7.8125 \r\nQ 22.3125 6.890625 25.984375 6.890625 \r\nQ 35.75 6.890625 40.890625 13.453125 \r\nQ 46.046875 20.015625 46.78125 33.40625 \r\nQ 43.953125 29.203125 39.59375 26.953125 \r\nQ 35.25 24.703125 29.984375 24.703125 \r\nQ 19.046875 24.703125 12.671875 31.3125 \r\nQ 6.296875 37.9375 6.296875 49.421875 \r\nQ 6.296875 60.640625 12.9375 67.421875 \r\nQ 19.578125 74.21875 30.609375 74.21875 \r\nQ 43.265625 74.21875 49.921875 64.515625 \r\nQ 56.59375 54.828125 56.59375 36.375 \r\nQ 56.59375 19.140625 48.40625 8.859375 \r\nQ 40.234375 -1.421875 26.421875 -1.421875 \r\nQ 22.703125 -1.421875 18.890625 -0.6875 \r\nQ 15.09375 0.046875 10.984375 1.515625 \r\nz\r\nM 30.609375 32.421875 \r\nQ 37.25 32.421875 41.125 36.953125 \r\nQ 45.015625 41.5 45.015625 49.421875 \r\nQ 45.015625 57.28125 41.125 61.84375 \r\nQ 37.25 66.40625 30.609375 66.40625 \r\nQ 23.96875 66.40625 20.09375 61.84375 \r\nQ 16.21875 57.28125 16.21875 49.421875 \r\nQ 16.21875 41.5 20.09375 36.953125 \r\nQ 23.96875 32.421875 30.609375 32.421875 \r\nz\r\n\" id=\"DejaVuSans-57\"/>\r\n       </defs>\r\n       <use xlink:href=\"#DejaVuSans-57\"/>\r\n      </g>\r\n     </g>\r\n    </g>\r\n    <g id=\"ytick_11\">\r\n     <g id=\"line2d_17\">\r\n      <g>\r\n       <use style=\"stroke:#000000;stroke-width:0.8;\" x=\"51.5\" xlink:href=\"#m6942308dca\" y=\"211.610208\"/>\r\n      </g>\r\n     </g>\r\n     <g id=\"text_18\">\r\n      <!-- 10 -->\r\n      <g transform=\"translate(26.685 216.929115)scale(0.14 -0.14)\">\r\n       <use xlink:href=\"#DejaVuSans-49\"/>\r\n       <use x=\"63.623047\" xlink:href=\"#DejaVuSans-48\"/>\r\n      </g>\r\n     </g>\r\n    </g>\r\n    <g id=\"ytick_12\">\r\n     <g id=\"line2d_18\">\r\n      <g>\r\n       <use style=\"stroke:#000000;stroke-width:0.8;\" x=\"51.5\" xlink:href=\"#m6942308dca\" y=\"198.187986\"/>\r\n      </g>\r\n     </g>\r\n     <g id=\"text_19\">\r\n      <!-- 11 -->\r\n      <g transform=\"translate(26.685 203.506892)scale(0.14 -0.14)\">\r\n       <use xlink:href=\"#DejaVuSans-49\"/>\r\n       <use x=\"63.623047\" xlink:href=\"#DejaVuSans-49\"/>\r\n      </g>\r\n     </g>\r\n    </g>\r\n    <g id=\"ytick_13\">\r\n     <g id=\"line2d_19\">\r\n      <g>\r\n       <use style=\"stroke:#000000;stroke-width:0.8;\" x=\"51.5\" xlink:href=\"#m6942308dca\" y=\"184.765764\"/>\r\n      </g>\r\n     </g>\r\n     <g id=\"text_20\">\r\n      <!-- 12 -->\r\n      <g transform=\"translate(26.685 190.08467)scale(0.14 -0.14)\">\r\n       <use xlink:href=\"#DejaVuSans-49\"/>\r\n       <use x=\"63.623047\" xlink:href=\"#DejaVuSans-50\"/>\r\n      </g>\r\n     </g>\r\n    </g>\r\n    <g id=\"ytick_14\">\r\n     <g id=\"line2d_20\">\r\n      <g>\r\n       <use style=\"stroke:#000000;stroke-width:0.8;\" x=\"51.5\" xlink:href=\"#m6942308dca\" y=\"171.343542\"/>\r\n      </g>\r\n     </g>\r\n     <g id=\"text_21\">\r\n      <!-- 13 -->\r\n      <g transform=\"translate(26.685 176.662448)scale(0.14 -0.14)\">\r\n       <use xlink:href=\"#DejaVuSans-49\"/>\r\n       <use x=\"63.623047\" xlink:href=\"#DejaVuSans-51\"/>\r\n      </g>\r\n     </g>\r\n    </g>\r\n    <g id=\"ytick_15\">\r\n     <g id=\"line2d_21\">\r\n      <g>\r\n       <use style=\"stroke:#000000;stroke-width:0.8;\" x=\"51.5\" xlink:href=\"#m6942308dca\" y=\"157.921319\"/>\r\n      </g>\r\n     </g>\r\n     <g id=\"text_22\">\r\n      <!-- 14 -->\r\n      <g transform=\"translate(26.685 163.240226)scale(0.14 -0.14)\">\r\n       <use xlink:href=\"#DejaVuSans-49\"/>\r\n       <use x=\"63.623047\" xlink:href=\"#DejaVuSans-52\"/>\r\n      </g>\r\n     </g>\r\n    </g>\r\n    <g id=\"ytick_16\">\r\n     <g id=\"line2d_22\">\r\n      <g>\r\n       <use style=\"stroke:#000000;stroke-width:0.8;\" x=\"51.5\" xlink:href=\"#m6942308dca\" y=\"144.499097\"/>\r\n      </g>\r\n     </g>\r\n     <g id=\"text_23\">\r\n      <!-- 15 -->\r\n      <g transform=\"translate(26.685 149.818003)scale(0.14 -0.14)\">\r\n       <use xlink:href=\"#DejaVuSans-49\"/>\r\n       <use x=\"63.623047\" xlink:href=\"#DejaVuSans-53\"/>\r\n      </g>\r\n     </g>\r\n    </g>\r\n    <g id=\"ytick_17\">\r\n     <g id=\"line2d_23\">\r\n      <g>\r\n       <use style=\"stroke:#000000;stroke-width:0.8;\" x=\"51.5\" xlink:href=\"#m6942308dca\" y=\"131.076875\"/>\r\n      </g>\r\n     </g>\r\n     <g id=\"text_24\">\r\n      <!-- 16 -->\r\n      <g transform=\"translate(26.685 136.395781)scale(0.14 -0.14)\">\r\n       <use xlink:href=\"#DejaVuSans-49\"/>\r\n       <use x=\"63.623047\" xlink:href=\"#DejaVuSans-54\"/>\r\n      </g>\r\n     </g>\r\n    </g>\r\n    <g id=\"ytick_18\">\r\n     <g id=\"line2d_24\">\r\n      <g>\r\n       <use style=\"stroke:#000000;stroke-width:0.8;\" x=\"51.5\" xlink:href=\"#m6942308dca\" y=\"117.654653\"/>\r\n      </g>\r\n     </g>\r\n     <g id=\"text_25\">\r\n      <!-- 17 -->\r\n      <g transform=\"translate(26.685 122.973559)scale(0.14 -0.14)\">\r\n       <use xlink:href=\"#DejaVuSans-49\"/>\r\n       <use x=\"63.623047\" xlink:href=\"#DejaVuSans-55\"/>\r\n      </g>\r\n     </g>\r\n    </g>\r\n    <g id=\"ytick_19\">\r\n     <g id=\"line2d_25\">\r\n      <g>\r\n       <use style=\"stroke:#000000;stroke-width:0.8;\" x=\"51.5\" xlink:href=\"#m6942308dca\" y=\"104.232431\"/>\r\n      </g>\r\n     </g>\r\n     <g id=\"text_26\">\r\n      <!-- 18 -->\r\n      <g transform=\"translate(26.685 109.551337)scale(0.14 -0.14)\">\r\n       <use xlink:href=\"#DejaVuSans-49\"/>\r\n       <use x=\"63.623047\" xlink:href=\"#DejaVuSans-56\"/>\r\n      </g>\r\n     </g>\r\n    </g>\r\n    <g id=\"ytick_20\">\r\n     <g id=\"line2d_26\">\r\n      <g>\r\n       <use style=\"stroke:#000000;stroke-width:0.8;\" x=\"51.5\" xlink:href=\"#m6942308dca\" y=\"90.810208\"/>\r\n      </g>\r\n     </g>\r\n     <g id=\"text_27\">\r\n      <!-- 19 -->\r\n      <g transform=\"translate(26.685 96.129115)scale(0.14 -0.14)\">\r\n       <use xlink:href=\"#DejaVuSans-49\"/>\r\n       <use x=\"63.623047\" xlink:href=\"#DejaVuSans-57\"/>\r\n      </g>\r\n     </g>\r\n    </g>\r\n    <g id=\"ytick_21\">\r\n     <g id=\"line2d_27\">\r\n      <g>\r\n       <use style=\"stroke:#000000;stroke-width:0.8;\" x=\"51.5\" xlink:href=\"#m6942308dca\" y=\"77.387986\"/>\r\n      </g>\r\n     </g>\r\n     <g id=\"text_28\">\r\n      <!-- 20 -->\r\n      <g transform=\"translate(26.685 82.706892)scale(0.14 -0.14)\">\r\n       <use xlink:href=\"#DejaVuSans-50\"/>\r\n       <use x=\"63.623047\" xlink:href=\"#DejaVuSans-48\"/>\r\n      </g>\r\n     </g>\r\n    </g>\r\n    <g id=\"ytick_22\">\r\n     <g id=\"line2d_28\">\r\n      <g>\r\n       <use style=\"stroke:#000000;stroke-width:0.8;\" x=\"51.5\" xlink:href=\"#m6942308dca\" y=\"63.965764\"/>\r\n      </g>\r\n     </g>\r\n     <g id=\"text_29\">\r\n      <!-- 21 -->\r\n      <g transform=\"translate(26.685 69.28467)scale(0.14 -0.14)\">\r\n       <use xlink:href=\"#DejaVuSans-50\"/>\r\n       <use x=\"63.623047\" xlink:href=\"#DejaVuSans-49\"/>\r\n      </g>\r\n     </g>\r\n    </g>\r\n    <g id=\"ytick_23\">\r\n     <g id=\"line2d_29\">\r\n      <g>\r\n       <use style=\"stroke:#000000;stroke-width:0.8;\" x=\"51.5\" xlink:href=\"#m6942308dca\" y=\"50.543542\"/>\r\n      </g>\r\n     </g>\r\n     <g id=\"text_30\">\r\n      <!-- 22 -->\r\n      <g transform=\"translate(26.685 55.862448)scale(0.14 -0.14)\">\r\n       <use xlink:href=\"#DejaVuSans-50\"/>\r\n       <use x=\"63.623047\" xlink:href=\"#DejaVuSans-50\"/>\r\n      </g>\r\n     </g>\r\n    </g>\r\n    <g id=\"ytick_24\">\r\n     <g id=\"line2d_30\">\r\n      <g>\r\n       <use style=\"stroke:#000000;stroke-width:0.8;\" x=\"51.5\" xlink:href=\"#m6942308dca\" y=\"37.121319\"/>\r\n      </g>\r\n     </g>\r\n     <g id=\"text_31\">\r\n      <!-- 23 -->\r\n      <g transform=\"translate(26.685 42.440226)scale(0.14 -0.14)\">\r\n       <use xlink:href=\"#DejaVuSans-50\"/>\r\n       <use x=\"63.623047\" xlink:href=\"#DejaVuSans-51\"/>\r\n      </g>\r\n     </g>\r\n    </g>\r\n    <g id=\"text_32\">\r\n     <!-- Hora -->\r\n     <g transform=\"translate(19.3575 210.579375)rotate(-90)scale(0.16 -0.16)\">\r\n      <defs>\r\n       <path d=\"M 9.8125 72.90625 \r\nL 19.671875 72.90625 \r\nL 19.671875 43.015625 \r\nL 55.515625 43.015625 \r\nL 55.515625 72.90625 \r\nL 65.375 72.90625 \r\nL 65.375 0 \r\nL 55.515625 0 \r\nL 55.515625 34.71875 \r\nL 19.671875 34.71875 \r\nL 19.671875 0 \r\nL 9.8125 0 \r\nz\r\n\" id=\"DejaVuSans-72\"/>\r\n       <path d=\"M 41.109375 46.296875 \r\nQ 39.59375 47.171875 37.8125 47.578125 \r\nQ 36.03125 48 33.890625 48 \r\nQ 26.265625 48 22.1875 43.046875 \r\nQ 18.109375 38.09375 18.109375 28.8125 \r\nL 18.109375 0 \r\nL 9.078125 0 \r\nL 9.078125 54.6875 \r\nL 18.109375 54.6875 \r\nL 18.109375 46.1875 \r\nQ 20.953125 51.171875 25.484375 53.578125 \r\nQ 30.03125 56 36.53125 56 \r\nQ 37.453125 56 38.578125 55.875 \r\nQ 39.703125 55.765625 41.0625 55.515625 \r\nz\r\n\" id=\"DejaVuSans-114\"/>\r\n       <path d=\"M 34.28125 27.484375 \r\nQ 23.390625 27.484375 19.1875 25 \r\nQ 14.984375 22.515625 14.984375 16.5 \r\nQ 14.984375 11.71875 18.140625 8.90625 \r\nQ 21.296875 6.109375 26.703125 6.109375 \r\nQ 34.1875 6.109375 38.703125 11.40625 \r\nQ 43.21875 16.703125 43.21875 25.484375 \r\nL 43.21875 27.484375 \r\nz\r\nM 52.203125 31.203125 \r\nL 52.203125 0 \r\nL 43.21875 0 \r\nL 43.21875 8.296875 \r\nQ 40.140625 3.328125 35.546875 0.953125 \r\nQ 30.953125 -1.421875 24.3125 -1.421875 \r\nQ 15.921875 -1.421875 10.953125 3.296875 \r\nQ 6 8.015625 6 15.921875 \r\nQ 6 25.140625 12.171875 29.828125 \r\nQ 18.359375 34.515625 30.609375 34.515625 \r\nL 43.21875 34.515625 \r\nL 43.21875 35.40625 \r\nQ 43.21875 41.609375 39.140625 45 \r\nQ 35.0625 48.390625 27.6875 48.390625 \r\nQ 23 48.390625 18.546875 47.265625 \r\nQ 14.109375 46.140625 10.015625 43.890625 \r\nL 10.015625 52.203125 \r\nQ 14.9375 54.109375 19.578125 55.046875 \r\nQ 24.21875 56 28.609375 56 \r\nQ 40.484375 56 46.34375 49.84375 \r\nQ 52.203125 43.703125 52.203125 31.203125 \r\nz\r\n\" id=\"DejaVuSans-97\"/>\r\n      </defs>\r\n      <use xlink:href=\"#DejaVuSans-72\"/>\r\n      <use x=\"75.195312\" xlink:href=\"#DejaVuSans-111\"/>\r\n      <use x=\"136.376953\" xlink:href=\"#DejaVuSans-114\"/>\r\n      <use x=\"177.490234\" xlink:href=\"#DejaVuSans-97\"/>\r\n     </g>\r\n    </g>\r\n   </g>\r\n   <g id=\"patch_27\">\r\n    <path d=\"M 51.5 354.556875 \r\nL 51.5 28.396875 \r\n\" style=\"fill:none;stroke:#000000;stroke-linecap:square;stroke-linejoin:miter;stroke-width:0.8;\"/>\r\n   </g>\r\n   <g id=\"patch_28\">\r\n    <path d=\"M 609.5 354.556875 \r\nL 609.5 28.396875 \r\n\" style=\"fill:none;stroke:#000000;stroke-linecap:square;stroke-linejoin:miter;stroke-width:0.8;\"/>\r\n   </g>\r\n   <g id=\"patch_29\">\r\n    <path d=\"M 51.5 354.556875 \r\nL 609.5 354.556875 \r\n\" style=\"fill:none;stroke:#000000;stroke-linecap:square;stroke-linejoin:miter;stroke-width:0.8;\"/>\r\n   </g>\r\n   <g id=\"patch_30\">\r\n    <path d=\"M 51.5 28.396875 \r\nL 609.5 28.396875 \r\n\" style=\"fill:none;stroke:#000000;stroke-linecap:square;stroke-linejoin:miter;stroke-width:0.8;\"/>\r\n   </g>\r\n   <g id=\"text_33\">\r\n    <!-- Horas más comunes   -->\r\n    <g style=\"fill:#0000ff;\" transform=\"translate(222.226562 22.396875)scale(0.2 -0.2)\">\r\n     <defs>\r\n      <path d=\"M 44.28125 53.078125 \r\nL 44.28125 44.578125 \r\nQ 40.484375 46.53125 36.375 47.5 \r\nQ 32.28125 48.484375 27.875 48.484375 \r\nQ 21.1875 48.484375 17.84375 46.4375 \r\nQ 14.5 44.390625 14.5 40.28125 \r\nQ 14.5 37.15625 16.890625 35.375 \r\nQ 19.28125 33.59375 26.515625 31.984375 \r\nL 29.59375 31.296875 \r\nQ 39.15625 29.25 43.1875 25.515625 \r\nQ 47.21875 21.78125 47.21875 15.09375 \r\nQ 47.21875 7.46875 41.1875 3.015625 \r\nQ 35.15625 -1.421875 24.609375 -1.421875 \r\nQ 20.21875 -1.421875 15.453125 -0.5625 \r\nQ 10.6875 0.296875 5.421875 2 \r\nL 5.421875 11.28125 \r\nQ 10.40625 8.6875 15.234375 7.390625 \r\nQ 20.0625 6.109375 24.8125 6.109375 \r\nQ 31.15625 6.109375 34.5625 8.28125 \r\nQ 37.984375 10.453125 37.984375 14.40625 \r\nQ 37.984375 18.0625 35.515625 20.015625 \r\nQ 33.0625 21.96875 24.703125 23.78125 \r\nL 21.578125 24.515625 \r\nQ 13.234375 26.265625 9.515625 29.90625 \r\nQ 5.8125 33.546875 5.8125 39.890625 \r\nQ 5.8125 47.609375 11.28125 51.796875 \r\nQ 16.75 56 26.8125 56 \r\nQ 31.78125 56 36.171875 55.265625 \r\nQ 40.578125 54.546875 44.28125 53.078125 \r\nz\r\n\" id=\"DejaVuSans-115\"/>\r\n      <path id=\"DejaVuSans-32\"/>\r\n      <path d=\"M 52 44.1875 \r\nQ 55.375 50.25 60.0625 53.125 \r\nQ 64.75 56 71.09375 56 \r\nQ 79.640625 56 84.28125 50.015625 \r\nQ 88.921875 44.046875 88.921875 33.015625 \r\nL 88.921875 0 \r\nL 79.890625 0 \r\nL 79.890625 32.71875 \r\nQ 79.890625 40.578125 77.09375 44.375 \r\nQ 74.3125 48.1875 68.609375 48.1875 \r\nQ 61.625 48.1875 57.5625 43.546875 \r\nQ 53.515625 38.921875 53.515625 30.90625 \r\nL 53.515625 0 \r\nL 44.484375 0 \r\nL 44.484375 32.71875 \r\nQ 44.484375 40.625 41.703125 44.40625 \r\nQ 38.921875 48.1875 33.109375 48.1875 \r\nQ 26.21875 48.1875 22.15625 43.53125 \r\nQ 18.109375 38.875 18.109375 30.90625 \r\nL 18.109375 0 \r\nL 9.078125 0 \r\nL 9.078125 54.6875 \r\nL 18.109375 54.6875 \r\nL 18.109375 46.1875 \r\nQ 21.1875 51.21875 25.484375 53.609375 \r\nQ 29.78125 56 35.6875 56 \r\nQ 41.65625 56 45.828125 52.96875 \r\nQ 50 49.953125 52 44.1875 \r\nz\r\n\" id=\"DejaVuSans-109\"/>\r\n      <path d=\"M 34.28125 27.484375 \r\nQ 23.390625 27.484375 19.1875 25 \r\nQ 14.984375 22.515625 14.984375 16.5 \r\nQ 14.984375 11.71875 18.140625 8.90625 \r\nQ 21.296875 6.109375 26.703125 6.109375 \r\nQ 34.1875 6.109375 38.703125 11.40625 \r\nQ 43.21875 16.703125 43.21875 25.484375 \r\nL 43.21875 27.484375 \r\nz\r\nM 52.203125 31.203125 \r\nL 52.203125 0 \r\nL 43.21875 0 \r\nL 43.21875 8.296875 \r\nQ 40.140625 3.328125 35.546875 0.953125 \r\nQ 30.953125 -1.421875 24.3125 -1.421875 \r\nQ 15.921875 -1.421875 10.953125 3.296875 \r\nQ 6 8.015625 6 15.921875 \r\nQ 6 25.140625 12.171875 29.828125 \r\nQ 18.359375 34.515625 30.609375 34.515625 \r\nL 43.21875 34.515625 \r\nL 43.21875 35.40625 \r\nQ 43.21875 41.609375 39.140625 45 \r\nQ 35.0625 48.390625 27.6875 48.390625 \r\nQ 23 48.390625 18.546875 47.265625 \r\nQ 14.109375 46.140625 10.015625 43.890625 \r\nL 10.015625 52.203125 \r\nQ 14.9375 54.109375 19.578125 55.046875 \r\nQ 24.21875 56 28.609375 56 \r\nQ 40.484375 56 46.34375 49.84375 \r\nQ 52.203125 43.703125 52.203125 31.203125 \r\nz\r\nM 35.796875 79.984375 \r\nL 45.515625 79.984375 \r\nL 29.59375 61.625 \r\nL 22.125 61.625 \r\nz\r\n\" id=\"DejaVuSans-225\"/>\r\n      <path d=\"M 48.78125 52.59375 \r\nL 48.78125 44.1875 \r\nQ 44.96875 46.296875 41.140625 47.34375 \r\nQ 37.3125 48.390625 33.40625 48.390625 \r\nQ 24.65625 48.390625 19.8125 42.84375 \r\nQ 14.984375 37.3125 14.984375 27.296875 \r\nQ 14.984375 17.28125 19.8125 11.734375 \r\nQ 24.65625 6.203125 33.40625 6.203125 \r\nQ 37.3125 6.203125 41.140625 7.25 \r\nQ 44.96875 8.296875 48.78125 10.40625 \r\nL 48.78125 2.09375 \r\nQ 45.015625 0.34375 40.984375 -0.53125 \r\nQ 36.96875 -1.421875 32.421875 -1.421875 \r\nQ 20.0625 -1.421875 12.78125 6.34375 \r\nQ 5.515625 14.109375 5.515625 27.296875 \r\nQ 5.515625 40.671875 12.859375 48.328125 \r\nQ 20.21875 56 33.015625 56 \r\nQ 37.15625 56 41.109375 55.140625 \r\nQ 45.0625 54.296875 48.78125 52.59375 \r\nz\r\n\" id=\"DejaVuSans-99\"/>\r\n      <path d=\"M 56.203125 29.59375 \r\nL 56.203125 25.203125 \r\nL 14.890625 25.203125 \r\nQ 15.484375 15.921875 20.484375 11.0625 \r\nQ 25.484375 6.203125 34.421875 6.203125 \r\nQ 39.59375 6.203125 44.453125 7.46875 \r\nQ 49.3125 8.734375 54.109375 11.28125 \r\nL 54.109375 2.78125 \r\nQ 49.265625 0.734375 44.1875 -0.34375 \r\nQ 39.109375 -1.421875 33.890625 -1.421875 \r\nQ 20.796875 -1.421875 13.15625 6.1875 \r\nQ 5.515625 13.8125 5.515625 26.8125 \r\nQ 5.515625 40.234375 12.765625 48.109375 \r\nQ 20.015625 56 32.328125 56 \r\nQ 43.359375 56 49.78125 48.890625 \r\nQ 56.203125 41.796875 56.203125 29.59375 \r\nz\r\nM 47.21875 32.234375 \r\nQ 47.125 39.59375 43.09375 43.984375 \r\nQ 39.0625 48.390625 32.421875 48.390625 \r\nQ 24.90625 48.390625 20.390625 44.140625 \r\nQ 15.875 39.890625 15.1875 32.171875 \r\nz\r\n\" id=\"DejaVuSans-101\"/>\r\n     </defs>\r\n     <use xlink:href=\"#DejaVuSans-72\"/>\r\n     <use x=\"75.195312\" xlink:href=\"#DejaVuSans-111\"/>\r\n     <use x=\"136.376953\" xlink:href=\"#DejaVuSans-114\"/>\r\n     <use x=\"177.490234\" xlink:href=\"#DejaVuSans-97\"/>\r\n     <use x=\"238.769531\" xlink:href=\"#DejaVuSans-115\"/>\r\n     <use x=\"290.869141\" xlink:href=\"#DejaVuSans-32\"/>\r\n     <use x=\"322.65625\" xlink:href=\"#DejaVuSans-109\"/>\r\n     <use x=\"420.068359\" xlink:href=\"#DejaVuSans-225\"/>\r\n     <use x=\"481.347656\" xlink:href=\"#DejaVuSans-115\"/>\r\n     <use x=\"533.447266\" xlink:href=\"#DejaVuSans-32\"/>\r\n     <use x=\"565.234375\" xlink:href=\"#DejaVuSans-99\"/>\r\n     <use x=\"620.214844\" xlink:href=\"#DejaVuSans-111\"/>\r\n     <use x=\"681.396484\" xlink:href=\"#DejaVuSans-109\"/>\r\n     <use x=\"778.808594\" xlink:href=\"#DejaVuSans-117\"/>\r\n     <use x=\"842.1875\" xlink:href=\"#DejaVuSans-110\"/>\r\n     <use x=\"905.566406\" xlink:href=\"#DejaVuSans-101\"/>\r\n     <use x=\"967.089844\" xlink:href=\"#DejaVuSans-115\"/>\r\n     <use x=\"1019.189453\" xlink:href=\"#DejaVuSans-32\"/>\r\n     <use x=\"1050.976562\" xlink:href=\"#DejaVuSans-32\"/>\r\n    </g>\r\n   </g>\r\n   <g id=\"legend_1\">\r\n    <g id=\"patch_31\">\r\n     <path d=\"M 542.2875 51.075 \r\nL 602.5 51.075 \r\nQ 604.5 51.075 604.5 49.075 \r\nL 604.5 35.396875 \r\nQ 604.5 33.396875 602.5 33.396875 \r\nL 542.2875 33.396875 \r\nQ 540.2875 33.396875 540.2875 35.396875 \r\nL 540.2875 49.075 \r\nQ 540.2875 51.075 542.2875 51.075 \r\nz\r\n\" style=\"fill:#ffffff;opacity:0.8;stroke:#cccccc;stroke-linejoin:miter;\"/>\r\n    </g>\r\n    <g id=\"patch_32\">\r\n     <path d=\"M 544.2875 44.995312 \r\nL 564.2875 44.995312 \r\nL 564.2875 37.995312 \r\nL 544.2875 37.995312 \r\nz\r\n\" style=\"fill:#1f77b4;\"/>\r\n    </g>\r\n    <g id=\"text_34\">\r\n     <!-- count -->\r\n     <g transform=\"translate(572.2875 44.995312)scale(0.1 -0.1)\">\r\n      <use xlink:href=\"#DejaVuSans-99\"/>\r\n      <use x=\"54.980469\" xlink:href=\"#DejaVuSans-111\"/>\r\n      <use x=\"116.162109\" xlink:href=\"#DejaVuSans-117\"/>\r\n      <use x=\"179.541016\" xlink:href=\"#DejaVuSans-110\"/>\r\n      <use x=\"242.919922\" xlink:href=\"#DejaVuSans-116\"/>\r\n     </g>\r\n    </g>\r\n   </g>\r\n  </g>\r\n </g>\r\n <defs>\r\n  <clipPath id=\"pc64c5e2b46\">\r\n   <rect height=\"326.16\" width=\"558\" x=\"51.5\" y=\"28.396875\"/>\r\n  </clipPath>\r\n </defs>\r\n</svg>\r\n",
            "image/png": "[encoded data removed]"
          },
          "metadata": {
            "needs_background": "light"
          }
        }
      ],
      "source": [
        "myplot= horas.plot(figsize=(10,6),kind=\"barh\",width=0.8,x=\"Hora\",y=\"count\")\n",
        "plt.xlabel(\"Count\", fontsize = 16)\n",
        "plt.ylabel(\"Hora\", fontsize = 16)\n",
        "plt.title(\"Horas más comunes  \", fontsize = 20, color = 'b')\n",
        "plt.xticks(size = 14)\n",
        "plt.yticks(size = 14)\n",
        "plt.show()"
      ]
    },
    {
      "source": [
        "Observamos que la hora más común que usa la gente para entrar son las 20:00 horas."
      ],
      "cell_type": "markdown",
      "metadata": {}
    }
  ]
}