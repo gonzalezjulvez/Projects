{
 "cells": [
  {
   "cell_type": "code",
   "execution_count": 90,
   "metadata": {},
   "outputs": [],
   "source": [
    "import findspark\n",
    "findspark.init()\n",
    "import pandas as pd\n",
    "from pyspark.sql import SparkSession\n",
    "from pyspark.sql.types import *\n",
    "from pyspark.sql.functions import *\n",
    "from pyspark.ml.feature import VectorAssembler\n",
    "from pyspark.ml.classification import LogisticRegressionModel\n",
    "from pyspark.ml.classification import LogisticRegression\n"
   ]
  },
  {
   "cell_type": "code",
   "execution_count": 2,
   "metadata": {},
   "outputs": [],
   "source": [
    "spark = SparkSession \\\n",
    "    .builder \\\n",
    "    .appName(\"TFM_EDA\") \\\n",
    "    .getOrCreate()"
   ]
  },
  {
   "cell_type": "code",
   "execution_count": 7,
   "metadata": {},
   "outputs": [],
   "source": [
    "schema = StructType([StructField(\"Time\",DoubleType(),True),StructField(\"V1\",DoubleType(),True),StructField(\"V2\",DoubleType(),True),StructField(\"V3\",DoubleType(),True),\n",
    "StructField(\"V4\",DoubleType(),True),StructField(\"V5\",DoubleType(),True),StructField(\"V6\",DoubleType(),True),StructField(\"V7\",DoubleType(),True),StructField(\"V8\",DoubleType(),True),\n",
    "StructField(\"V9\",DoubleType(),True),StructField(\"V10\",DoubleType(),True),StructField(\"V11\",DoubleType(),True),StructField(\"V12\",DoubleType(),True),StructField(\"V13\",DoubleType(),True),\n",
    "StructField(\"V14\",DoubleType(),True),StructField(\"V15\",DoubleType(),True),StructField(\"V16\",DoubleType(),True),StructField(\"V17\",DoubleType(),True),StructField(\"V18\",DoubleType(),True),\n",
    "StructField(\"V19\",DoubleType(),True),StructField(\"V20\",DoubleType(),True),StructField(\"V21\",DoubleType(),True),StructField(\"V22\",DoubleType(),True),StructField(\"V23\",DoubleType(),True),\n",
    "StructField(\"V24\",DoubleType(),True),StructField(\"V25\",DoubleType(),True),StructField(\"V26\",DoubleType(),True),StructField(\"V27\",DoubleType(),True),StructField(\"V28\",DoubleType(),True),\n",
    "StructField(\"Amount\",DoubleType(),True),StructField(\"Class\",IntegerType(),True)])"
   ]
  },
  {
   "cell_type": "code",
   "execution_count": 8,
   "metadata": {},
   "outputs": [],
   "source": [
    "df_raw = spark.read.format(\"csv\")\\\n",
    "        .option(\"header\",\"True\")\\\n",
    "        .option(\"inferSchema\",\"True\")\\\n",
    "        .schema(schema)\\\n",
    "        .load(\"creditcard.csv\")"
   ]
  },
  {
   "cell_type": "code",
   "execution_count": 9,
   "metadata": {},
   "outputs": [
    {
     "data": {
      "text/plain": [
       "[Row(Time=0.0, V1=-1.3598071336738, V2=-0.0727811733098497, V3=2.53634673796914, V4=1.37815522427443, V5=-0.338320769942518, V6=0.462387777762292, V7=0.239598554061257, V8=0.0986979012610507, V9=0.363786969611213, V10=0.0907941719789316, V11=-0.551599533260813, V12=-0.617800855762348, V13=-0.991389847235408, V14=-0.311169353699879, V15=1.46817697209427, V16=-0.470400525259478, V17=0.207971241929242, V18=0.0257905801985591, V19=0.403992960255733, V20=0.251412098239705, V21=-0.018306777944153, V22=0.277837575558899, V23=-0.110473910188767, V24=0.0669280749146731, V25=0.128539358273528, V26=-0.189114843888824, V27=0.133558376740387, V28=-0.0210530534538215, Amount=149.62, Class=0)]"
      ]
     },
     "execution_count": 9,
     "metadata": {},
     "output_type": "execute_result"
    }
   ],
   "source": [
    "df_raw.take(1)"
   ]
  },
  {
   "cell_type": "code",
   "execution_count": 49,
   "metadata": {},
   "outputs": [
    {
     "data": {
      "text/html": [
       "<div>\n",
       "<style scoped>\n",
       "    .dataframe tbody tr th:only-of-type {\n",
       "        vertical-align: middle;\n",
       "    }\n",
       "\n",
       "    .dataframe tbody tr th {\n",
       "        vertical-align: top;\n",
       "    }\n",
       "\n",
       "    .dataframe thead th {\n",
       "        text-align: right;\n",
       "    }\n",
       "</style>\n",
       "<table border=\"1\" class=\"dataframe\">\n",
       "  <thead>\n",
       "    <tr style=\"text-align: right;\">\n",
       "      <th></th>\n",
       "      <th>summary</th>\n",
       "      <th>Time</th>\n",
       "      <th>V1</th>\n",
       "      <th>V2</th>\n",
       "      <th>V3</th>\n",
       "      <th>V4</th>\n",
       "      <th>V5</th>\n",
       "      <th>V6</th>\n",
       "      <th>V7</th>\n",
       "      <th>V8</th>\n",
       "      <th>...</th>\n",
       "      <th>V21</th>\n",
       "      <th>V22</th>\n",
       "      <th>V23</th>\n",
       "      <th>V24</th>\n",
       "      <th>V25</th>\n",
       "      <th>V26</th>\n",
       "      <th>V27</th>\n",
       "      <th>V28</th>\n",
       "      <th>Amount</th>\n",
       "      <th>Class</th>\n",
       "    </tr>\n",
       "  </thead>\n",
       "  <tbody>\n",
       "    <tr>\n",
       "      <th>0</th>\n",
       "      <td>count</td>\n",
       "      <td>284807</td>\n",
       "      <td>284807</td>\n",
       "      <td>284807</td>\n",
       "      <td>284807</td>\n",
       "      <td>284807</td>\n",
       "      <td>284807</td>\n",
       "      <td>284807</td>\n",
       "      <td>284807</td>\n",
       "      <td>284807</td>\n",
       "      <td>...</td>\n",
       "      <td>284807</td>\n",
       "      <td>284807</td>\n",
       "      <td>284807</td>\n",
       "      <td>284807</td>\n",
       "      <td>284807</td>\n",
       "      <td>284807</td>\n",
       "      <td>284807</td>\n",
       "      <td>284807</td>\n",
       "      <td>284807</td>\n",
       "      <td>284807</td>\n",
       "    </tr>\n",
       "    <tr>\n",
       "      <th>1</th>\n",
       "      <td>mean</td>\n",
       "      <td>94813.85957508067</td>\n",
       "      <td>9.516248586879277E-16</td>\n",
       "      <td>-4.151383611725859E-17</td>\n",
       "      <td>-1.3156692677161953E-15</td>\n",
       "      <td>1.4976914722303291E-15</td>\n",
       "      <td>8.941441625255696E-16</td>\n",
       "      <td>1.3971002539462024E-15</td>\n",
       "      <td>-2.6664656275316093E-16</td>\n",
       "      <td>1.528826849318273E-16</td>\n",
       "      <td>...</td>\n",
       "      <td>3.718282533002536E-16</td>\n",
       "      <td>-4.630389413078843E-16</td>\n",
       "      <td>2.9858028284335985E-16</td>\n",
       "      <td>4.504351011597839E-15</td>\n",
       "      <td>7.153153300204557E-16</td>\n",
       "      <td>1.6364035688721307E-15</td>\n",
       "      <td>-3.568593220079729E-16</td>\n",
       "      <td>-1.2593860860572196E-16</td>\n",
       "      <td>88.34961925093698</td>\n",
       "      <td>0.001727485630620034</td>\n",
       "    </tr>\n",
       "    <tr>\n",
       "      <th>2</th>\n",
       "      <td>stddev</td>\n",
       "      <td>47488.145954566266</td>\n",
       "      <td>1.9586958038574889</td>\n",
       "      <td>1.6513085794769968</td>\n",
       "      <td>1.5162550051777701</td>\n",
       "      <td>1.4158685749409217</td>\n",
       "      <td>1.3802467340314388</td>\n",
       "      <td>1.332271089757576</td>\n",
       "      <td>1.2370935981826656</td>\n",
       "      <td>1.194352902669203</td>\n",
       "      <td>...</td>\n",
       "      <td>0.734524014371313</td>\n",
       "      <td>0.725701560440911</td>\n",
       "      <td>0.6244602955949902</td>\n",
       "      <td>0.6056470678271607</td>\n",
       "      <td>0.5212780705409428</td>\n",
       "      <td>0.48222701326105727</td>\n",
       "      <td>0.4036324949650301</td>\n",
       "      <td>0.3300832641602508</td>\n",
       "      <td>250.12010924018836</td>\n",
       "      <td>0.041527189635464895</td>\n",
       "    </tr>\n",
       "    <tr>\n",
       "      <th>3</th>\n",
       "      <td>min</td>\n",
       "      <td>0.0</td>\n",
       "      <td>-56.407509631329</td>\n",
       "      <td>-72.7157275629303</td>\n",
       "      <td>-48.3255893623954</td>\n",
       "      <td>-5.68317119816995</td>\n",
       "      <td>-113.743306711146</td>\n",
       "      <td>-26.1605059358433</td>\n",
       "      <td>-43.5572415712451</td>\n",
       "      <td>-73.2167184552674</td>\n",
       "      <td>...</td>\n",
       "      <td>-34.8303821448146</td>\n",
       "      <td>-10.933143697655</td>\n",
       "      <td>-44.8077352037913</td>\n",
       "      <td>-2.83662691870341</td>\n",
       "      <td>-10.2953970749851</td>\n",
       "      <td>-2.60455055280817</td>\n",
       "      <td>-22.5656793207827</td>\n",
       "      <td>-15.4300839055349</td>\n",
       "      <td>0.0</td>\n",
       "      <td>0</td>\n",
       "    </tr>\n",
       "    <tr>\n",
       "      <th>4</th>\n",
       "      <td>max</td>\n",
       "      <td>172792.0</td>\n",
       "      <td>2.45492999121121</td>\n",
       "      <td>22.0577289904909</td>\n",
       "      <td>9.38255843282114</td>\n",
       "      <td>16.8753440335975</td>\n",
       "      <td>34.8016658766686</td>\n",
       "      <td>73.3016255459646</td>\n",
       "      <td>120.589493945238</td>\n",
       "      <td>20.0072083651213</td>\n",
       "      <td>...</td>\n",
       "      <td>27.2028391573154</td>\n",
       "      <td>10.5030900899454</td>\n",
       "      <td>22.5284116897749</td>\n",
       "      <td>4.58454913689817</td>\n",
       "      <td>7.51958867870916</td>\n",
       "      <td>3.5173456116238</td>\n",
       "      <td>31.6121981061363</td>\n",
       "      <td>33.8478078188831</td>\n",
       "      <td>25691.16</td>\n",
       "      <td>1</td>\n",
       "    </tr>\n",
       "  </tbody>\n",
       "</table>\n",
       "<p>5 rows × 32 columns</p>\n",
       "</div>"
      ],
      "text/plain": [
       "  summary                Time                     V1                      V2  \\\n",
       "0   count              284807                 284807                  284807   \n",
       "1    mean   94813.85957508067  9.516248586879277E-16  -4.151383611725859E-17   \n",
       "2  stddev  47488.145954566266     1.9586958038574889      1.6513085794769968   \n",
       "3     min                 0.0       -56.407509631329       -72.7157275629303   \n",
       "4     max            172792.0       2.45492999121121        22.0577289904909   \n",
       "\n",
       "                        V3                      V4                     V5  \\\n",
       "0                   284807                  284807                 284807   \n",
       "1  -1.3156692677161953E-15  1.4976914722303291E-15  8.941441625255696E-16   \n",
       "2       1.5162550051777701      1.4158685749409217     1.3802467340314388   \n",
       "3        -48.3255893623954       -5.68317119816995      -113.743306711146   \n",
       "4         9.38255843282114        16.8753440335975       34.8016658766686   \n",
       "\n",
       "                       V6                       V7                     V8  \\\n",
       "0                  284807                   284807                 284807   \n",
       "1  1.3971002539462024E-15  -2.6664656275316093E-16  1.528826849318273E-16   \n",
       "2       1.332271089757576       1.2370935981826656      1.194352902669203   \n",
       "3       -26.1605059358433        -43.5572415712451      -73.2167184552674   \n",
       "4        73.3016255459646         120.589493945238       20.0072083651213   \n",
       "\n",
       "   ...                    V21                     V22                     V23  \\\n",
       "0  ...                 284807                  284807                  284807   \n",
       "1  ...  3.718282533002536E-16  -4.630389413078843E-16  2.9858028284335985E-16   \n",
       "2  ...      0.734524014371313       0.725701560440911      0.6244602955949902   \n",
       "3  ...      -34.8303821448146        -10.933143697655       -44.8077352037913   \n",
       "4  ...       27.2028391573154        10.5030900899454        22.5284116897749   \n",
       "\n",
       "                     V24                    V25                     V26  \\\n",
       "0                 284807                 284807                  284807   \n",
       "1  4.504351011597839E-15  7.153153300204557E-16  1.6364035688721307E-15   \n",
       "2     0.6056470678271607     0.5212780705409428     0.48222701326105727   \n",
       "3      -2.83662691870341      -10.2953970749851       -2.60455055280817   \n",
       "4       4.58454913689817       7.51958867870916         3.5173456116238   \n",
       "\n",
       "                      V27                      V28              Amount  \\\n",
       "0                  284807                   284807              284807   \n",
       "1  -3.568593220079729E-16  -1.2593860860572196E-16   88.34961925093698   \n",
       "2      0.4036324949650301       0.3300832641602508  250.12010924018836   \n",
       "3       -22.5656793207827        -15.4300839055349                 0.0   \n",
       "4        31.6121981061363         33.8478078188831            25691.16   \n",
       "\n",
       "                  Class  \n",
       "0                284807  \n",
       "1  0.001727485630620034  \n",
       "2  0.041527189635464895  \n",
       "3                     0  \n",
       "4                     1  \n",
       "\n",
       "[5 rows x 32 columns]"
      ]
     },
     "execution_count": 49,
     "metadata": {},
     "output_type": "execute_result"
    }
   ],
   "source": [
    "df_raw.describe().toPandas()"
   ]
  },
  {
   "cell_type": "code",
   "execution_count": 39,
   "metadata": {},
   "outputs": [
    {
     "name": "stdout",
     "output_type": "stream",
     "text": [
      "+-----+------+----------+\n",
      "|Class| count|Porcentaje|\n",
      "+-----+------+----------+\n",
      "|    1|   492|     0.173|\n",
      "|    0|284315|    99.827|\n",
      "+-----+------+----------+\n",
      "\n"
     ]
    }
   ],
   "source": [
    "df_raw.groupBy(\"Class\").count().withColumn(\"Porcentaje\", round(((col(\"count\")/df_raw.count())*100),3)).show()"
   ]
  },
  {
   "cell_type": "code",
   "execution_count": 95,
   "metadata": {},
   "outputs": [],
   "source": [
    "def correlation(df, pr, sc):\n",
    "    temp={}\n",
    "    for a in sc:\n",
    "        temp[a]=df.corr(pr,a)\n",
    "    return temp\n",
    "udf_correlation = udf(correlation)"
   ]
  },
  {
   "cell_type": "code",
   "execution_count": 96,
   "metadata": {},
   "outputs": [],
   "source": [
    "columns = df_raw.columns[:-1]\n",
    "\n",
    "arra_corr= correlation(df_raw,\"Class\",columns)"
   ]
  },
  {
   "cell_type": "code",
   "execution_count": 97,
   "metadata": {},
   "outputs": [
    {
     "data": {
      "text/plain": [
       "{'Time': -0.012322570929245614,\n",
       " 'V1': -0.10134729859508633,\n",
       " 'V2': 0.09128865034462078,\n",
       " 'V3': -0.19296082706741635,\n",
       " 'V4': 0.133447486239006,\n",
       " 'V5': -0.09497429899144971,\n",
       " 'V6': -0.04364316069996451,\n",
       " 'V7': -0.18725659151430055,\n",
       " 'V8': 0.01987512391479484,\n",
       " 'V9': -0.09773268607407982,\n",
       " 'V10': -0.2168829436410303,\n",
       " 'V11': 0.1548756447439496,\n",
       " 'V12': -0.2605929248772209,\n",
       " 'V13': -0.004569778799461313,\n",
       " 'V14': -0.302543695804408,\n",
       " 'V15': -0.0042234022678568055,\n",
       " 'V16': -0.19653894030402144,\n",
       " 'V17': -0.3264810672437195,\n",
       " 'V18': -0.11148525388904275,\n",
       " 'V19': 0.03478301303651525,\n",
       " 'V20': 0.020090324196975522,\n",
       " 'V21': 0.04041338061057601,\n",
       " 'V22': 0.0008053175052981853,\n",
       " 'V23': -0.002685155740250735,\n",
       " 'V24': -0.007220906715952842,\n",
       " 'V25': 0.0033077055972996305,\n",
       " 'V26': 0.004455397501283379,\n",
       " 'V27': 0.017579728189513248,\n",
       " 'V28': 0.009536040916236253,\n",
       " 'Amount': 0.0056317530067686115}"
      ]
     },
     "execution_count": 97,
     "metadata": {},
     "output_type": "execute_result"
    }
   ],
   "source": [
    "arra_corr"
   ]
  },
  {
   "cell_type": "code",
   "execution_count": 85,
   "metadata": {},
   "outputs": [],
   "source": [
    "df_label_1 = df_raw.where(col(\"Class\") == 1)\n",
    "df_label_0 = df_raw.where(col(\"Class\") == 0).sample(False, df_label_1.count()/df_raw.count(),42)\n",
    "df_final = df_label_1.union(df_label_0).orderBy(rand())"
   ]
  },
  {
   "cell_type": "code",
   "execution_count": 100,
   "metadata": {},
   "outputs": [],
   "source": [
    "feature_columns = columns.copy()\n",
    "vectorizer = VectorAssembler(inputCols = feature_columns, outputCol=\"features\")"
   ]
  },
  {
   "cell_type": "code",
   "execution_count": 101,
   "metadata": {},
   "outputs": [],
   "source": [
    "df_train, df_test = df_final.randomSplit([0.8, 0.2], seed = 123)"
   ]
  },
  {
   "cell_type": "code",
   "execution_count": 102,
   "metadata": {},
   "outputs": [],
   "source": [
    "from pyspark.ml.classification import RandomForestClassifier"
   ]
  },
  {
   "cell_type": "code",
   "execution_count": 103,
   "metadata": {},
   "outputs": [
    {
     "data": {
      "text/plain": [
       "RandomForestClassifier_a6ebcdd303bb"
      ]
     },
     "execution_count": 103,
     "metadata": {},
     "output_type": "execute_result"
    }
   ],
   "source": [
    "# Declaramos nuestro algoritmo \n",
    "est = RandomForestClassifier()\n",
    "est.setFeatureSubsetStrategy(\"auto\")\n",
    "est.setLabelCol(\"Class\")\n",
    "est.setSeed(42)"
   ]
  },
  {
   "cell_type": "code",
   "execution_count": 105,
   "metadata": {},
   "outputs": [],
   "source": [
    "from pyspark.ml import Pipeline\n",
    "from pyspark.ml.classification import DecisionTreeClassifier\n",
    "from pyspark.ml.feature import VectorAssembler \n",
    "from pyspark.sql.functions import *\n",
    "from sklearn.metrics import classification_report, confusion_matrix\n",
    "from pyspark.ml.evaluation import BinaryClassificationEvaluator\n",
    "from pyspark.mllib.evaluation import MulticlassMetrics\n",
    "from pyspark.ml.tuning import CrossValidator, ParamGridBuilder, CrossValidatorModel\n",
    "\n",
    "# Conectamos mediante una tuberia nuestro vectorizer y nuestro algoritmo\n",
    "pipeline = Pipeline()\n",
    "pipeline.setStages([vectorizer, est])\n",
    "# Entrenamos el algoritmo\n",
    "model = pipeline.fit(df_train)"
   ]
  },
  {
   "cell_type": "code",
   "execution_count": 106,
   "metadata": {},
   "outputs": [],
   "source": [
    "df_test_pred = model.transform(df_test)"
   ]
  },
  {
   "cell_type": "code",
   "execution_count": 107,
   "metadata": {},
   "outputs": [
    {
     "name": "stdout",
     "output_type": "stream",
     "text": [
      "              precision    recall  f1-score   support\n",
      "\n",
      "           0       0.93      0.95      0.94       102\n",
      "           1       0.94      0.92      0.93        90\n",
      "\n",
      "    accuracy                           0.94       192\n",
      "   macro avg       0.94      0.94      0.94       192\n",
      "weighted avg       0.94      0.94      0.94       192\n",
      "\n"
     ]
    }
   ],
   "source": [
    "# Creamos la Matrix de cunfusion \n",
    "y_true = df_test_pred.select(['Class']).collect()\n",
    "y_pred = df_test_pred.select(['prediction']).collect()\n",
    "print(classification_report(y_true, y_pred))"
   ]
  },
  {
   "cell_type": "code",
   "execution_count": 118,
   "metadata": {},
   "outputs": [],
   "source": [
    "# Comenzamos a tunear el CrossValidator\n",
    "\n",
    "paramGrid = ParamGridBuilder()\\\n",
    "            .addGrid(est.maxBins,[10,50,100])\\\n",
    "            .addGrid(est.impurity,[\"entropy\",\"gini\"])\\\n",
    "            .addGrid(est.maxDepth,[4,6,8])\\\n",
    "            .addGrid(est.categoricalFeaturesInfo,[])\n",
    "            .build()\n",
    "\n",
    "evaluator = BinaryClassificationEvaluator()\\\n",
    "            .setLabelCol(\"Class\")\\\n",
    "            .setMetricName(\"areaUnderPR\")\n",
    "\n",
    "\n",
    "crossval = CrossValidator(estimator=pipeline,\n",
    "                          estimatorParamMaps=paramGrid,\n",
    "                          evaluator=evaluator,\n",
    "                          numFolds=2)"
   ]
  },
  {
   "cell_type": "code",
   "execution_count": 119,
   "metadata": {},
   "outputs": [],
   "source": [
    "# Entrenamos y realizamos las predicciones\n",
    "cvModel = crossval.fit(df_train)\n",
    "df_test_pred = cvModel.transform(df_test)"
   ]
  },
  {
   "cell_type": "code",
   "execution_count": 120,
   "metadata": {},
   "outputs": [
    {
     "name": "stdout",
     "output_type": "stream",
     "text": [
      "              precision    recall  f1-score   support\n",
      "\n",
      "           0       0.92      0.96      0.94       102\n",
      "           1       0.95      0.91      0.93        90\n",
      "\n",
      "    accuracy                           0.94       192\n",
      "   macro avg       0.94      0.94      0.94       192\n",
      "weighted avg       0.94      0.94      0.94       192\n",
      "\n"
     ]
    }
   ],
   "source": [
    "# Introducimos nuestras predicciones en la matrix de confusion y observamos una mejora de nuestras metricas. \n",
    "y_true = df_test_pred.select(['Class']).collect()\n",
    "y_pred = df_test_pred.select(['prediction']).collect()\n",
    "print(classification_report(y_true, y_pred))"
   ]
  },
  {
   "cell_type": "code",
   "execution_count": 122,
   "metadata": {},
   "outputs": [
    {
     "data": {
      "text/plain": [
       "<bound method Params.explainParams of CrossValidator_2b946270bac3>"
      ]
     },
     "execution_count": 122,
     "metadata": {},
     "output_type": "execute_result"
    }
   ],
   "source": []
  },
  {
   "cell_type": "code",
   "execution_count": null,
   "metadata": {},
   "outputs": [],
   "source": []
  }
 ],
 "metadata": {
  "kernelspec": {
   "display_name": "Python 3",
   "language": "python",
   "name": "python3"
  },
  "language_info": {
   "codemirror_mode": {
    "name": "ipython",
    "version": 3
   },
   "file_extension": ".py",
   "mimetype": "text/x-python",
   "name": "python",
   "nbconvert_exporter": "python",
   "pygments_lexer": "ipython3",
   "version": "3.8.5"
  }
 },
 "nbformat": 4,
 "nbformat_minor": 4
}
