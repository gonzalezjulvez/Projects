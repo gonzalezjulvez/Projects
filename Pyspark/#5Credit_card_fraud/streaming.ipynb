{
 "metadata": {
  "language_info": {
   "codemirror_mode": {
    "name": "ipython",
    "version": 3
   },
   "file_extension": ".py",
   "mimetype": "text/x-python",
   "name": "python",
   "nbconvert_exporter": "python",
   "pygments_lexer": "ipython3",
   "version": "3.8.5-final"
  },
  "orig_nbformat": 2,
  "kernelspec": {
   "name": "python3",
   "display_name": "Python 3",
   "language": "python"
  }
 },
 "nbformat": 4,
 "nbformat_minor": 2,
 "cells": [
  {
   "cell_type": "code",
   "execution_count": 3,
   "metadata": {},
   "outputs": [],
   "source": [
    "import findspark\n",
    "findspark.init()\n",
    "from pyspark.sql import SparkSession\n",
    "from pyspark.sql.functions import explode\n",
    "from pyspark.sql.functions import split\n",
    "from pyspark.sql.types import *\n",
    "from pyspark.ml.feature import VectorAssembler\n",
    "from pyspark.ml.classification import LogisticRegressionModel\n"
   ]
  },
  {
   "cell_type": "code",
   "execution_count": 4,
   "metadata": {},
   "outputs": [],
   "source": [
    "# Creamos la sesion de nuestro spark\n",
    "spark = SparkSession \\\n",
    "    .builder \\\n",
    "    .appName(\"StructuredNetworkWordCount\") \\\n",
    "    .getOrCreate()"
   ]
  },
  {
   "cell_type": "code",
   "execution_count": null,
   "metadata": {},
   "outputs": [],
   "source": [
    "schema = StructType([StructField(\"Time\",DoubleType(),True),StructField(\"V1\",DoubleType(),True),StructField(\"V2\",DoubleType(),True),StructField(\"V3\",DoubleType(),True),\n",
    "StructField(\"V4\",DoubleType(),True),StructField(\"V5\",DoubleType(),True),StructField(\"V6\",DoubleType(),True),StructField(\"V7\",DoubleType(),True),StructField(\"V8\",DoubleType(),True),\n",
    "StructField(\"V9\",DoubleType(),True),StructField(\"V10\",DoubleType(),True),StructField(\"V11\",DoubleType(),True),StructField(\"V12\",DoubleType(),True),StructField(\"V13\",DoubleType(),True),\n",
    "StructField(\"V14\",DoubleType(),True),StructField(\"V15\",DoubleType(),True),StructField(\"V16\",DoubleType(),True),StructField(\"V17\",DoubleType(),True),StructField(\"V18\",DoubleType(),True),\n",
    "StructField(\"V19\",DoubleType(),True),StructField(\"V20\",DoubleType(),True),StructField(\"V21\",DoubleType(),True),StructField(\"V22\",DoubleType(),True),StructField(\"V23\",DoubleType(),True),\n",
    "StructField(\"V24\",DoubleType(),True),StructField(\"V25\",DoubleType(),True),StructField(\"V26\",DoubleType(),True),StructField(\"V27\",DoubleType(),True),StructField(\"V28\",DoubleType(),True),\n",
    "StructField(\"features\",DoubleType(),True),StructField(\"Amount\",DoubleType(),True)])\n",
    "\n",
    "lines = spark \\\n",
    "    .readStream \\\n",
    "    .format(\"kafka\")\\\n",
    "    .option(\"kafka.bootstrap.server\",\"localhost:9092\")\n",
    "    .option(\"subscribe\",\"credit_topic\")\\\n",
    "    .load()\\\n",
    "    .selectExpr(\"CAST(value AS STRING)\")\\\n",
    "    .select(from_json(col(\"value\"),schema).alias(\"parsed_value\"))\\\n",
    "    .select(\"parsed_value.*\")\n"
   ]
  },
  {
   "cell_type": "code",
   "execution_count": null,
   "metadata": {},
   "outputs": [],
   "source": [
    "model = LogisticRegressionModel.load(\"modelLR\")"
   ]
  },
  {
   "cell_type": "code",
   "execution_count": null,
   "metadata": {},
   "outputs": [],
   "source": [
    "predictions = model.transform(lines)\n",
    "y_pred = predictions.select('Class')\n",
    "\n"
   ]
  },
  {
   "cell_type": "code",
   "execution_count": null,
   "metadata": {},
   "outputs": [],
   "source": [
    "# Generate running word count\n",
    "query = y_pred \\\n",
    "    .writeStream \\\n",
    "    .format(\"parquet\")\\\n",
    "    .outputMode(\"append\") \\\n",
    "    .option(\"path\", \"hive/warehouse/credit_card_fraud\")\\\n",
    "    .option(\"checkpointLocation\", \"hive/checkpoint/credit_card_fraud\")\\\n",
    "    .start()\n",
    "\n",
    "query.awaitTermination()"
   ]
  },
  {
   "cell_type": "code",
   "execution_count": null,
   "metadata": {},
   "outputs": [],
   "source": []
  }
 ]
}