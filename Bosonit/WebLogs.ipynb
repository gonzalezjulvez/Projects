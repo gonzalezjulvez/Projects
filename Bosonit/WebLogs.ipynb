{
 "cells": [
  {
   "cell_type": "markdown",
   "metadata": {},
   "source": [
    "# Spark: Web Server Logs Analysis with Python"
   ]
  },
  {
   "cell_type": "markdown",
   "metadata": {},
   "source": [
    "El análisis de registros del servidor es un caso de uso ideal para Spark. Es una fuente de datos común muy grande y contiene un rico conjunto de información. Spark le permite almacenar sus registros en archivos en disco de forma económica, al mismo tiempo que proporciona una forma rápida y sencilla de realizar análisis de datos en ellos. Esta tarea le mostrará cómo usar Apache Spark en registros de producción basados en texto del mundo real y aprovechar al máximo el poder de esos datos. Los datos de registro provienen de muchas fuentes, como servidores web, de archivos y de computación, registros de aplicaciones, contenido generado por el usuario, y se pueden usar para monitorear servidores, mejorar la inteligencia comercial y del cliente, crear sistemas de recomendación, detección de fraudes y mucho más."
   ]
  },
  {
   "cell_type": "markdown",
   "metadata": {},
   "source": [
    "#### Parte 1: Introducción y importación\n",
    "\n",
    "Para este laboratorio, usaremos un conjunto de datos aleatorios del sitio web de Kaggle y contiene todas las solicitudes HTTP durante un año.\n"
   ]
  },
  {
   "cell_type": "code",
   "execution_count": 1,
   "metadata": {},
   "outputs": [],
   "source": [
    "import findspark\n",
    "findspark.init()"
   ]
  },
  {
   "cell_type": "code",
   "execution_count": 2,
   "metadata": {},
   "outputs": [],
   "source": [
    "# Importamos librerias necesarias. \n",
    "from pyspark.sql import SparkSession\n",
    "from pyspark.sql.types import *\n",
    "from pyspark.sql.window import Window\n",
    "from pyspark.sql.functions import *"
   ]
  },
  {
   "cell_type": "code",
   "execution_count": 3,
   "metadata": {},
   "outputs": [],
   "source": [
    "# Creamos las Session donde desarrollaremos nuestra aplicación.\n",
    "spark = SparkSession.builder.appName(\"weblog\").getOrCreate()"
   ]
  },
  {
   "cell_type": "code",
   "execution_count": 4,
   "metadata": {},
   "outputs": [],
   "source": [
    "# Crearemos el esquema donde se alojaran los datos a importar. En nuestro caso obtendremos 4 campos:\n",
    "schema = StructType([\n",
    "StructField(\"ip\",StringType(),False),\n",
    "StructField(\"timestamp\",StringType(),False),\n",
    "StructField(\"value\",StringType(),False),\n",
    "StructField(\"status\",StringType(),False)]\n",
    ")"
   ]
  },
  {
   "cell_type": "code",
   "execution_count": 5,
   "metadata": {},
   "outputs": [],
   "source": [
    "# Importamos los datos del csv\n",
    "df_raw = spark.read.format(\"csv\")\\\n",
    ".option(\"header\",\"true\")\\\n",
    ".option(\"inferSchema\",\"false\")\\\n",
    ".option(\"sep\",\",\")\\\n",
    ".schema(schema)\\\n",
    ".load(\"weblog.csv\")"
   ]
  },
  {
   "cell_type": "code",
   "execution_count": 6,
   "metadata": {},
   "outputs": [
    {
     "name": "stdout",
     "output_type": "stream",
     "text": [
      "+----------+---------------------+---------------------------------------------+------+\n",
      "|ip        |timestamp            |value                                        |status|\n",
      "+----------+---------------------+---------------------------------------------+------+\n",
      "|10.128.2.1|[29/Nov/2017:06:58:55|GET /login.php HTTP/1.1                      |200   |\n",
      "|10.128.2.1|[29/Nov/2017:06:59:02|POST /process.php HTTP/1.1                   |302   |\n",
      "|10.128.2.1|[29/Nov/2017:06:59:03|GET /home.php HTTP/1.1                       |200   |\n",
      "|10.131.2.1|[29/Nov/2017:06:59:04|GET /js/vendor/moment.min.js HTTP/1.1        |200   |\n",
      "|10.130.2.1|[29/Nov/2017:06:59:06|GET /bootstrap-3.3.7/js/bootstrap.js HTTP/1.1|200   |\n",
      "|10.130.2.1|[29/Nov/2017:06:59:19|GET /profile.php?user=bala HTTP/1.1          |200   |\n",
      "|10.128.2.1|[29/Nov/2017:06:59:19|GET /js/jquery.min.js HTTP/1.1               |200   |\n",
      "|10.131.2.1|[29/Nov/2017:06:59:19|GET /js/chart.min.js HTTP/1.1                |200   |\n",
      "|10.131.2.1|[29/Nov/2017:06:59:30|GET /edit.php?name=bala HTTP/1.1             |200   |\n",
      "|10.131.2.1|[29/Nov/2017:06:59:37|GET /logout.php HTTP/1.1                     |302   |\n",
      "+----------+---------------------+---------------------------------------------+------+\n",
      "only showing top 10 rows\n",
      "\n"
     ]
    }
   ],
   "source": [
    "# Comprobamos si se ha importado el archivo y damos un primer vistazo a nuestros datos.\n",
    "df_raw.show(10, False)"
   ]
  },
  {
   "cell_type": "markdown",
   "metadata": {},
   "source": [
    "#### Part 2: Exploratory Data Analysis\n",
    "\n",
    "Una vez importados los datos deberemos realizar un análisis exploratorio permitiéndonos hacernos una idea de la estructura de los datos y su composición."
   ]
  },
  {
   "cell_type": "code",
   "execution_count": 7,
   "metadata": {},
   "outputs": [
    {
     "name": "stdout",
     "output_type": "stream",
     "text": [
      "Numero de registros weblogs: 16007\n",
      "root\n",
      " |-- ip: string (nullable = true)\n",
      " |-- timestamp: string (nullable = true)\n",
      " |-- value: string (nullable = true)\n",
      " |-- status: string (nullable = true)\n",
      "\n"
     ]
    }
   ],
   "source": [
    "print(f\"Numero de registros weblogs: {df_raw.count()}\")\n",
    "df_raw.printSchema()"
   ]
  },
  {
   "cell_type": "code",
   "execution_count": 8,
   "metadata": {},
   "outputs": [
    {
     "name": "stdout",
     "output_type": "stream",
     "text": [
      "+-------+----------+--------------------+-----------------+------------------+\n",
      "|summary|        ip|           timestamp|            value|            status|\n",
      "+-------+----------+--------------------+-----------------+------------------+\n",
      "|  count|     16007|               16007|            16007|             16007|\n",
      "|   mean|      null|                null|            992.0|230.19469250744189|\n",
      "| stddev|      null|                null|343.2105767600993| 50.05853522906924|\n",
      "|    min|10.128.2.1|C:WINDOWSSystem32...|           '*.o':|               200|\n",
      "|    max|  timeout:|                 the|              not|             found|\n",
      "+-------+----------+--------------------+-----------------+------------------+\n",
      "\n"
     ]
    }
   ],
   "source": [
    "df_raw.describe().show()"
   ]
  },
  {
   "cell_type": "code",
   "execution_count": 9,
   "metadata": {},
   "outputs": [
    {
     "name": "stdout",
     "output_type": "stream",
     "text": [
      "+---+---------+-----+------+\n",
      "| ip|timestamp|value|status|\n",
      "+---+---------+-----+------+\n",
      "|  0|        0|    0|     0|\n",
      "+---+---------+-----+------+\n",
      "\n"
     ]
    }
   ],
   "source": [
    "df_raw.select([count(when(isnan(c), c)).alias(c) for c in df_raw.columns]).show()"
   ]
  },
  {
   "cell_type": "markdown",
   "metadata": {},
   "source": [
    "#### 2.1 Exploración de variables"
   ]
  },
  {
   "cell_type": "markdown",
   "metadata": {},
   "source": [
    "##### Variable IP"
   ]
  },
  {
   "cell_type": "code",
   "execution_count": 10,
   "metadata": {},
   "outputs": [
    {
     "name": "stdout",
     "output_type": "stream",
     "text": [
      "+----------+-----+\n",
      "|        ip|count|\n",
      "+----------+-----+\n",
      "|10.128.2.1| 4257|\n",
      "|10.131.0.1| 4198|\n",
      "|10.130.2.1| 4056|\n",
      "|10.129.2.1| 1652|\n",
      "|10.131.2.1| 1626|\n",
      "|    chmod:|   95|\n",
      "|       rm:|   72|\n",
      "|      [Tue|   17|\n",
      "|       sh:|    7|\n",
      "|      [Thu|    6|\n",
      "|  timeout:|    5|\n",
      "|      [Wed|    5|\n",
      "|      [Mon|    5|\n",
      "|    a.out:|    4|\n",
      "|      [Fri|    1|\n",
      "|      [Sat|    1|\n",
      "+----------+-----+\n",
      "\n"
     ]
    }
   ],
   "source": [
    "df_raw.groupby(\"ip\").count().orderBy(desc(\"count\")).show()"
   ]
  },
  {
   "cell_type": "markdown",
   "metadata": {},
   "source": [
    "Vemos que existen registros de ip extraños, deberemos estudiar esos registros por si podrían estar dañados o erróneos."
   ]
  },
  {
   "cell_type": "code",
   "execution_count": 11,
   "metadata": {},
   "outputs": [],
   "source": [
    "# Recogemos todos los datos donde la ip no coincide una estructura normal.\n",
    "bad_lines = df_raw.filter(~col(\"ip\").startswith(\"10\"))"
   ]
  },
  {
   "cell_type": "code",
   "execution_count": 12,
   "metadata": {},
   "outputs": [
    {
     "name": "stdout",
     "output_type": "stream",
     "text": [
      "Numero de lineas malas:218\n",
      "+--------+---------+------------+------------+\n",
      "|      ip|timestamp|       value|      status|\n",
      "+--------+---------+------------+------------+\n",
      "|  chmod:|   cannot|    'a.out':|          No|\n",
      "|  chmod:|   cannot|'error.txt':|          No|\n",
      "|     rm:|   cannot|      '*.o':|          No|\n",
      "|     rm:|   cannot|    'a.out':|          No|\n",
      "|  chmod:|   cannot|'error.txt':|          No|\n",
      "|timeout:|      the|     command|      dumped|\n",
      "|     sh:|     line|         451|Segmentation|\n",
      "|     rm:|   cannot|      '*.o':|          No|\n",
      "|  chmod:|   cannot|    'a.out':|          No|\n",
      "|  chmod:|   cannot|'error.txt':|          No|\n",
      "|     rm:|   cannot|      '*.o':|          No|\n",
      "|  chmod:|   cannot|'error.txt':|          No|\n",
      "|  chmod:|   cannot|'error.txt':|          No|\n",
      "|  chmod:|   cannot|'error.txt':|          No|\n",
      "|     rm:|   cannot|      '*.o':|          No|\n",
      "|  chmod:|   cannot|'error.txt':|          No|\n",
      "|  chmod:|   cannot|    'a.out':|          No|\n",
      "|     rm:|   cannot|      '*.o':|          No|\n",
      "|     rm:|   cannot|    'a.out':|          No|\n",
      "|  chmod:|   cannot|'error.txt':|          No|\n",
      "+--------+---------+------------+------------+\n",
      "only showing top 20 rows\n",
      "\n"
     ]
    }
   ],
   "source": [
    "print(f\"Numero de lineas malas:{bad_lines.count()}\")\n",
    "bad_lines.show()"
   ]
  },
  {
   "cell_type": "markdown",
   "metadata": {},
   "source": [
    "Observamos que se tratarían de registros erróneos que no nos aportara información a nuestro análisis. Entre estos registros vemos que hay muchos datos duplicados antes tomar una decisión sobre que hacer con los datos \n",
    "no aseguremos si existe información en estos registros eliminando los duplicados.\n"
   ]
  },
  {
   "cell_type": "code",
   "execution_count": 13,
   "metadata": {},
   "outputs": [
    {
     "name": "stdout",
     "output_type": "stream",
     "text": [
      "+--------+--------------------+------------+------------+\n",
      "|      ip|           timestamp|       value|      status|\n",
      "+--------+--------------------+------------+------------+\n",
      "|     sh:|                line|        1226|     Aborted|\n",
      "|  a.out:|        main.cpp:51:|     main():|   Assertion|\n",
      "|     rm:|              cannot|    'a.out':|          No|\n",
      "|     sh:|C:WINDOWSSystem32...|         not|       found|\n",
      "|     sh:|                line|         848|     Aborted|\n",
      "|  chmod:|              cannot|'error.txt':|          No|\n",
      "|    [Tue|                 Feb|     24:12.8|       2018]|\n",
      "|     sh:|                line|         451|Segmentation|\n",
      "|  chmod:|              cannot|    'a.out':|          No|\n",
      "|    [Mon|                 Feb|     52:06.9|       2018]|\n",
      "|    [Tue|                 Jan|     02:49.8|       2018]|\n",
      "|timeout:|                 the|     command|      dumped|\n",
      "|    [Wed|                 Dec|     29:09.2|       2017]|\n",
      "|     sh:|                line|        1192|     Aborted|\n",
      "|    [Thu|                 Dec|     44:47.7|       2017]|\n",
      "|    [Tue|                 Jan|     00:53.4|       2018]|\n",
      "|    [Sat|                 Feb|     20:28.3|       2018]|\n",
      "|     sh:|                line|        1243|     Aborted|\n",
      "|  a.out:|        main.cpp:64:|     main():|   Assertion|\n",
      "|    [Tue|                 Dec|     51:47.0|       2017]|\n",
      "|     rm:|              cannot|      '*.o':|          No|\n",
      "|    [Fri|                 Feb|     40:28.7|       2018]|\n",
      "|    [Tue|                 Jan|     12:58.7|       2018]|\n",
      "|    [Thu|                 Jan|     48:37.1|       2018]|\n",
      "+--------+--------------------+------------+------------+\n",
      "\n"
     ]
    }
   ],
   "source": [
    "bad_lines.dropDuplicates().show(24)"
   ]
  },
  {
   "cell_type": "markdown",
   "metadata": {},
   "source": [
    "Existen 24 registros únicos que se repiten un total de 218 veces a lo largo de nuestro dataframe y no nos aportaría información lo que lo borraríamos para poder centrarnos en los weblog de nuestros clientes."
   ]
  },
  {
   "cell_type": "markdown",
   "metadata": {},
   "source": [
    "##### Variable Status"
   ]
  },
  {
   "cell_type": "code",
   "execution_count": 14,
   "metadata": {},
   "outputs": [
    {
     "name": "stdout",
     "output_type": "stream",
     "text": [
      "+------------+-----+\n",
      "|      status|count|\n",
      "+------------+-----+\n",
      "|         200|11330|\n",
      "|       2018]|   28|\n",
      "|     Aborted|    4|\n",
      "|   Assertion|    4|\n",
      "|         206|   52|\n",
      "|         302| 3498|\n",
      "|         404|  251|\n",
      "|       2017]|    7|\n",
      "|      dumped|    5|\n",
      "|          No|  167|\n",
      "|         304|  658|\n",
      "|       found|    2|\n",
      "|Segmentation|    1|\n",
      "+------------+-----+\n",
      "\n"
     ]
    }
   ],
   "source": [
    "df_raw.groupby(\"status\").count().show()"
   ]
  },
  {
   "cell_type": "markdown",
   "metadata": {},
   "source": [
    "Obtenemos cinco clases de status HTTP junto con 218 registros null."
   ]
  },
  {
   "cell_type": "markdown",
   "metadata": {},
   "source": [
    "#### Parte 3. Limpieza y Parseado de los datos "
   ]
  },
  {
   "cell_type": "markdown",
   "metadata": {},
   "source": [
    "Según los estudios anteriores que le hemos realizado a nuestro dataFrame nos hemos data cuenta que existen 218 registros erro neos que deberemos eliminar, ademas deberemos parsear nuestros datos para obtener mucho mas información de los mismo. La columna de Value debe dividirse en tres columnas mediante la función regex_extract permitendonos obtener el método, path y protocolo de la weblogs."
   ]
  },
  {
   "cell_type": "code",
   "execution_count": 15,
   "metadata": {},
   "outputs": [],
   "source": [
    "# Eliminamos todos lo registros erroneos\n",
    "df_cleaned = df_raw.filter(col(\"ip\").startswith(\"10\"))"
   ]
  },
  {
   "cell_type": "code",
   "execution_count": 16,
   "metadata": {},
   "outputs": [
    {
     "name": "stdout",
     "output_type": "stream",
     "text": [
      "+----------+--------------------+------+--------------------------------+---------+------+\n",
      "|ip        |timestamp           |metodo|path                            |protocolo|status|\n",
      "+----------+--------------------+------+--------------------------------+---------+------+\n",
      "|10.128.2.1|29/Nov/2017:06:58:55|GET   |/login.php                      |HTTP/1.1 |200   |\n",
      "|10.128.2.1|29/Nov/2017:06:59:02|POST  |/process.php                    |HTTP/1.1 |302   |\n",
      "|10.128.2.1|29/Nov/2017:06:59:03|GET   |/home.php                       |HTTP/1.1 |200   |\n",
      "|10.131.2.1|29/Nov/2017:06:59:04|GET   |/js/vendor/moment.min.js        |HTTP/1.1 |200   |\n",
      "|10.130.2.1|29/Nov/2017:06:59:06|GET   |/bootstrap-3.3.7/js/bootstrap.js|HTTP/1.1 |200   |\n",
      "|10.130.2.1|29/Nov/2017:06:59:19|GET   |/profile.php?user=bala          |HTTP/1.1 |200   |\n",
      "|10.128.2.1|29/Nov/2017:06:59:19|GET   |/js/jquery.min.js               |HTTP/1.1 |200   |\n",
      "|10.131.2.1|29/Nov/2017:06:59:19|GET   |/js/chart.min.js                |HTTP/1.1 |200   |\n",
      "|10.131.2.1|29/Nov/2017:06:59:30|GET   |/edit.php?name=bala             |HTTP/1.1 |200   |\n",
      "|10.131.2.1|29/Nov/2017:06:59:37|GET   |/logout.php                     |HTTP/1.1 |302   |\n",
      "+----------+--------------------+------+--------------------------------+---------+------+\n",
      "only showing top 10 rows\n",
      "\n"
     ]
    }
   ],
   "source": [
    "# Parseamos nuestros datos y realizamos un split para añadir mas columnas de nuestro interés al dataframe.\n",
    "temp = df_cleaned.withColumn(\"ip\",regexp_extract(col(\"ip\"),r'(\\d{1,3}\\.\\d{1,3}\\.\\d{1,3}\\.\\d{1,3})', 1))\n",
    "temp=  temp.withColumn(\"timestamp\",regexp_extract(col(\"timestamp\"),r'\\[(\\d+\\/\\w{3}\\/\\d{4}:\\d{2}:\\d{2}:\\d{2})', 1))\n",
    "temp = temp.withColumn(\"metodo\",regexp_extract(col(\"value\"),r'(\\w+)\\s+([^\\s]+)\\s+(\\w+\\/\\d+.\\d+)', 1))\n",
    "temp = temp.withColumn(\"path\",regexp_extract(col(\"value\"),r'(\\w+)\\s+([^\\s]+)\\s+(\\w+\\/\\d+.\\d+)', 2))\n",
    "temp = temp.withColumn(\"protocolo\",regexp_extract(col(\"value\"),r'(\\w+)\\s+([^\\s]+)\\s+(\\w+\\/\\d+.\\d+)', 3))\n",
    "temp = temp.withColumn(\"status\",regexp_extract(col(\"status\"),r'(\\d{3})', 1))\n",
    "temp = temp.drop(\"value\")\n",
    "df = temp.select(\"ip\",\"timestamp\",\"metodo\",\"path\",\"protocolo\",\"status\")\n",
    "df.show(10,False)"
   ]
  },
  {
   "cell_type": "code",
   "execution_count": 17,
   "metadata": {},
   "outputs": [],
   "source": [
    "# Parseamos la fecha\n",
    "mes = {'Jan':1,'Feb':2,'Mar':3,'Apr':4,'May':5,'Jun':6,'Jul':7,'Aug':8,'Sep':9,'Oct':10,'Nov':11,'Dec':12}\n",
    "def parse_clf_time(s):\n",
    "    return \"{0:02d}-{1:02d}-{2:04d} {3:02d}:{4:02d}:{5:02d}\".format(\n",
    "      int(s[7:11]),\n",
    "      mes[s[3:6]],\n",
    "      int(s[0:2]),\n",
    "      int(s[12:14]),\n",
    "      int(s[15:17]),\n",
    "      int(s[18:20])\n",
    "    )\n",
    "u_parse_time = udf(parse_clf_time)\n",
    "# Una vez parseada la fecha deberemos transformarla la tipología del dato y nos permita obtener mucha mas información de registro.\n",
    "df = df.withColumn(\"timestamp\",u_parse_time(df['timestamp']).cast('timestamp'))"
   ]
  },
  {
   "cell_type": "code",
   "execution_count": 18,
   "metadata": {},
   "outputs": [
    {
     "name": "stdout",
     "output_type": "stream",
     "text": [
      "+----------+-------------------+------+--------------------+---------+------+\n",
      "|        ip|          timestamp|metodo|                path|protocolo|status|\n",
      "+----------+-------------------+------+--------------------+---------+------+\n",
      "|10.128.2.1|2017-11-29 06:58:55|   GET|          /login.php| HTTP/1.1|   200|\n",
      "|10.128.2.1|2017-11-29 06:59:02|  POST|        /process.php| HTTP/1.1|   302|\n",
      "|10.128.2.1|2017-11-29 06:59:03|   GET|           /home.php| HTTP/1.1|   200|\n",
      "|10.131.2.1|2017-11-29 06:59:04|   GET|/js/vendor/moment...| HTTP/1.1|   200|\n",
      "|10.130.2.1|2017-11-29 06:59:06|   GET|/bootstrap-3.3.7/...| HTTP/1.1|   200|\n",
      "|10.130.2.1|2017-11-29 06:59:19|   GET|/profile.php?user...| HTTP/1.1|   200|\n",
      "|10.128.2.1|2017-11-29 06:59:19|   GET|   /js/jquery.min.js| HTTP/1.1|   200|\n",
      "|10.131.2.1|2017-11-29 06:59:19|   GET|    /js/chart.min.js| HTTP/1.1|   200|\n",
      "|10.131.2.1|2017-11-29 06:59:30|   GET| /edit.php?name=bala| HTTP/1.1|   200|\n",
      "|10.131.2.1|2017-11-29 06:59:37|   GET|         /logout.php| HTTP/1.1|   302|\n",
      "|10.131.2.1|2017-11-29 06:59:37|   GET|          /login.php| HTTP/1.1|   200|\n",
      "|10.130.2.1|2017-11-29 07:00:19|   GET|          /login.php| HTTP/1.1|   200|\n",
      "|10.130.2.1|2017-11-29 07:00:21|   GET|          /login.php| HTTP/1.1|   200|\n",
      "|10.130.2.1|2017-11-29 13:31:27|   GET|                   /| HTTP/1.1|   302|\n",
      "|10.130.2.1|2017-11-29 13:31:28|   GET|          /login.php| HTTP/1.1|   200|\n",
      "|10.129.2.1|2017-11-29 13:38:03|  POST|        /process.php| HTTP/1.1|   302|\n",
      "|10.131.0.1|2017-11-29 13:38:04|   GET|           /home.php| HTTP/1.1|   200|\n",
      "|10.131.0.1|2017-11-29 13:38:07|   GET|/contestproblem.p...| HTTP/1.1|   200|\n",
      "|10.130.2.1|2017-11-29 13:38:19|   GET|                   /| HTTP/1.1|   302|\n",
      "|10.131.2.1|2017-11-29 13:38:20|   GET|          /login.php| HTTP/1.1|   200|\n",
      "+----------+-------------------+------+--------------------+---------+------+\n",
      "only showing top 20 rows\n",
      "\n"
     ]
    }
   ],
   "source": [
    "df.cache()\n",
    "df.show()"
   ]
  },
  {
   "cell_type": "markdown",
   "metadata": {},
   "source": [
    "#### Parte 4. Analysis Walk-Through on the Web Server Log File"
   ]
  },
  {
   "cell_type": "markdown",
   "metadata": {},
   "source": [
    "##### 1. ¿Analizá los status de los registros?"
   ]
  },
  {
   "cell_type": "markdown",
   "metadata": {},
   "source": [
    "**Status**\n",
    "\n",
    "302 -- El recurso se ha movido temporalmente.\n",
    "\n",
    "304 -- No es necesario retransmitir recursos solicitados\n",
    "\n",
    "200 -- Respuesta satisfactoria.\n",
    "\n",
    "404 -- Error\n",
    "\n",
    "206 -- Contenido partial. "
   ]
  },
  {
   "cell_type": "code",
   "execution_count": 19,
   "metadata": {},
   "outputs": [
    {
     "name": "stdout",
     "output_type": "stream",
     "text": [
      "+------+-----+\n",
      "|status|count|\n",
      "+------+-----+\n",
      "|   200|11330|\n",
      "|   206|   52|\n",
      "|   302| 3498|\n",
      "|   304|  658|\n",
      "|   404|  251|\n",
      "+------+-----+\n",
      "\n"
     ]
    }
   ],
   "source": [
    "# Analizamos el status del http\n",
    "df.groupby(\"status\").count().orderBy(\"status\").show()"
   ]
  },
  {
   "cell_type": "markdown",
   "metadata": {},
   "source": [
    "Observamos que los principales status de los registros obtenidos se tratan de weblogs que se han realizado con éxito. Observamos que existen también weblogs que han salido defectuosos con el status 404, intentaremos analizar si existe una causa."
   ]
  },
  {
   "cell_type": "code",
   "execution_count": 20,
   "metadata": {},
   "outputs": [
    {
     "name": "stdout",
     "output_type": "stream",
     "text": [
      "+----------+-----+\n",
      "|        ip|count|\n",
      "+----------+-----+\n",
      "|10.131.2.1|   30|\n",
      "|10.128.2.1|   67|\n",
      "|10.130.2.1|   52|\n",
      "|10.131.0.1|   61|\n",
      "|10.129.2.1|   41|\n",
      "+----------+-----+\n",
      "\n"
     ]
    }
   ],
   "source": [
    "# Analizamos las conexiones por IP\n",
    "df.where(col(\"status\") == \"404\").groupby(\"ip\").count().show()"
   ]
  },
  {
   "cell_type": "markdown",
   "metadata": {},
   "source": [
    "Observamos que hay una distribución uniforme por usuario entre los errores obtenidos en los registros."
   ]
  },
  {
   "cell_type": "code",
   "execution_count": 21,
   "metadata": {},
   "outputs": [
    {
     "name": "stdout",
     "output_type": "stream",
     "text": [
      "+---------+-----+\n",
      "|protocolo|count|\n",
      "+---------+-----+\n",
      "| HTTP/1.1|  251|\n",
      "+---------+-----+\n",
      "\n"
     ]
    }
   ],
   "source": [
    "# protocolos\n",
    "df.where(col(\"status\") == \"404\").groupby(\"protocolo\").count().show()"
   ]
  },
  {
   "cell_type": "markdown",
   "metadata": {},
   "source": [
    "Los errores no se han producido por el uso de un protocolo desactualizado sino que se han producido todos ellos en la versión mas actualizada del dataframe. "
   ]
  },
  {
   "cell_type": "code",
   "execution_count": 22,
   "metadata": {},
   "outputs": [
    {
     "name": "stdout",
     "output_type": "stream",
     "text": [
      "+---------------------------------------+-----+\n",
      "|path                                   |count|\n",
      "+---------------------------------------+-----+\n",
      "|/robots.txt                            |224  |\n",
      "|/favicon.ico                           |19   |\n",
      "|/djs/vendor/bootstrap-datetimepicker.js|7    |\n",
      "|/css/bootstrap.min.css.map             |1    |\n",
      "+---------------------------------------+-----+\n",
      "\n"
     ]
    }
   ],
   "source": [
    "# Analizamos los caminos \n",
    "df.where(col(\"status\") == \"404\").groupby(\"path\").count().orderBy(desc(\"count\")).show(5,False)"
   ]
  },
  {
   "cell_type": "markdown",
   "metadata": {},
   "source": [
    "Nos hemos encontrado que los errores en los registros se han obtenido al intentar acceder a cuatro direcciones."
   ]
  },
  {
   "cell_type": "markdown",
   "metadata": {},
   "source": [
    "##### Principales Web donde se realizan los métodos POST y quien es el usuario que más usa este método"
   ]
  },
  {
   "cell_type": "code",
   "execution_count": 23,
   "metadata": {},
   "outputs": [
    {
     "name": "stdout",
     "output_type": "stream",
     "text": [
      "+----------------------+-----+\n",
      "|path                  |count|\n",
      "+----------------------+-----+\n",
      "|/process.php          |313  |\n",
      "|/compile.php          |96   |\n",
      "|/action.php           |81   |\n",
      "|/pcompile.php         |77   |\n",
      "|/contestsubmission.php|47   |\n",
      "|/allsubmission.php    |26   |\n",
      "|/contestproblem.php   |11   |\n",
      "|/contest.php          |7    |\n",
      "|/archive.php          |7    |\n",
      "|/update.php           |7    |\n",
      "+----------------------+-----+\n",
      "only showing top 10 rows\n",
      "\n"
     ]
    }
   ],
   "source": [
    "# Principales Web donde hacemos POST\n",
    "df.where(col(\"metodo\") == \"POST\").groupby(\"path\").count().orderBy(desc(\"count\")).show(10,False)"
   ]
  },
  {
   "cell_type": "code",
   "execution_count": 24,
   "metadata": {},
   "outputs": [
    {
     "data": {
      "text/plain": [
       "Row(ip='10.131.0.1', count=181)"
      ]
     },
     "execution_count": 24,
     "metadata": {},
     "output_type": "execute_result"
    }
   ],
   "source": [
    "# Usuarios que realizan mas POST\n",
    "df.where(col(\"metodo\") == \"POST\").groupby(\"ip\").count().orderBy(desc(\"count\")).first()"
   ]
  },
  {
   "cell_type": "markdown",
   "metadata": {},
   "source": [
    "##### Cuales son las 3 direcciones mas utilizadas por cada usuario."
   ]
  },
  {
   "cell_type": "code",
   "execution_count": 29,
   "metadata": {},
   "outputs": [],
   "source": [
    "# PATH mas usadas por cada Usuario.\n",
    "ranked =  df.select(\"ip\",\"path\").groupby(\"ip\",\"path\").count().withColumn(\"rank\", dense_rank().over(Window.partitionBy(\"ip\").orderBy(desc(\"count\"))))\n"
   ]
  },
  {
   "cell_type": "code",
   "execution_count": 26,
   "metadata": {},
   "outputs": [
    {
     "name": "stdout",
     "output_type": "stream",
     "text": [
      "+----------+---------------------------------------------------------------+-----+----+\n",
      "|ip        |path                                                           |count|rank|\n",
      "+----------+---------------------------------------------------------------+-----+----+\n",
      "|10.131.2.1|/login.php                                                     |174  |1   |\n",
      "|10.131.2.1|/                                                              |138  |2   |\n",
      "|10.131.2.1|/contestproblem.php?name=RUET%20OJ%20Server%20Testing%20Contest|102  |3   |\n",
      "|10.128.2.1|/login.php                                                     |995  |1   |\n",
      "|10.128.2.1|/home.php                                                      |874  |2   |\n",
      "|10.128.2.1|/js/vendor/modernizr-2.8.3.min.js                              |482  |3   |\n",
      "|10.130.2.1|/login.php                                                     |963  |1   |\n",
      "|10.130.2.1|/home.php                                                      |790  |2   |\n",
      "|10.130.2.1|/js/vendor/modernizr-2.8.3.min.js                              |419  |3   |\n",
      "|10.131.0.1|/login.php                                                     |983  |1   |\n",
      "|10.131.0.1|/home.php                                                      |793  |2   |\n",
      "|10.131.0.1|/js/vendor/modernizr-2.8.3.min.js                              |411  |3   |\n",
      "|10.129.2.1|/login.php                                                     |183  |1   |\n",
      "|10.129.2.1|/                                                              |134  |2   |\n",
      "|10.129.2.1|/home.php                                                      |103  |3   |\n",
      "+----------+---------------------------------------------------------------+-----+----+\n",
      "\n"
     ]
    }
   ],
   "source": [
    "ranked.select(\"ip\",\"path\",\"count\",\"rank\").where(col(\"rank\") < 4) .show(20,False)"
   ]
  },
  {
   "cell_type": "markdown",
   "metadata": {},
   "source": [
    "##### Realiza una consulta utilizando las clausulas de date"
   ]
  },
  {
   "cell_type": "code",
   "execution_count": 27,
   "metadata": {},
   "outputs": [
    {
     "name": "stdout",
     "output_type": "stream",
     "text": [
      "+----+---+-----+\n",
      "| Año|Mes|count|\n",
      "+----+---+-----+\n",
      "|2017| 11| 7254|\n",
      "|2017| 12| 1929|\n",
      "|2018|  1| 5260|\n",
      "|2018|  2| 1172|\n",
      "|2018|  3|  174|\n",
      "+----+---+-----+\n",
      "\n"
     ]
    }
   ],
   "source": [
    "# timestamps\n",
    "df.groupby(year(\"timestamp\").alias(\"Año\"),month(\"timestamp\").alias(\"Mes\")).count().orderBy(\"Año\",\"Mes\").show()"
   ]
  },
  {
   "cell_type": "code",
   "execution_count": 28,
   "metadata": {},
   "outputs": [
    {
     "name": "stdout",
     "output_type": "stream",
     "text": [
      "+----+-----+\n",
      "|Hora|count|\n",
      "+----+-----+\n",
      "|   0|  118|\n",
      "|   1|   53|\n",
      "|   2|   48|\n",
      "|   3|  164|\n",
      "|   4|  246|\n",
      "|   5|  283|\n",
      "|   6|  575|\n",
      "|   7|  313|\n",
      "|   8|  284|\n",
      "|   9|  187|\n",
      "|  10|  138|\n",
      "|  11|  255|\n",
      "|  12|  732|\n",
      "|  13|  766|\n",
      "|  14|  581|\n",
      "|  15| 1461|\n",
      "|  16| 1169|\n",
      "|  17|  754|\n",
      "|  18|  734|\n",
      "|  19|  847|\n",
      "|  20| 5458|\n",
      "|  21|  240|\n",
      "|  22|  226|\n",
      "|  23|  157|\n",
      "+----+-----+\n",
      "\n"
     ]
    }
   ],
   "source": [
    "df.groupby(hour(\"timestamp\").alias(\"Hora\")).count().orderBy(\"Hora\").show()"
   ]
  }
 ],
 "metadata": {
  "kernelspec": {
   "display_name": "Python 3",
   "language": "python",
   "name": "python3"
  },
  "language_info": {
   "codemirror_mode": {
    "name": "ipython",
    "version": 3
   },
   "file_extension": ".py",
   "mimetype": "text/x-python",
   "name": "python",
   "nbconvert_exporter": "python",
   "pygments_lexer": "ipython3",
   "version": "3.8.5"
  }
 },
 "nbformat": 4,
 "nbformat_minor": 4
}
