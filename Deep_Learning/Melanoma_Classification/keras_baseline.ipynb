{
 "metadata": {
  "language_info": {
   "codemirror_mode": {
    "name": "ipython",
    "version": 3
   },
   "file_extension": ".py",
   "mimetype": "text/x-python",
   "name": "python",
   "nbconvert_exporter": "python",
   "pygments_lexer": "ipython3",
   "version": "3.9.2-final"
  },
  "orig_nbformat": 2,
  "kernelspec": {
   "name": "python392jvsc74a57bd044803457dc58a0042d43c0505bd6df1559590704c5803dd018fa0cbfd3e609e1",
   "display_name": "Python 3.9.2 64-bit ('personal_projects': conda)"
  }
 },
 "nbformat": 4,
 "nbformat_minor": 2,
 "cells": [
  {
   "cell_type": "code",
   "execution_count": 1,
   "metadata": {},
   "outputs": [
    {
     "output_type": "stream",
     "name": "stdout",
     "text": [
      "INFO:tensorflow:Enabling eager execution\n",
      "INFO:tensorflow:Enabling v2 tensorshape\n",
      "INFO:tensorflow:Enabling resource variables\n",
      "INFO:tensorflow:Enabling tensor equality\n",
      "INFO:tensorflow:Enabling control flow v2\n"
     ]
    },
    {
     "output_type": "execute_result",
     "data": {
      "text/plain": [
       "'2.6.0-dev20210402'"
      ]
     },
     "metadata": {},
     "execution_count": 1
    }
   ],
   "source": [
    "import tensorflow as tf\n",
    "from tensorflow import keras\n",
    "import pandas as pd\n",
    "from tensorflow.keras.applications import ResNet50V2\n",
    "tf.__version__"
   ]
  },
  {
   "cell_type": "code",
   "execution_count": 2,
   "metadata": {},
   "outputs": [
    {
     "output_type": "execute_result",
     "data": {
      "text/plain": [
       "['image',\n",
       " 'sample_submission.csv',\n",
       " 'subset.csv',\n",
       " 'test.csv',\n",
       " 'train.csv',\n",
       " 'train_split.csv',\n",
       " 'val_split.csv']"
      ]
     },
     "metadata": {},
     "execution_count": 2
    }
   ],
   "source": [
    "PATH = 'data'\n",
    "\n",
    "os.listdir(PATH)"
   ]
  },
  {
   "cell_type": "code",
   "execution_count": 3,
   "metadata": {},
   "outputs": [
    {
     "output_type": "execute_result",
     "data": {
      "text/plain": [
       "((2220, 8), (10932, 8))"
      ]
     },
     "metadata": {},
     "execution_count": 3
    }
   ],
   "source": [
    "train = pd.read_csv(f'{PATH}/subset.csv')\n",
    "val = pd.read_csv(f'{PATH}/val_split.csv')\n",
    "train.shape, val.shape"
   ]
  },
  {
   "cell_type": "code",
   "execution_count": 4,
   "metadata": {},
   "outputs": [],
   "source": [
    "BATCH_SIZE = 64\n",
    "\n",
    "def decode(name, label):\n",
    "    img = tf.io.read_file(name)\n",
    "    img = tf.image.decode_jpeg(img,channels=3)\n",
    "    img = tf.cast(img, tf.float32)\n",
    "    return img,label\n",
    "\n",
    "\n",
    "def load_ds(df):\n",
    "    imgs , labels = df[\"image_name\"].values, df[\"target\"].values\n",
    "    imgs = [f'{PATH}/image/train/{name}.jpg' for name in imgs]\n",
    "    ds = tf.data.Dataset.from_tensor_slices((imgs,labels))\n",
    "    ds = ds.map(decode)\n",
    "    ds = ds.shuffle(2048)\n",
    "    ds = ds.batch(BATCH_SIZE)\n",
    "    return ds"
   ]
  },
  {
   "cell_type": "code",
   "execution_count": 5,
   "metadata": {},
   "outputs": [],
   "source": [
    "train_ds = load_ds(train)\n",
    "val_ds = load_ds(train)"
   ]
  },
  {
   "cell_type": "code",
   "execution_count": 6,
   "metadata": {},
   "outputs": [
    {
     "output_type": "stream",
     "name": "stdout",
     "text": [
      "Model: \"model\"\n_________________________________________________________________\nLayer (type)                 Output Shape              Param #   \n=================================================================\ninput_2 (InputLayer)         [(None, 224, 224, 3)]     0         \n_________________________________________________________________\nrescaling (Rescaling)        (None, 224, 224, 3)       0         \n_________________________________________________________________\nresnet50v2 (Functional)      (None, 7, 7, 2048)        23564800  \n_________________________________________________________________\nglobal_average_pooling2d (Gl (None, 2048)              0         \n_________________________________________________________________\ndense (Dense)                (None, 1)                 2049      \n=================================================================\nTotal params: 23,566,849\nTrainable params: 2,049\nNon-trainable params: 23,564,800\n_________________________________________________________________\n"
     ]
    }
   ],
   "source": [
    "IMAGE_SIZE = (224,224,3)\n",
    "\n",
    "encoder = ResNet50V2(\n",
    "    include_top=False,\n",
    "    input_shape=IMAGE_SIZE,\n",
    "    weights='imagenet'\n",
    ")\n",
    "encoder.trainable=False\n",
    "\n",
    "inputs = keras.Input(shape=IMAGE_SIZE)\n",
    "x = keras.layers.experimental.preprocessing.Rescaling(1./255)(inputs)\n",
    "x = encoder(x, training = False)\n",
    "x = keras.layers.GlobalAveragePooling2D()(x)\n",
    "ouputs = keras.layers.Dense(1, activation=\"sigmoid\")(x)\n",
    "model = keras.Model(inputs, ouputs)\n",
    "model.summary()"
   ]
  },
  {
   "cell_type": "code",
   "execution_count": 7,
   "metadata": {},
   "outputs": [],
   "source": [
    "model.compile(\n",
    "    optimizer=keras.optimizers.Adam(),\n",
    "    loss=keras.losses.BinaryCrossentropy(),\n",
    "    metrics=[keras.metrics.AUC(name=\"auc\")]\n",
    ")"
   ]
  },
  {
   "cell_type": "code",
   "execution_count": 8,
   "metadata": {},
   "outputs": [
    {
     "output_type": "stream",
     "name": "stdout",
     "text": [
      "Epoch 1/10\n",
      "35/35 [==============================] - 141s 4s/step - loss: 0.3145 - auc: 0.4941 - val_loss: 0.1149 - val_auc: 0.4569\n",
      "Epoch 2/10\n",
      "35/35 [==============================] - 146s 4s/step - loss: 0.1285 - auc: 0.5223 - val_loss: 0.0460 - val_auc: 0.5660\n",
      "Epoch 3/10\n",
      "35/35 [==============================] - 162s 5s/step - loss: 0.0759 - auc: 0.6822 - val_loss: 0.0800 - val_auc: 0.7857\n",
      "Epoch 4/10\n",
      "35/35 [==============================] - 170s 5s/step - loss: 0.0832 - auc: 0.7565 - val_loss: 0.0810 - val_auc: 0.8620\n",
      "Epoch 5/10\n",
      "35/35 [==============================] - 180s 5s/step - loss: 0.0706 - auc: 0.7717 - val_loss: 0.0723 - val_auc: 0.8762\n",
      "Epoch 6/10\n",
      "35/35 [==============================] - 216s 6s/step - loss: 0.0609 - auc: 0.8756 - val_loss: 0.0455 - val_auc: 0.8085\n",
      "Epoch 7/10\n",
      "35/35 [==============================] - 221s 6s/step - loss: 0.0772 - auc: 0.8905 - val_loss: 0.0575 - val_auc: 0.9845\n",
      "Epoch 8/10\n",
      "35/35 [==============================] - 247s 7s/step - loss: 0.0585 - auc: 0.8380 - val_loss: 0.0636 - val_auc: 0.8940\n",
      "Epoch 9/10\n",
      "35/35 [==============================] - 274s 8s/step - loss: 0.0670 - auc: 0.9352 - val_loss: 0.0520 - val_auc: 0.9551\n",
      "Epoch 10/10\n",
      "35/35 [==============================] - 297s 8s/step - loss: 0.0616 - auc: 0.9332 - val_loss: 0.0438 - val_auc: 0.9810\n"
     ]
    },
    {
     "output_type": "execute_result",
     "data": {
      "text/plain": [
       "<tensorflow.python.keras.callbacks.History at 0x2121b7d4460>"
      ]
     },
     "metadata": {},
     "execution_count": 8
    }
   ],
   "source": [
    "model.fit(train_ds, epochs=10, validation_data=val_ds, validation_steps=10)"
   ]
  },
  {
   "cell_type": "code",
   "execution_count": 12,
   "metadata": {},
   "outputs": [],
   "source": [
    "test = pd.read_csv(f'{PATH}/test.csv')\n",
    "BATCH_SIZE = 64\n",
    "\n",
    "def decode_test(name):\n",
    "    img = tf.io.read_file(name)\n",
    "    img = tf.image.decode_jpeg(img,channels=3)\n",
    "    img = tf.cast(img, tf.float32)\n",
    "    return img\n",
    "\n",
    "\n",
    "def load_test_ds(df):\n",
    "    imgs  = df[\"image_name\"].values\n",
    "    imgs = [f'{PATH}/image/test/{name}.jpg' for name in imgs]\n",
    "    ds = tf.data.Dataset.from_tensor_slices(imgs)\n",
    "    ds = ds.map(decode_test)\n",
    "    ds = ds.batch(BATCH_SIZE)\n",
    "    return ds"
   ]
  },
  {
   "cell_type": "code",
   "execution_count": 13,
   "metadata": {},
   "outputs": [],
   "source": [
    "test_ds = load_test_ds(test)"
   ]
  },
  {
   "cell_type": "code",
   "execution_count": 14,
   "metadata": {},
   "outputs": [],
   "source": [
    "preds = model.predict(test_ds)"
   ]
  },
  {
   "cell_type": "code",
   "execution_count": 15,
   "metadata": {},
   "outputs": [
    {
     "output_type": "execute_result",
     "data": {
      "text/plain": [
       "array([[0.00542271],\n",
       "       [0.00323793],\n",
       "       [0.00853342],\n",
       "       ...,\n",
       "       [0.01302326],\n",
       "       [0.00194523],\n",
       "       [0.01850507]], dtype=float32)"
      ]
     },
     "metadata": {},
     "execution_count": 15
    }
   ],
   "source": [
    "preds"
   ]
  },
  {
   "cell_type": "code",
   "execution_count": 16,
   "metadata": {},
   "outputs": [],
   "source": [
    "submission = pd.DataFrame({\n",
    "    'image_name':test['image_name'].values,\n",
    "    'target':preds.ravel()\n",
    "})"
   ]
  },
  {
   "cell_type": "code",
   "execution_count": 17,
   "metadata": {},
   "outputs": [],
   "source": [
    "submission.to_csv(\"submission.csv\", index=False)"
   ]
  },
  {
   "cell_type": "code",
   "execution_count": null,
   "metadata": {},
   "outputs": [],
   "source": []
  }
 ]
}