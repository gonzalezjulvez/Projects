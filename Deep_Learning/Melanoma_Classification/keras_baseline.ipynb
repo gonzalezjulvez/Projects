{
 "metadata": {
  "language_info": {
   "codemirror_mode": {
    "name": "ipython",
    "version": 3
   },
   "file_extension": ".py",
   "mimetype": "text/x-python",
   "name": "python",
   "nbconvert_exporter": "python",
   "pygments_lexer": "ipython3",
   "version": "3.9.2-final"
  },
  "orig_nbformat": 2,
  "kernelspec": {
   "name": "python392jvsc74a57bd044803457dc58a0042d43c0505bd6df1559590704c5803dd018fa0cbfd3e609e1",
   "display_name": "Python 3.9.2 64-bit ('personal_projects': conda)"
  }
 },
 "nbformat": 4,
 "nbformat_minor": 2,
 "cells": [
  {
   "cell_type": "code",
   "execution_count": 34,
   "metadata": {},
   "outputs": [
    {
     "output_type": "execute_result",
     "data": {
      "text/plain": [
       "'2.6.0-dev20210402'"
      ]
     },
     "metadata": {},
     "execution_count": 34
    }
   ],
   "source": [
    "import tensorflow as tf\n",
    "from tensorflow import keras\n",
    "import pandas as pd\n",
    "from tensorflow.keras.applications import ResNet50V2\n",
    "tf.__version__"
   ]
  },
  {
   "cell_type": "code",
   "execution_count": 5,
   "metadata": {},
   "outputs": [
    {
     "output_type": "execute_result",
     "data": {
      "text/plain": [
       "['image',\n",
       " 'sample_submission.csv',\n",
       " 'subset.csv',\n",
       " 'test.csv',\n",
       " 'train.csv',\n",
       " 'train_split.csv',\n",
       " 'val_split.csv']"
      ]
     },
     "metadata": {},
     "execution_count": 5
    }
   ],
   "source": [
    "PATH = 'data'\n",
    "\n",
    "os.listdir(PATH)"
   ]
  },
  {
   "cell_type": "code",
   "execution_count": 10,
   "metadata": {},
   "outputs": [
    {
     "output_type": "execute_result",
     "data": {
      "text/plain": [
       "((2220, 8), (10932, 8))"
      ]
     },
     "metadata": {},
     "execution_count": 10
    }
   ],
   "source": [
    "train = pd.read_csv(f'{PATH}/subset.csv')\n",
    "val = pd.read_csv(f'{PATH}/val_split.csv')\n",
    "train.shape, val.shape"
   ]
  },
  {
   "cell_type": "code",
   "execution_count": 29,
   "metadata": {},
   "outputs": [],
   "source": [
    "BATCH_SIZE = 64\n",
    "\n",
    "def decode(name, label):\n",
    "    img = tf.io.read_file(name)\n",
    "    img = tf.image.decode_jpeg(img,channels=3)\n",
    "    img = tf.cast(img, tf.float32)\n",
    "    return img,label\n",
    "\n",
    "\n",
    "def load_ds(df):\n",
    "    imgs , labels = df[\"image_name\"].values, df[\"target\"].values\n",
    "    imgs = [f'{PATH}/image/train/{name}.jpg' for name in imgs]\n",
    "    ds = tf.data.Dataset.from_tensor_slices((imgs,labels))\n",
    "    ds = ds.map(decode)\n",
    "    ds = ds.shuffle(2048)\n",
    "    ds = ds.batch(BATCH_SIZE)\n",
    "    return ds"
   ]
  },
  {
   "cell_type": "code",
   "execution_count": 31,
   "metadata": {},
   "outputs": [],
   "source": [
    "train_ds = load_ds(train)\n",
    "val_ds = load_ds(train)"
   ]
  },
  {
   "cell_type": "code",
   "execution_count": 36,
   "metadata": {},
   "outputs": [
    {
     "output_type": "stream",
     "name": "stdout",
     "text": [
      "Model: \"model\"\n_________________________________________________________________\nLayer (type)                 Output Shape              Param #   \n=================================================================\ninput_4 (InputLayer)         [(None, 224, 224, 3)]     0         \n_________________________________________________________________\nrescaling_1 (Rescaling)      (None, 224, 224, 3)       0         \n_________________________________________________________________\nresnet50v2 (Functional)      (None, 7, 7, 2048)        23564800  \n_________________________________________________________________\nglobal_average_pooling2d (Gl (None, 2048)              0         \n_________________________________________________________________\ndense (Dense)                (None, 1)                 2049      \n=================================================================\nTotal params: 23,566,849\nTrainable params: 2,049\nNon-trainable params: 23,564,800\n_________________________________________________________________\n"
     ]
    }
   ],
   "source": [
    "IMAGE_SIZE = (224,224,3)\n",
    "\n",
    "encoder = ResNet50V2(\n",
    "    include_top=False,\n",
    "    input_shape=IMAGE_SIZE,\n",
    "    weights='imagenet'\n",
    ")\n",
    "encoder.trainable=False\n",
    "\n",
    "inputs = keras.Input(shape=IMAGE_SIZE)\n",
    "x = keras.layers.experimental.preprocessing.Rescaling(1./255)(inputs)\n",
    "x = encoder(x, training = False)\n",
    "x = keras.layers.GlobalAveragePooling2D()(x)\n",
    "ouputs = keras.layers.Dense(1, activation=\"sigmoid\")(x)\n",
    "model = keras.Model(inputs, ouputs)\n",
    "model.summary()"
   ]
  },
  {
   "cell_type": "code",
   "execution_count": 37,
   "metadata": {},
   "outputs": [],
   "source": [
    "model.compile(\n",
    "    optimizer=keras.optimizers.Adam(),\n",
    "    loss=keras.losses.BinaryCrossentropy(),\n",
    "    metrics=[keras.metrics.AUC(name=\"auc\")]\n",
    ")"
   ]
  },
  {
   "cell_type": "code",
   "execution_count": null,
   "metadata": {},
   "outputs": [],
   "source": [
    "model.fit(train_ds, epochs=10, validation_data=val_ds, validation_steps=10)"
   ]
  },
  {
   "cell_type": "code",
   "execution_count": null,
   "metadata": {},
   "outputs": [],
   "source": []
  }
 ]
}