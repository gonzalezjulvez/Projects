{
 "metadata": {
  "language_info": {
   "codemirror_mode": {
    "name": "ipython",
    "version": 3
   },
   "file_extension": ".py",
   "mimetype": "text/x-python",
   "name": "python",
   "nbconvert_exporter": "python",
   "pygments_lexer": "ipython3",
   "version": "3.8.8-final"
  },
  "orig_nbformat": 2,
  "kernelspec": {
   "name": "python388jvsc74a57bd0b599fa609fb57c445b6b3f303dd0dac259c02cd6e894ef328e61bfa7a385a3f9",
   "display_name": "Python 3.8.8 64-bit ('proyectos': conda)"
  }
 },
 "nbformat": 4,
 "nbformat_minor": 2,
 "cells": [
  {
   "source": [
    "## Building and Visualizing word frequencies\n",
    "\n",
    "In this lab, we will focus on the build_freqs() helper function and visualizing a dataset fed into it. In our goal of tweet sentiment analysis, this function will build a dictionary where we can lookup how many times a word appears in the lists of positive or negative tweets. This will be very helpful when extracting the features of the dataset in the week's programming assignment. Let's see how this function is implemented under the hood in this notebook.\n",
    "\n",
    "## Setup\n",
    "\n",
    "Let's import the required libraries for this lab:"
   ],
   "cell_type": "markdown",
   "metadata": {}
  },
  {
   "cell_type": "code",
   "execution_count": 1,
   "metadata": {},
   "outputs": [],
   "source": [
    "import nltk                                  # Python library for NLP\n",
    "from nltk.corpus import twitter_samples      # sample Twitter dataset from NLTK\n",
    "import matplotlib.pyplot as plt              # visualization library\n",
    "import numpy as np                           # library for scientific computing and matrix operations\n"
   ]
  },
  {
   "source": [
    "## Imports some helper functions that we provided in the utils.py file:\n",
    "- process_tweet(): Cleans the text, tokenizes it into separate words, removes stopwords, and converts words to stems.\n",
    "- build_freqs(): This counts how often a word in the 'corpus' (the entire set of tweets) was associated with a positive label 1 or a negative label 0. It then builds the freqs dictionary, where each key is a (word,label) tuple, and the value is the count of its frequency within the corpus of tweets.\n"
   ],
   "cell_type": "markdown",
   "metadata": {}
  },
  {
   "cell_type": "code",
   "execution_count": 4,
   "metadata": {},
   "outputs": [
    {
     "output_type": "stream",
     "name": "stderr",
     "text": [
      "[nltk_data] Downloading package stopwords to\n[nltk_data]     C:\\Users\\gonza\\AppData\\Roaming\\nltk_data...\n[nltk_data]   Package stopwords is already up-to-date!\n"
     ]
    }
   ],
   "source": [
    "# download the stopwords for the process_tweet function\n",
    "nltk.download('stopwords')\n",
    "\n",
    "# import our convenience functions\n",
    "from utils import process_tweet, build_freqs\n"
   ]
  },
  {
   "source": [
    "## Load the NLTK sample dataset\n",
    "\n",
    "As in the previous lab, we will be using the Twitter dataset from NLTK.\n",
    "\n"
   ],
   "cell_type": "markdown",
   "metadata": {}
  },
  {
   "cell_type": "code",
   "execution_count": 6,
   "metadata": {},
   "outputs": [
    {
     "output_type": "stream",
     "name": "stdout",
     "text": [
      "Number of tweets:  10000\n"
     ]
    }
   ],
   "source": [
    "# select the lists of positive and negative tweets\n",
    "all_positive_tweets = twitter_samples.strings('positive_tweets.json')\n",
    "all_negative_tweets = twitter_samples.strings('negative_tweets.json')\n",
    "\n",
    "# concatenate the lists, 1st part is the positive tweets followed by the negative\n",
    "tweets = all_positive_tweets + all_negative_tweets\n",
    "\n",
    "# let´s see how many tweets we have\n",
    "print('Number of tweets: ', len(tweets))"
   ]
  },
  {
   "source": [
    "Next, we will build a labels array that matches the sentiments of our tweets. This data type works pretty much like a regular list but is optimized for computations and manipulation. The labels array will be composed of 10000 elements. The first 5000 will be filled with 1 labels denoting positive sentiments, and the next 5000 will be 0 labels denoting the opposite. We can do this easily with a series of operations provided by the numpy library:\n",
    "\n",
    "- np.ones() - create an array of 1's\n",
    "- np.zeros() - create an array of 0's\n",
    "- np.append() - concatenate arrays\n"
   ],
   "cell_type": "markdown",
   "metadata": {}
  },
  {
   "cell_type": "code",
   "execution_count": 7,
   "metadata": {},
   "outputs": [],
   "source": [
    "# make a numpy array representing labels of the tweets\n",
    "labels = np.append(np.ones(len(all_positive_tweets)),np.zeros(len(all_negative_tweets)))"
   ]
  },
  {
   "source": [
    "## Dictionaries\n",
    "\n",
    "In Python, a dictionary is a mutable and indexed collection. It stores items as key-value pairs and uses hash tables underneath to allow practically constant time lookups. In NLP, dictionaries are essential because it enables fast retrieval of items or containment checks even with thousands of entries in the collection.\n",
    "\n",
    "## Definition\n",
    "A dictionary in Python is declared using curly brackets. Look at the next example:"
   ],
   "cell_type": "markdown",
   "metadata": {}
  },
  {
   "cell_type": "code",
   "execution_count": 9,
   "metadata": {},
   "outputs": [],
   "source": [
    "dictionary = {'key1': 1, 'key2': 2}"
   ]
  },
  {
   "source": [
    "The former line defines a dictionary with two entries. Keys and values can be almost any type (with a few restriction on keys), and in this case, we used strings. We can also use floats, integers, tuples, etc.\n",
    "\n",
    "## Adding or editing entries\n",
    "New entries can be inserted into dictionaries using square brackets. If the dictionary already contains the specified key, its value is overwritten."
   ],
   "cell_type": "markdown",
   "metadata": {}
  },
  {
   "cell_type": "code",
   "execution_count": 10,
   "metadata": {},
   "outputs": [
    {
     "output_type": "stream",
     "name": "stdout",
     "text": [
      "{'key1': 0, 'key2': 2, 'key3': -5}\n"
     ]
    }
   ],
   "source": [
    "# Add a new entry\n",
    "dictionary['key3'] = -5\n",
    "\n",
    "# Overwrite the value of key1\n",
    "dictionary['key1'] = 0\n",
    "\n",
    "print(dictionary)"
   ]
  },
  {
   "source": [
    "## Accessing values and lookup keys\n",
    "Performing dictionary lookups and retrieval are common tasks in NLP. There are two ways to do this:\n",
    "\n",
    "- Using square bracket notation: This form is allowed if the lookup key is in the dictionary. It produces an error otherwise.\n",
    "- Using the get() method: This allows us to set a default value if the dictionary key does not exist.\n",
    "\n",
    "Let us see these in action:\n",
    "\n"
   ],
   "cell_type": "markdown",
   "metadata": {}
  },
  {
   "cell_type": "code",
   "execution_count": 11,
   "metadata": {},
   "outputs": [
    {
     "output_type": "stream",
     "name": "stdout",
     "text": [
      "2\n"
     ]
    }
   ],
   "source": [
    "# Square bracket lookup when the key exist\n",
    "print(dictionary['key2'])"
   ]
  },
  {
   "source": [
    "However, if the key is missing, the operation produce an error"
   ],
   "cell_type": "markdown",
   "metadata": {}
  },
  {
   "cell_type": "code",
   "execution_count": 12,
   "metadata": {},
   "outputs": [
    {
     "output_type": "error",
     "ename": "KeyError",
     "evalue": "'key8'",
     "traceback": [
      "\u001b[1;31m---------------------------------------------------------------------------\u001b[0m",
      "\u001b[1;31mKeyError\u001b[0m                                  Traceback (most recent call last)",
      "\u001b[1;32m<ipython-input-12-8d63520997fb>\u001b[0m in \u001b[0;36m<module>\u001b[1;34m\u001b[0m\n\u001b[0;32m      1\u001b[0m \u001b[1;31m# The output of this line is intended to produce a KeyError\u001b[0m\u001b[1;33m\u001b[0m\u001b[1;33m\u001b[0m\u001b[1;33m\u001b[0m\u001b[0m\n\u001b[1;32m----> 2\u001b[1;33m \u001b[0mprint\u001b[0m\u001b[1;33m(\u001b[0m\u001b[0mdictionary\u001b[0m\u001b[1;33m[\u001b[0m\u001b[1;34m'key8'\u001b[0m\u001b[1;33m]\u001b[0m\u001b[1;33m)\u001b[0m\u001b[1;33m\u001b[0m\u001b[1;33m\u001b[0m\u001b[0m\n\u001b[0m",
      "\u001b[1;31mKeyError\u001b[0m: 'key8'"
     ]
    }
   ],
   "source": [
    "# The output of this line is intended to produce a KeyError\n",
    "print(dictionary['key8'])"
   ]
  },
  {
   "source": [
    "When using a square bracket lookup, it is common to use an if-else block to check for containment first (with the keyword in) before getting the item. On the other hand, you can use the .get() method if you want to set a default value when the key is not found. Let's compare these in the cells below:"
   ],
   "cell_type": "markdown",
   "metadata": {}
  },
  {
   "cell_type": "code",
   "execution_count": 13,
   "metadata": {},
   "outputs": [
    {
     "output_type": "stream",
     "name": "stdout",
     "text": [
      "item found:  0\nitem found:  0\n"
     ]
    }
   ],
   "source": [
    "# This prints a value\n",
    "if 'key1' in dictionary:\n",
    "    print(\"item found: \", dictionary['key1'])\n",
    "else:\n",
    "    print('key1 is not defined')\n",
    "\n",
    "# Same as what you get with get\n",
    "print(\"item found: \", dictionary.get('key1', -1))\n"
   ]
  },
  {
   "cell_type": "code",
   "execution_count": 14,
   "metadata": {},
   "outputs": [
    {
     "output_type": "stream",
     "name": "stdout",
     "text": [
      "key does not exist!\n-1\n"
     ]
    }
   ],
   "source": [
    "# This prints a message because the key is not found\n",
    "if 'key7' in dictionary:\n",
    "    print(dictionary['key7'])\n",
    "else:\n",
    "    print('key does not exist!')\n",
    "\n",
    "# This prints -1 because the key is not found and we set the default to -1\n",
    "print(dictionary.get('key7', -1))"
   ]
  },
  {
   "source": [
    "## Word frequency dictionary\n",
    "\n",
    "Now that we know the building blocks, let's finally take a look at the build_freqs() function in utils.py. This is the function that creates the dictionary containing the word counts from each corpus."
   ],
   "cell_type": "markdown",
   "metadata": {}
  },
  {
   "cell_type": "code",
   "execution_count": 15,
   "metadata": {},
   "outputs": [
    {
     "output_type": "stream",
     "name": "stdout",
     "text": [
      "type(freqs) = <class 'dict'>\nlen(freqs) = 13066\n"
     ]
    }
   ],
   "source": [
    "# create frequency dictionary\n",
    "freqs = build_freqs(tweets, labels)\n",
    "\n",
    "# check data type\n",
    "print(f'type(freqs) = {type(freqs)}')\n",
    "\n",
    "# check length of the dictionary\n",
    "print(f'len(freqs) = {len(freqs)}')\n"
   ]
  },
  {
   "source": [
    "## Table of word counts\n",
    "\n",
    "We will select a set of words that we would like to visualize. It is better to store this temporary information in a table that is very easy to use later."
   ],
   "cell_type": "markdown",
   "metadata": {}
  },
  {
   "cell_type": "code",
   "execution_count": 17,
   "metadata": {},
   "outputs": [
    {
     "output_type": "execute_result",
     "data": {
      "text/plain": [
       "[['happi', 211, 25],\n",
       " ['merri', 1, 0],\n",
       " ['nice', 98, 19],\n",
       " ['good', 238, 101],\n",
       " ['bad', 18, 73],\n",
       " ['sad', 5, 123],\n",
       " ['mad', 4, 11],\n",
       " ['best', 65, 22],\n",
       " ['pretti', 20, 15],\n",
       " ['❤', 29, 21],\n",
       " [':)', 3568, 2],\n",
       " [':(', 1, 4571],\n",
       " ['😒', 1, 3],\n",
       " ['😬', 0, 2],\n",
       " ['😄', 5, 1],\n",
       " ['😍', 2, 1],\n",
       " ['♛', 0, 210],\n",
       " ['song', 22, 27],\n",
       " ['idea', 26, 10],\n",
       " ['power', 7, 6],\n",
       " ['play', 46, 48],\n",
       " ['magnific', 2, 0]]"
      ]
     },
     "metadata": {},
     "execution_count": 17
    }
   ],
   "source": [
    "# select some words to appear in the report. we will assume that each word is unique (i.e. no duplicates)\n",
    "keys = ['happi', 'merri', 'nice', 'good', 'bad', 'sad', 'mad', 'best', 'pretti',\n",
    "        '❤', ':)', ':(', '😒', '😬', '😄', '😍', '♛',\n",
    "        'song', 'idea', 'power', 'play', 'magnific']\n",
    "\n",
    "# list representing our table of word counts.\n",
    "# each element consist of a sublist with this pattern: [<word>, <positive_count>, <negative_count>]\n",
    "data = []\n",
    "\n",
    "# loop through our selected words\n",
    "for word in keys:\n",
    "    \n",
    "    # initialize positive and negative counts\n",
    "    pos = 0\n",
    "    neg = 0\n",
    "    \n",
    "    # retrieve number of positive counts\n",
    "    if (word, 1) in freqs:\n",
    "        pos = freqs[(word, 1)]\n",
    "        \n",
    "    # retrieve number of negative counts\n",
    "    if (word, 0) in freqs:\n",
    "        neg = freqs[(word, 0)]\n",
    "        \n",
    "    # append the word counts to the table\n",
    "    data.append([word, pos, neg])\n",
    "    \n",
    "data"
   ]
  },
  {
   "source": [
    "We can then use a scatter plot to inspect this table visually. Instead of plotting the raw counts, we will plot it in the logarithmic scale to take into account the wide discrepancies between the raw counts (e.g. :) has 3568 counts in the positive while only 2 in the negative). The red line marks the boundary between positive and negative areas. Words close to the red line can be classified as neutral.\n",
    "\n"
   ],
   "cell_type": "markdown",
   "metadata": {}
  },
  {
   "cell_type": "code",
   "execution_count": 19,
   "metadata": {},
   "outputs": [
    {
     "output_type": "stream",
     "name": "stderr",
     "text": [
      "C:\\Users\\gonza\\anaconda3\\envs\\proyectos\\lib\\site-packages\\matplotlib\\textpath.py:65: RuntimeWarning: Glyph 128556 missing from current font.\n",
      "  font.set_text(s, 0.0, flags=LOAD_NO_HINTING)\n",
      "C:\\Users\\gonza\\anaconda3\\envs\\proyectos\\lib\\site-packages\\matplotlib\\backends\\backend_agg.py:240: RuntimeWarning: Glyph 128556 missing from current font.\n",
      "  font.set_text(s, 0.0, flags=flags)\n",
      "C:\\Users\\gonza\\anaconda3\\envs\\proyectos\\lib\\site-packages\\matplotlib\\backends\\backend_agg.py:203: RuntimeWarning: Glyph 128556 missing from current font.\n",
      "  font.set_text(s, 0, flags=flags)\n"
     ]
    },
    {
     "output_type": "display_data",
     "data": {
      "text/plain": "<Figure size 576x576 with 1 Axes>",
      "image/svg+xml": "<?xml version=\"1.0\" encoding=\"utf-8\" standalone=\"no\"?>\r\n<!DOCTYPE svg PUBLIC \"-//W3C//DTD SVG 1.1//EN\"\r\n  \"http://www.w3.org/Graphics/SVG/1.1/DTD/svg11.dtd\">\r\n<svg height=\"479.63625pt\" version=\"1.1\" viewBox=\"0 0 487.840625 479.63625\" width=\"487.840625pt\" xmlns=\"http://www.w3.org/2000/svg\" xmlns:xlink=\"http://www.w3.org/1999/xlink\">\r\n <metadata>\r\n  <rdf:RDF xmlns:cc=\"http://creativecommons.org/ns#\" xmlns:dc=\"http://purl.org/dc/elements/1.1/\" xmlns:rdf=\"http://www.w3.org/1999/02/22-rdf-syntax-ns#\">\r\n   <cc:Work>\r\n    <dc:type rdf:resource=\"http://purl.org/dc/dcmitype/StillImage\"/>\r\n    <dc:date>2021-04-20T19:20:12.276571</dc:date>\r\n    <dc:format>image/svg+xml</dc:format>\r\n    <dc:creator>\r\n     <cc:Agent>\r\n      <dc:title>Matplotlib v3.4.1, https://matplotlib.org/</dc:title>\r\n     </cc:Agent>\r\n    </dc:creator>\r\n   </cc:Work>\r\n  </rdf:RDF>\r\n </metadata>\r\n <defs>\r\n  <style type=\"text/css\">*{stroke-linecap:butt;stroke-linejoin:round;}</style>\r\n </defs>\r\n <g id=\"figure_1\">\r\n  <g id=\"patch_1\">\r\n   <path d=\"M 0 479.63625 \r\nL 487.840625 479.63625 \r\nL 487.840625 0 \r\nL 0 0 \r\nz\r\n\" style=\"fill:none;\"/>\r\n  </g>\r\n  <g id=\"axes_1\">\r\n   <g id=\"patch_2\">\r\n    <path d=\"M 34.240625 442.08 \r\nL 480.640625 442.08 \r\nL 480.640625 7.2 \r\nL 34.240625 7.2 \r\nz\r\n\" style=\"fill:#ffffff;\"/>\r\n   </g>\r\n   <g id=\"PathCollection_1\">\r\n    <defs>\r\n     <path d=\"M 0 3 \r\nC 0.795609 3 1.55874 2.683901 2.12132 2.12132 \r\nC 2.683901 1.55874 3 0.795609 3 0 \r\nC 3 -0.795609 2.683901 -1.55874 2.12132 -2.12132 \r\nC 1.55874 -2.683901 0.795609 -3 0 -3 \r\nC -0.795609 -3 -1.55874 -2.683901 -2.12132 -2.12132 \r\nC -2.683901 -1.55874 -3 -0.795609 -3 0 \r\nC -3 0.795609 -2.683901 1.55874 -2.12132 2.12132 \r\nC -1.55874 2.683901 -0.795609 3 0 3 \r\nz\r\n\" id=\"ma4f78cc2a1\" style=\"stroke:#1f77b4;\"/>\r\n    </defs>\r\n    <g clip-path=\"url(#p35fcd9370a)\">\r\n     <use style=\"fill:#1f77b4;stroke:#1f77b4;\" x=\"296.064879\" xlink:href=\"#ma4f78cc2a1\" y=\"279.193432\"/>\r\n     <use style=\"fill:#1f77b4;stroke:#1f77b4;\" x=\"85.786171\" xlink:href=\"#ma4f78cc2a1\" y=\"422.312727\"/>\r\n     <use style=\"fill:#1f77b4;stroke:#1f77b4;\" x=\"261.729666\" xlink:href=\"#ma4f78cc2a1\" y=\"290.718379\"/>\r\n     <use style=\"fill:#1f77b4;stroke:#1f77b4;\" x=\"301.470254\" xlink:href=\"#ma4f78cc2a1\" y=\"219.150285\"/>\r\n     <use style=\"fill:#1f77b4;stroke:#1f77b4;\" x=\"187.298964\" xlink:href=\"#ma4f78cc2a1\" y=\"233.246886\"/>\r\n     <use style=\"fill:#1f77b4;stroke:#1f77b4;\" x=\"135.323597\" xlink:href=\"#ma4f78cc2a1\" y=\"210.570904\"/>\r\n     <use style=\"fill:#1f77b4;stroke:#1f77b4;\" x=\"127.102553\" xlink:href=\"#ma4f78cc2a1\" y=\"313.157555\"/>\r\n     <use style=\"fill:#1f77b4;stroke:#1f77b4;\" x=\"243.446875\" xlink:href=\"#ma4f78cc2a1\" y=\"284.579018\"/>\r\n     <use style=\"fill:#1f77b4;stroke:#1f77b4;\" x=\"191.811819\" xlink:href=\"#ma4f78cc2a1\" y=\"300.520466\"/>\r\n     <use style=\"fill:#1f77b4;stroke:#1f77b4;\" x=\"207.894616\" xlink:href=\"#ma4f78cc2a1\" y=\"286.531662\"/>\r\n     <use style=\"fill:#1f77b4;stroke:#1f77b4;\" x=\"423.377007\" xlink:href=\"#ma4f78cc2a1\" y=\"374.053686\"/>\r\n     <use style=\"fill:#1f77b4;stroke:#1f77b4;\" x=\"85.786171\" xlink:href=\"#ma4f78cc2a1\" y=\"52.106586\"/>\r\n     <use style=\"fill:#1f77b4;stroke:#1f77b4;\" x=\"85.786171\" xlink:href=\"#ma4f78cc2a1\" y=\"361.416597\"/>\r\n     <use style=\"fill:#1f77b4;stroke:#1f77b4;\" x=\"54.531534\" xlink:href=\"#ma4f78cc2a1\" y=\"374.053686\"/>\r\n     <use style=\"fill:#1f77b4;stroke:#1f77b4;\" x=\"135.323597\" xlink:href=\"#ma4f78cc2a1\" y=\"391.864662\"/>\r\n     <use style=\"fill:#1f77b4;stroke:#1f77b4;\" x=\"104.068961\" xlink:href=\"#ma4f78cc2a1\" y=\"391.864662\"/>\r\n     <use style=\"fill:#1f77b4;stroke:#1f77b4;\" x=\"54.531534\" xlink:href=\"#ma4f78cc2a1\" y=\"187.220195\"/>\r\n     <use style=\"fill:#1f77b4;stroke:#1f77b4;\" x=\"195.913819\" xlink:href=\"#ma4f78cc2a1\" y=\"275.938071\"/>\r\n     <use style=\"fill:#1f77b4;stroke:#1f77b4;\" x=\"203.143815\" xlink:href=\"#ma4f78cc2a1\" y=\"316.979728\"/>\r\n     <use style=\"fill:#1f77b4;stroke:#1f77b4;\" x=\"148.295444\" xlink:href=\"#ma4f78cc2a1\" y=\"336.834201\"/>\r\n     <use style=\"fill:#1f77b4;stroke:#1f77b4;\" x=\"228.13819\" xlink:href=\"#ma4f78cc2a1\" y=\"251.355676\"/>\r\n     <use style=\"fill:#1f77b4;stroke:#1f77b4;\" x=\"104.068961\" xlink:href=\"#ma4f78cc2a1\" y=\"422.312727\"/>\r\n    </g>\r\n   </g>\r\n   <g id=\"matplotlib.axis_1\">\r\n    <g id=\"xtick_1\">\r\n     <g id=\"line2d_1\">\r\n      <defs>\r\n       <path d=\"M 0 0 \r\nL 0 3.5 \r\n\" id=\"md46762bd3e\" style=\"stroke:#000000;stroke-width:0.8;\"/>\r\n      </defs>\r\n      <g>\r\n       <use style=\"stroke:#000000;stroke-width:0.8;\" x=\"54.531534\" xlink:href=\"#md46762bd3e\" y=\"442.08\"/>\r\n      </g>\r\n     </g>\r\n     <g id=\"text_1\">\r\n      <!-- 0 -->\r\n      <g transform=\"translate(51.350284 456.678437)scale(0.1 -0.1)\">\r\n       <defs>\r\n        <path d=\"M 2034 4250 \r\nQ 1547 4250 1301 3770 \r\nQ 1056 3291 1056 2328 \r\nQ 1056 1369 1301 889 \r\nQ 1547 409 2034 409 \r\nQ 2525 409 2770 889 \r\nQ 3016 1369 3016 2328 \r\nQ 3016 3291 2770 3770 \r\nQ 2525 4250 2034 4250 \r\nz\r\nM 2034 4750 \r\nQ 2819 4750 3233 4129 \r\nQ 3647 3509 3647 2328 \r\nQ 3647 1150 3233 529 \r\nQ 2819 -91 2034 -91 \r\nQ 1250 -91 836 529 \r\nQ 422 1150 422 2328 \r\nQ 422 3509 836 4129 \r\nQ 1250 4750 2034 4750 \r\nz\r\n\" id=\"DejaVuSans-30\" transform=\"scale(0.015625)\"/>\r\n       </defs>\r\n       <use xlink:href=\"#DejaVuSans-30\"/>\r\n      </g>\r\n     </g>\r\n    </g>\r\n    <g id=\"xtick_2\">\r\n     <g id=\"line2d_2\">\r\n      <g>\r\n       <use style=\"stroke:#000000;stroke-width:0.8;\" x=\"144.713352\" xlink:href=\"#md46762bd3e\" y=\"442.08\"/>\r\n      </g>\r\n     </g>\r\n     <g id=\"text_2\">\r\n      <!-- 2 -->\r\n      <g transform=\"translate(141.532102 456.678437)scale(0.1 -0.1)\">\r\n       <defs>\r\n        <path d=\"M 1228 531 \r\nL 3431 531 \r\nL 3431 0 \r\nL 469 0 \r\nL 469 531 \r\nQ 828 903 1448 1529 \r\nQ 2069 2156 2228 2338 \r\nQ 2531 2678 2651 2914 \r\nQ 2772 3150 2772 3378 \r\nQ 2772 3750 2511 3984 \r\nQ 2250 4219 1831 4219 \r\nQ 1534 4219 1204 4116 \r\nQ 875 4013 500 3803 \r\nL 500 4441 \r\nQ 881 4594 1212 4672 \r\nQ 1544 4750 1819 4750 \r\nQ 2544 4750 2975 4387 \r\nQ 3406 4025 3406 3419 \r\nQ 3406 3131 3298 2873 \r\nQ 3191 2616 2906 2266 \r\nQ 2828 2175 2409 1742 \r\nQ 1991 1309 1228 531 \r\nz\r\n\" id=\"DejaVuSans-32\" transform=\"scale(0.015625)\"/>\r\n       </defs>\r\n       <use xlink:href=\"#DejaVuSans-32\"/>\r\n      </g>\r\n     </g>\r\n    </g>\r\n    <g id=\"xtick_3\">\r\n     <g id=\"line2d_3\">\r\n      <g>\r\n       <use style=\"stroke:#000000;stroke-width:0.8;\" x=\"234.89517\" xlink:href=\"#md46762bd3e\" y=\"442.08\"/>\r\n      </g>\r\n     </g>\r\n     <g id=\"text_3\">\r\n      <!-- 4 -->\r\n      <g transform=\"translate(231.71392 456.678437)scale(0.1 -0.1)\">\r\n       <defs>\r\n        <path d=\"M 2419 4116 \r\nL 825 1625 \r\nL 2419 1625 \r\nL 2419 4116 \r\nz\r\nM 2253 4666 \r\nL 3047 4666 \r\nL 3047 1625 \r\nL 3713 1625 \r\nL 3713 1100 \r\nL 3047 1100 \r\nL 3047 0 \r\nL 2419 0 \r\nL 2419 1100 \r\nL 313 1100 \r\nL 313 1709 \r\nL 2253 4666 \r\nz\r\n\" id=\"DejaVuSans-34\" transform=\"scale(0.015625)\"/>\r\n       </defs>\r\n       <use xlink:href=\"#DejaVuSans-34\"/>\r\n      </g>\r\n     </g>\r\n    </g>\r\n    <g id=\"xtick_4\">\r\n     <g id=\"line2d_4\">\r\n      <g>\r\n       <use style=\"stroke:#000000;stroke-width:0.8;\" x=\"325.076989\" xlink:href=\"#md46762bd3e\" y=\"442.08\"/>\r\n      </g>\r\n     </g>\r\n     <g id=\"text_4\">\r\n      <!-- 6 -->\r\n      <g transform=\"translate(321.895739 456.678437)scale(0.1 -0.1)\">\r\n       <defs>\r\n        <path d=\"M 2113 2584 \r\nQ 1688 2584 1439 2293 \r\nQ 1191 2003 1191 1497 \r\nQ 1191 994 1439 701 \r\nQ 1688 409 2113 409 \r\nQ 2538 409 2786 701 \r\nQ 3034 994 3034 1497 \r\nQ 3034 2003 2786 2293 \r\nQ 2538 2584 2113 2584 \r\nz\r\nM 3366 4563 \r\nL 3366 3988 \r\nQ 3128 4100 2886 4159 \r\nQ 2644 4219 2406 4219 \r\nQ 1781 4219 1451 3797 \r\nQ 1122 3375 1075 2522 \r\nQ 1259 2794 1537 2939 \r\nQ 1816 3084 2150 3084 \r\nQ 2853 3084 3261 2657 \r\nQ 3669 2231 3669 1497 \r\nQ 3669 778 3244 343 \r\nQ 2819 -91 2113 -91 \r\nQ 1303 -91 875 529 \r\nQ 447 1150 447 2328 \r\nQ 447 3434 972 4092 \r\nQ 1497 4750 2381 4750 \r\nQ 2619 4750 2861 4703 \r\nQ 3103 4656 3366 4563 \r\nz\r\n\" id=\"DejaVuSans-36\" transform=\"scale(0.015625)\"/>\r\n       </defs>\r\n       <use xlink:href=\"#DejaVuSans-36\"/>\r\n      </g>\r\n     </g>\r\n    </g>\r\n    <g id=\"xtick_5\">\r\n     <g id=\"line2d_5\">\r\n      <g>\r\n       <use style=\"stroke:#000000;stroke-width:0.8;\" x=\"415.258807\" xlink:href=\"#md46762bd3e\" y=\"442.08\"/>\r\n      </g>\r\n     </g>\r\n     <g id=\"text_5\">\r\n      <!-- 8 -->\r\n      <g transform=\"translate(412.077557 456.678437)scale(0.1 -0.1)\">\r\n       <defs>\r\n        <path d=\"M 2034 2216 \r\nQ 1584 2216 1326 1975 \r\nQ 1069 1734 1069 1313 \r\nQ 1069 891 1326 650 \r\nQ 1584 409 2034 409 \r\nQ 2484 409 2743 651 \r\nQ 3003 894 3003 1313 \r\nQ 3003 1734 2745 1975 \r\nQ 2488 2216 2034 2216 \r\nz\r\nM 1403 2484 \r\nQ 997 2584 770 2862 \r\nQ 544 3141 544 3541 \r\nQ 544 4100 942 4425 \r\nQ 1341 4750 2034 4750 \r\nQ 2731 4750 3128 4425 \r\nQ 3525 4100 3525 3541 \r\nQ 3525 3141 3298 2862 \r\nQ 3072 2584 2669 2484 \r\nQ 3125 2378 3379 2068 \r\nQ 3634 1759 3634 1313 \r\nQ 3634 634 3220 271 \r\nQ 2806 -91 2034 -91 \r\nQ 1263 -91 848 271 \r\nQ 434 634 434 1313 \r\nQ 434 1759 690 2068 \r\nQ 947 2378 1403 2484 \r\nz\r\nM 1172 3481 \r\nQ 1172 3119 1398 2916 \r\nQ 1625 2713 2034 2713 \r\nQ 2441 2713 2670 2916 \r\nQ 2900 3119 2900 3481 \r\nQ 2900 3844 2670 4047 \r\nQ 2441 4250 2034 4250 \r\nQ 1625 4250 1398 4047 \r\nQ 1172 3844 1172 3481 \r\nz\r\n\" id=\"DejaVuSans-38\" transform=\"scale(0.015625)\"/>\r\n       </defs>\r\n       <use xlink:href=\"#DejaVuSans-38\"/>\r\n      </g>\r\n     </g>\r\n    </g>\r\n    <g id=\"text_6\">\r\n     <!-- Log Positive count -->\r\n     <g transform=\"translate(211.952344 470.356562)scale(0.1 -0.1)\">\r\n      <defs>\r\n       <path d=\"M 628 4666 \r\nL 1259 4666 \r\nL 1259 531 \r\nL 3531 531 \r\nL 3531 0 \r\nL 628 0 \r\nL 628 4666 \r\nz\r\n\" id=\"DejaVuSans-4c\" transform=\"scale(0.015625)\"/>\r\n       <path d=\"M 1959 3097 \r\nQ 1497 3097 1228 2736 \r\nQ 959 2375 959 1747 \r\nQ 959 1119 1226 758 \r\nQ 1494 397 1959 397 \r\nQ 2419 397 2687 759 \r\nQ 2956 1122 2956 1747 \r\nQ 2956 2369 2687 2733 \r\nQ 2419 3097 1959 3097 \r\nz\r\nM 1959 3584 \r\nQ 2709 3584 3137 3096 \r\nQ 3566 2609 3566 1747 \r\nQ 3566 888 3137 398 \r\nQ 2709 -91 1959 -91 \r\nQ 1206 -91 779 398 \r\nQ 353 888 353 1747 \r\nQ 353 2609 779 3096 \r\nQ 1206 3584 1959 3584 \r\nz\r\n\" id=\"DejaVuSans-6f\" transform=\"scale(0.015625)\"/>\r\n       <path d=\"M 2906 1791 \r\nQ 2906 2416 2648 2759 \r\nQ 2391 3103 1925 3103 \r\nQ 1463 3103 1205 2759 \r\nQ 947 2416 947 1791 \r\nQ 947 1169 1205 825 \r\nQ 1463 481 1925 481 \r\nQ 2391 481 2648 825 \r\nQ 2906 1169 2906 1791 \r\nz\r\nM 3481 434 \r\nQ 3481 -459 3084 -895 \r\nQ 2688 -1331 1869 -1331 \r\nQ 1566 -1331 1297 -1286 \r\nQ 1028 -1241 775 -1147 \r\nL 775 -588 \r\nQ 1028 -725 1275 -790 \r\nQ 1522 -856 1778 -856 \r\nQ 2344 -856 2625 -561 \r\nQ 2906 -266 2906 331 \r\nL 2906 616 \r\nQ 2728 306 2450 153 \r\nQ 2172 0 1784 0 \r\nQ 1141 0 747 490 \r\nQ 353 981 353 1791 \r\nQ 353 2603 747 3093 \r\nQ 1141 3584 1784 3584 \r\nQ 2172 3584 2450 3431 \r\nQ 2728 3278 2906 2969 \r\nL 2906 3500 \r\nL 3481 3500 \r\nL 3481 434 \r\nz\r\n\" id=\"DejaVuSans-67\" transform=\"scale(0.015625)\"/>\r\n       <path id=\"DejaVuSans-20\" transform=\"scale(0.015625)\"/>\r\n       <path d=\"M 1259 4147 \r\nL 1259 2394 \r\nL 2053 2394 \r\nQ 2494 2394 2734 2622 \r\nQ 2975 2850 2975 3272 \r\nQ 2975 3691 2734 3919 \r\nQ 2494 4147 2053 4147 \r\nL 1259 4147 \r\nz\r\nM 628 4666 \r\nL 2053 4666 \r\nQ 2838 4666 3239 4311 \r\nQ 3641 3956 3641 3272 \r\nQ 3641 2581 3239 2228 \r\nQ 2838 1875 2053 1875 \r\nL 1259 1875 \r\nL 1259 0 \r\nL 628 0 \r\nL 628 4666 \r\nz\r\n\" id=\"DejaVuSans-50\" transform=\"scale(0.015625)\"/>\r\n       <path d=\"M 2834 3397 \r\nL 2834 2853 \r\nQ 2591 2978 2328 3040 \r\nQ 2066 3103 1784 3103 \r\nQ 1356 3103 1142 2972 \r\nQ 928 2841 928 2578 \r\nQ 928 2378 1081 2264 \r\nQ 1234 2150 1697 2047 \r\nL 1894 2003 \r\nQ 2506 1872 2764 1633 \r\nQ 3022 1394 3022 966 \r\nQ 3022 478 2636 193 \r\nQ 2250 -91 1575 -91 \r\nQ 1294 -91 989 -36 \r\nQ 684 19 347 128 \r\nL 347 722 \r\nQ 666 556 975 473 \r\nQ 1284 391 1588 391 \r\nQ 1994 391 2212 530 \r\nQ 2431 669 2431 922 \r\nQ 2431 1156 2273 1281 \r\nQ 2116 1406 1581 1522 \r\nL 1381 1569 \r\nQ 847 1681 609 1914 \r\nQ 372 2147 372 2553 \r\nQ 372 3047 722 3315 \r\nQ 1072 3584 1716 3584 \r\nQ 2034 3584 2315 3537 \r\nQ 2597 3491 2834 3397 \r\nz\r\n\" id=\"DejaVuSans-73\" transform=\"scale(0.015625)\"/>\r\n       <path d=\"M 603 3500 \r\nL 1178 3500 \r\nL 1178 0 \r\nL 603 0 \r\nL 603 3500 \r\nz\r\nM 603 4863 \r\nL 1178 4863 \r\nL 1178 4134 \r\nL 603 4134 \r\nL 603 4863 \r\nz\r\n\" id=\"DejaVuSans-69\" transform=\"scale(0.015625)\"/>\r\n       <path d=\"M 1172 4494 \r\nL 1172 3500 \r\nL 2356 3500 \r\nL 2356 3053 \r\nL 1172 3053 \r\nL 1172 1153 \r\nQ 1172 725 1289 603 \r\nQ 1406 481 1766 481 \r\nL 2356 481 \r\nL 2356 0 \r\nL 1766 0 \r\nQ 1100 0 847 248 \r\nQ 594 497 594 1153 \r\nL 594 3053 \r\nL 172 3053 \r\nL 172 3500 \r\nL 594 3500 \r\nL 594 4494 \r\nL 1172 4494 \r\nz\r\n\" id=\"DejaVuSans-74\" transform=\"scale(0.015625)\"/>\r\n       <path d=\"M 191 3500 \r\nL 800 3500 \r\nL 1894 563 \r\nL 2988 3500 \r\nL 3597 3500 \r\nL 2284 0 \r\nL 1503 0 \r\nL 191 3500 \r\nz\r\n\" id=\"DejaVuSans-76\" transform=\"scale(0.015625)\"/>\r\n       <path d=\"M 3597 1894 \r\nL 3597 1613 \r\nL 953 1613 \r\nQ 991 1019 1311 708 \r\nQ 1631 397 2203 397 \r\nQ 2534 397 2845 478 \r\nQ 3156 559 3463 722 \r\nL 3463 178 \r\nQ 3153 47 2828 -22 \r\nQ 2503 -91 2169 -91 \r\nQ 1331 -91 842 396 \r\nQ 353 884 353 1716 \r\nQ 353 2575 817 3079 \r\nQ 1281 3584 2069 3584 \r\nQ 2775 3584 3186 3129 \r\nQ 3597 2675 3597 1894 \r\nz\r\nM 3022 2063 \r\nQ 3016 2534 2758 2815 \r\nQ 2500 3097 2075 3097 \r\nQ 1594 3097 1305 2825 \r\nQ 1016 2553 972 2059 \r\nL 3022 2063 \r\nz\r\n\" id=\"DejaVuSans-65\" transform=\"scale(0.015625)\"/>\r\n       <path d=\"M 3122 3366 \r\nL 3122 2828 \r\nQ 2878 2963 2633 3030 \r\nQ 2388 3097 2138 3097 \r\nQ 1578 3097 1268 2742 \r\nQ 959 2388 959 1747 \r\nQ 959 1106 1268 751 \r\nQ 1578 397 2138 397 \r\nQ 2388 397 2633 464 \r\nQ 2878 531 3122 666 \r\nL 3122 134 \r\nQ 2881 22 2623 -34 \r\nQ 2366 -91 2075 -91 \r\nQ 1284 -91 818 406 \r\nQ 353 903 353 1747 \r\nQ 353 2603 823 3093 \r\nQ 1294 3584 2113 3584 \r\nQ 2378 3584 2631 3529 \r\nQ 2884 3475 3122 3366 \r\nz\r\n\" id=\"DejaVuSans-63\" transform=\"scale(0.015625)\"/>\r\n       <path d=\"M 544 1381 \r\nL 544 3500 \r\nL 1119 3500 \r\nL 1119 1403 \r\nQ 1119 906 1312 657 \r\nQ 1506 409 1894 409 \r\nQ 2359 409 2629 706 \r\nQ 2900 1003 2900 1516 \r\nL 2900 3500 \r\nL 3475 3500 \r\nL 3475 0 \r\nL 2900 0 \r\nL 2900 538 \r\nQ 2691 219 2414 64 \r\nQ 2138 -91 1772 -91 \r\nQ 1169 -91 856 284 \r\nQ 544 659 544 1381 \r\nz\r\nM 1991 3584 \r\nL 1991 3584 \r\nz\r\n\" id=\"DejaVuSans-75\" transform=\"scale(0.015625)\"/>\r\n       <path d=\"M 3513 2113 \r\nL 3513 0 \r\nL 2938 0 \r\nL 2938 2094 \r\nQ 2938 2591 2744 2837 \r\nQ 2550 3084 2163 3084 \r\nQ 1697 3084 1428 2787 \r\nQ 1159 2491 1159 1978 \r\nL 1159 0 \r\nL 581 0 \r\nL 581 3500 \r\nL 1159 3500 \r\nL 1159 2956 \r\nQ 1366 3272 1645 3428 \r\nQ 1925 3584 2291 3584 \r\nQ 2894 3584 3203 3211 \r\nQ 3513 2838 3513 2113 \r\nz\r\n\" id=\"DejaVuSans-6e\" transform=\"scale(0.015625)\"/>\r\n      </defs>\r\n      <use xlink:href=\"#DejaVuSans-4c\"/>\r\n      <use x=\"53.962891\" xlink:href=\"#DejaVuSans-6f\"/>\r\n      <use x=\"115.144531\" xlink:href=\"#DejaVuSans-67\"/>\r\n      <use x=\"178.621094\" xlink:href=\"#DejaVuSans-20\"/>\r\n      <use x=\"210.408203\" xlink:href=\"#DejaVuSans-50\"/>\r\n      <use x=\"267.085938\" xlink:href=\"#DejaVuSans-6f\"/>\r\n      <use x=\"328.267578\" xlink:href=\"#DejaVuSans-73\"/>\r\n      <use x=\"380.367188\" xlink:href=\"#DejaVuSans-69\"/>\r\n      <use x=\"408.150391\" xlink:href=\"#DejaVuSans-74\"/>\r\n      <use x=\"447.359375\" xlink:href=\"#DejaVuSans-69\"/>\r\n      <use x=\"475.142578\" xlink:href=\"#DejaVuSans-76\"/>\r\n      <use x=\"534.322266\" xlink:href=\"#DejaVuSans-65\"/>\r\n      <use x=\"595.845703\" xlink:href=\"#DejaVuSans-20\"/>\r\n      <use x=\"627.632812\" xlink:href=\"#DejaVuSans-63\"/>\r\n      <use x=\"682.613281\" xlink:href=\"#DejaVuSans-6f\"/>\r\n      <use x=\"743.794922\" xlink:href=\"#DejaVuSans-75\"/>\r\n      <use x=\"807.173828\" xlink:href=\"#DejaVuSans-6e\"/>\r\n      <use x=\"870.552734\" xlink:href=\"#DejaVuSans-74\"/>\r\n     </g>\r\n    </g>\r\n   </g>\r\n   <g id=\"matplotlib.axis_2\">\r\n    <g id=\"ytick_1\">\r\n     <g id=\"line2d_6\">\r\n      <defs>\r\n       <path d=\"M 0 0 \r\nL -3.5 0 \r\n\" id=\"m3dc7780e53\" style=\"stroke:#000000;stroke-width:0.8;\"/>\r\n      </defs>\r\n      <g>\r\n       <use style=\"stroke:#000000;stroke-width:0.8;\" x=\"34.240625\" xlink:href=\"#m3dc7780e53\" y=\"422.312727\"/>\r\n      </g>\r\n     </g>\r\n     <g id=\"text_7\">\r\n      <!-- 0 -->\r\n      <g transform=\"translate(20.878125 426.111946)scale(0.1 -0.1)\">\r\n       <use xlink:href=\"#DejaVuSans-30\"/>\r\n      </g>\r\n     </g>\r\n    </g>\r\n    <g id=\"ytick_2\">\r\n     <g id=\"line2d_7\">\r\n      <g>\r\n       <use style=\"stroke:#000000;stroke-width:0.8;\" x=\"34.240625\" xlink:href=\"#m3dc7780e53\" y=\"334.458182\"/>\r\n      </g>\r\n     </g>\r\n     <g id=\"text_8\">\r\n      <!-- 2 -->\r\n      <g transform=\"translate(20.878125 338.257401)scale(0.1 -0.1)\">\r\n       <use xlink:href=\"#DejaVuSans-32\"/>\r\n      </g>\r\n     </g>\r\n    </g>\r\n    <g id=\"ytick_3\">\r\n     <g id=\"line2d_8\">\r\n      <g>\r\n       <use style=\"stroke:#000000;stroke-width:0.8;\" x=\"34.240625\" xlink:href=\"#m3dc7780e53\" y=\"246.603636\"/>\r\n      </g>\r\n     </g>\r\n     <g id=\"text_9\">\r\n      <!-- 4 -->\r\n      <g transform=\"translate(20.878125 250.402855)scale(0.1 -0.1)\">\r\n       <use xlink:href=\"#DejaVuSans-34\"/>\r\n      </g>\r\n     </g>\r\n    </g>\r\n    <g id=\"ytick_4\">\r\n     <g id=\"line2d_9\">\r\n      <g>\r\n       <use style=\"stroke:#000000;stroke-width:0.8;\" x=\"34.240625\" xlink:href=\"#m3dc7780e53\" y=\"158.749091\"/>\r\n      </g>\r\n     </g>\r\n     <g id=\"text_10\">\r\n      <!-- 6 -->\r\n      <g transform=\"translate(20.878125 162.54831)scale(0.1 -0.1)\">\r\n       <use xlink:href=\"#DejaVuSans-36\"/>\r\n      </g>\r\n     </g>\r\n    </g>\r\n    <g id=\"ytick_5\">\r\n     <g id=\"line2d_10\">\r\n      <g>\r\n       <use style=\"stroke:#000000;stroke-width:0.8;\" x=\"34.240625\" xlink:href=\"#m3dc7780e53\" y=\"70.894545\"/>\r\n      </g>\r\n     </g>\r\n     <g id=\"text_11\">\r\n      <!-- 8 -->\r\n      <g transform=\"translate(20.878125 74.693764)scale(0.1 -0.1)\">\r\n       <use xlink:href=\"#DejaVuSans-38\"/>\r\n      </g>\r\n     </g>\r\n    </g>\r\n    <g id=\"text_12\">\r\n     <!-- Log Negative count -->\r\n     <g transform=\"translate(14.798438 273.297031)rotate(-90)scale(0.1 -0.1)\">\r\n      <defs>\r\n       <path d=\"M 628 4666 \r\nL 1478 4666 \r\nL 3547 763 \r\nL 3547 4666 \r\nL 4159 4666 \r\nL 4159 0 \r\nL 3309 0 \r\nL 1241 3903 \r\nL 1241 0 \r\nL 628 0 \r\nL 628 4666 \r\nz\r\n\" id=\"DejaVuSans-4e\" transform=\"scale(0.015625)\"/>\r\n       <path d=\"M 2194 1759 \r\nQ 1497 1759 1228 1600 \r\nQ 959 1441 959 1056 \r\nQ 959 750 1161 570 \r\nQ 1363 391 1709 391 \r\nQ 2188 391 2477 730 \r\nQ 2766 1069 2766 1631 \r\nL 2766 1759 \r\nL 2194 1759 \r\nz\r\nM 3341 1997 \r\nL 3341 0 \r\nL 2766 0 \r\nL 2766 531 \r\nQ 2569 213 2275 61 \r\nQ 1981 -91 1556 -91 \r\nQ 1019 -91 701 211 \r\nQ 384 513 384 1019 \r\nQ 384 1609 779 1909 \r\nQ 1175 2209 1959 2209 \r\nL 2766 2209 \r\nL 2766 2266 \r\nQ 2766 2663 2505 2880 \r\nQ 2244 3097 1772 3097 \r\nQ 1472 3097 1187 3025 \r\nQ 903 2953 641 2809 \r\nL 641 3341 \r\nQ 956 3463 1253 3523 \r\nQ 1550 3584 1831 3584 \r\nQ 2591 3584 2966 3190 \r\nQ 3341 2797 3341 1997 \r\nz\r\n\" id=\"DejaVuSans-61\" transform=\"scale(0.015625)\"/>\r\n      </defs>\r\n      <use xlink:href=\"#DejaVuSans-4c\"/>\r\n      <use x=\"53.962891\" xlink:href=\"#DejaVuSans-6f\"/>\r\n      <use x=\"115.144531\" xlink:href=\"#DejaVuSans-67\"/>\r\n      <use x=\"178.621094\" xlink:href=\"#DejaVuSans-20\"/>\r\n      <use x=\"210.408203\" xlink:href=\"#DejaVuSans-4e\"/>\r\n      <use x=\"285.212891\" xlink:href=\"#DejaVuSans-65\"/>\r\n      <use x=\"346.736328\" xlink:href=\"#DejaVuSans-67\"/>\r\n      <use x=\"410.212891\" xlink:href=\"#DejaVuSans-61\"/>\r\n      <use x=\"471.492188\" xlink:href=\"#DejaVuSans-74\"/>\r\n      <use x=\"510.701172\" xlink:href=\"#DejaVuSans-69\"/>\r\n      <use x=\"538.484375\" xlink:href=\"#DejaVuSans-76\"/>\r\n      <use x=\"597.664062\" xlink:href=\"#DejaVuSans-65\"/>\r\n      <use x=\"659.1875\" xlink:href=\"#DejaVuSans-20\"/>\r\n      <use x=\"690.974609\" xlink:href=\"#DejaVuSans-63\"/>\r\n      <use x=\"745.955078\" xlink:href=\"#DejaVuSans-6f\"/>\r\n      <use x=\"807.136719\" xlink:href=\"#DejaVuSans-75\"/>\r\n      <use x=\"870.515625\" xlink:href=\"#DejaVuSans-6e\"/>\r\n      <use x=\"933.894531\" xlink:href=\"#DejaVuSans-74\"/>\r\n     </g>\r\n    </g>\r\n   </g>\r\n   <g id=\"line2d_11\">\r\n    <path clip-path=\"url(#p35fcd9370a)\" d=\"M 54.531534 422.312727 \r\nL 460.349716 26.967273 \r\n\" style=\"fill:none;stroke:#ff0000;stroke-linecap:square;stroke-width:1.5;\"/>\r\n   </g>\r\n   <g id=\"patch_3\">\r\n    <path d=\"M 34.240625 442.08 \r\nL 34.240625 7.2 \r\n\" style=\"fill:none;stroke:#000000;stroke-linecap:square;stroke-linejoin:miter;stroke-width:0.8;\"/>\r\n   </g>\r\n   <g id=\"patch_4\">\r\n    <path d=\"M 480.640625 442.08 \r\nL 480.640625 7.2 \r\n\" style=\"fill:none;stroke:#000000;stroke-linecap:square;stroke-linejoin:miter;stroke-width:0.8;\"/>\r\n   </g>\r\n   <g id=\"patch_5\">\r\n    <path d=\"M 34.240625 442.08 \r\nL 480.640625 442.08 \r\n\" style=\"fill:none;stroke:#000000;stroke-linecap:square;stroke-linejoin:miter;stroke-width:0.8;\"/>\r\n   </g>\r\n   <g id=\"patch_6\">\r\n    <path d=\"M 34.240625 7.2 \r\nL 480.640625 7.2 \r\n\" style=\"fill:none;stroke:#000000;stroke-linecap:square;stroke-linejoin:miter;stroke-width:0.8;\"/>\r\n   </g>\r\n   <g id=\"text_13\">\r\n    <!-- happi -->\r\n    <g transform=\"translate(296.064879 279.193432)scale(0.12 -0.12)\">\r\n     <defs>\r\n      <path d=\"M 3513 2113 \r\nL 3513 0 \r\nL 2938 0 \r\nL 2938 2094 \r\nQ 2938 2591 2744 2837 \r\nQ 2550 3084 2163 3084 \r\nQ 1697 3084 1428 2787 \r\nQ 1159 2491 1159 1978 \r\nL 1159 0 \r\nL 581 0 \r\nL 581 4863 \r\nL 1159 4863 \r\nL 1159 2956 \r\nQ 1366 3272 1645 3428 \r\nQ 1925 3584 2291 3584 \r\nQ 2894 3584 3203 3211 \r\nQ 3513 2838 3513 2113 \r\nz\r\n\" id=\"DejaVuSans-68\" transform=\"scale(0.015625)\"/>\r\n      <path d=\"M 1159 525 \r\nL 1159 -1331 \r\nL 581 -1331 \r\nL 581 3500 \r\nL 1159 3500 \r\nL 1159 2969 \r\nQ 1341 3281 1617 3432 \r\nQ 1894 3584 2278 3584 \r\nQ 2916 3584 3314 3078 \r\nQ 3713 2572 3713 1747 \r\nQ 3713 922 3314 415 \r\nQ 2916 -91 2278 -91 \r\nQ 1894 -91 1617 61 \r\nQ 1341 213 1159 525 \r\nz\r\nM 3116 1747 \r\nQ 3116 2381 2855 2742 \r\nQ 2594 3103 2138 3103 \r\nQ 1681 3103 1420 2742 \r\nQ 1159 2381 1159 1747 \r\nQ 1159 1113 1420 752 \r\nQ 1681 391 2138 391 \r\nQ 2594 391 2855 752 \r\nQ 3116 1113 3116 1747 \r\nz\r\n\" id=\"DejaVuSans-70\" transform=\"scale(0.015625)\"/>\r\n     </defs>\r\n     <use xlink:href=\"#DejaVuSans-68\"/>\r\n     <use x=\"63.378906\" xlink:href=\"#DejaVuSans-61\"/>\r\n     <use x=\"124.658203\" xlink:href=\"#DejaVuSans-70\"/>\r\n     <use x=\"188.134766\" xlink:href=\"#DejaVuSans-70\"/>\r\n     <use x=\"251.611328\" xlink:href=\"#DejaVuSans-69\"/>\r\n    </g>\r\n   </g>\r\n   <g id=\"text_14\">\r\n    <!-- merri -->\r\n    <g transform=\"translate(85.786171 422.312727)scale(0.12 -0.12)\">\r\n     <defs>\r\n      <path d=\"M 3328 2828 \r\nQ 3544 3216 3844 3400 \r\nQ 4144 3584 4550 3584 \r\nQ 5097 3584 5394 3201 \r\nQ 5691 2819 5691 2113 \r\nL 5691 0 \r\nL 5113 0 \r\nL 5113 2094 \r\nQ 5113 2597 4934 2840 \r\nQ 4756 3084 4391 3084 \r\nQ 3944 3084 3684 2787 \r\nQ 3425 2491 3425 1978 \r\nL 3425 0 \r\nL 2847 0 \r\nL 2847 2094 \r\nQ 2847 2600 2669 2842 \r\nQ 2491 3084 2119 3084 \r\nQ 1678 3084 1418 2786 \r\nQ 1159 2488 1159 1978 \r\nL 1159 0 \r\nL 581 0 \r\nL 581 3500 \r\nL 1159 3500 \r\nL 1159 2956 \r\nQ 1356 3278 1631 3431 \r\nQ 1906 3584 2284 3584 \r\nQ 2666 3584 2933 3390 \r\nQ 3200 3197 3328 2828 \r\nz\r\n\" id=\"DejaVuSans-6d\" transform=\"scale(0.015625)\"/>\r\n      <path d=\"M 2631 2963 \r\nQ 2534 3019 2420 3045 \r\nQ 2306 3072 2169 3072 \r\nQ 1681 3072 1420 2755 \r\nQ 1159 2438 1159 1844 \r\nL 1159 0 \r\nL 581 0 \r\nL 581 3500 \r\nL 1159 3500 \r\nL 1159 2956 \r\nQ 1341 3275 1631 3429 \r\nQ 1922 3584 2338 3584 \r\nQ 2397 3584 2469 3576 \r\nQ 2541 3569 2628 3553 \r\nL 2631 2963 \r\nz\r\n\" id=\"DejaVuSans-72\" transform=\"scale(0.015625)\"/>\r\n     </defs>\r\n     <use xlink:href=\"#DejaVuSans-6d\"/>\r\n     <use x=\"97.412109\" xlink:href=\"#DejaVuSans-65\"/>\r\n     <use x=\"158.935547\" xlink:href=\"#DejaVuSans-72\"/>\r\n     <use x=\"198.298828\" xlink:href=\"#DejaVuSans-72\"/>\r\n     <use x=\"239.412109\" xlink:href=\"#DejaVuSans-69\"/>\r\n    </g>\r\n   </g>\r\n   <g id=\"text_15\">\r\n    <!-- nice -->\r\n    <g transform=\"translate(261.729666 290.718379)scale(0.12 -0.12)\">\r\n     <use xlink:href=\"#DejaVuSans-6e\"/>\r\n     <use x=\"63.378906\" xlink:href=\"#DejaVuSans-69\"/>\r\n     <use x=\"91.162109\" xlink:href=\"#DejaVuSans-63\"/>\r\n     <use x=\"146.142578\" xlink:href=\"#DejaVuSans-65\"/>\r\n    </g>\r\n   </g>\r\n   <g id=\"text_16\">\r\n    <!-- good -->\r\n    <g transform=\"translate(301.470254 219.150285)scale(0.12 -0.12)\">\r\n     <defs>\r\n      <path d=\"M 2906 2969 \r\nL 2906 4863 \r\nL 3481 4863 \r\nL 3481 0 \r\nL 2906 0 \r\nL 2906 525 \r\nQ 2725 213 2448 61 \r\nQ 2172 -91 1784 -91 \r\nQ 1150 -91 751 415 \r\nQ 353 922 353 1747 \r\nQ 353 2572 751 3078 \r\nQ 1150 3584 1784 3584 \r\nQ 2172 3584 2448 3432 \r\nQ 2725 3281 2906 2969 \r\nz\r\nM 947 1747 \r\nQ 947 1113 1208 752 \r\nQ 1469 391 1925 391 \r\nQ 2381 391 2643 752 \r\nQ 2906 1113 2906 1747 \r\nQ 2906 2381 2643 2742 \r\nQ 2381 3103 1925 3103 \r\nQ 1469 3103 1208 2742 \r\nQ 947 2381 947 1747 \r\nz\r\n\" id=\"DejaVuSans-64\" transform=\"scale(0.015625)\"/>\r\n     </defs>\r\n     <use xlink:href=\"#DejaVuSans-67\"/>\r\n     <use x=\"63.476562\" xlink:href=\"#DejaVuSans-6f\"/>\r\n     <use x=\"124.658203\" xlink:href=\"#DejaVuSans-6f\"/>\r\n     <use x=\"185.839844\" xlink:href=\"#DejaVuSans-64\"/>\r\n    </g>\r\n   </g>\r\n   <g id=\"text_17\">\r\n    <!-- bad -->\r\n    <g transform=\"translate(187.298964 233.246886)scale(0.12 -0.12)\">\r\n     <defs>\r\n      <path d=\"M 3116 1747 \r\nQ 3116 2381 2855 2742 \r\nQ 2594 3103 2138 3103 \r\nQ 1681 3103 1420 2742 \r\nQ 1159 2381 1159 1747 \r\nQ 1159 1113 1420 752 \r\nQ 1681 391 2138 391 \r\nQ 2594 391 2855 752 \r\nQ 3116 1113 3116 1747 \r\nz\r\nM 1159 2969 \r\nQ 1341 3281 1617 3432 \r\nQ 1894 3584 2278 3584 \r\nQ 2916 3584 3314 3078 \r\nQ 3713 2572 3713 1747 \r\nQ 3713 922 3314 415 \r\nQ 2916 -91 2278 -91 \r\nQ 1894 -91 1617 61 \r\nQ 1341 213 1159 525 \r\nL 1159 0 \r\nL 581 0 \r\nL 581 4863 \r\nL 1159 4863 \r\nL 1159 2969 \r\nz\r\n\" id=\"DejaVuSans-62\" transform=\"scale(0.015625)\"/>\r\n     </defs>\r\n     <use xlink:href=\"#DejaVuSans-62\"/>\r\n     <use x=\"63.476562\" xlink:href=\"#DejaVuSans-61\"/>\r\n     <use x=\"124.755859\" xlink:href=\"#DejaVuSans-64\"/>\r\n    </g>\r\n   </g>\r\n   <g id=\"text_18\">\r\n    <!-- sad -->\r\n    <g transform=\"translate(135.323597 210.570904)scale(0.12 -0.12)\">\r\n     <use xlink:href=\"#DejaVuSans-73\"/>\r\n     <use x=\"52.099609\" xlink:href=\"#DejaVuSans-61\"/>\r\n     <use x=\"113.378906\" xlink:href=\"#DejaVuSans-64\"/>\r\n    </g>\r\n   </g>\r\n   <g id=\"text_19\">\r\n    <!-- mad -->\r\n    <g transform=\"translate(127.102553 313.157555)scale(0.12 -0.12)\">\r\n     <use xlink:href=\"#DejaVuSans-6d\"/>\r\n     <use x=\"97.412109\" xlink:href=\"#DejaVuSans-61\"/>\r\n     <use x=\"158.691406\" xlink:href=\"#DejaVuSans-64\"/>\r\n    </g>\r\n   </g>\r\n   <g id=\"text_20\">\r\n    <!-- best -->\r\n    <g transform=\"translate(243.446875 284.579018)scale(0.12 -0.12)\">\r\n     <use xlink:href=\"#DejaVuSans-62\"/>\r\n     <use x=\"63.476562\" xlink:href=\"#DejaVuSans-65\"/>\r\n     <use x=\"125\" xlink:href=\"#DejaVuSans-73\"/>\r\n     <use x=\"177.099609\" xlink:href=\"#DejaVuSans-74\"/>\r\n    </g>\r\n   </g>\r\n   <g id=\"text_21\">\r\n    <!-- pretti -->\r\n    <g transform=\"translate(191.811819 300.520466)scale(0.12 -0.12)\">\r\n     <use xlink:href=\"#DejaVuSans-70\"/>\r\n     <use x=\"63.476562\" xlink:href=\"#DejaVuSans-72\"/>\r\n     <use x=\"102.339844\" xlink:href=\"#DejaVuSans-65\"/>\r\n     <use x=\"163.863281\" xlink:href=\"#DejaVuSans-74\"/>\r\n     <use x=\"203.072266\" xlink:href=\"#DejaVuSans-74\"/>\r\n     <use x=\"242.28125\" xlink:href=\"#DejaVuSans-69\"/>\r\n    </g>\r\n   </g>\r\n   <g id=\"text_22\">\r\n    <!-- ❤ -->\r\n    <g transform=\"translate(207.894616 286.531662)scale(0.12 -0.12)\">\r\n     <defs>\r\n      <path d=\"M 2681 534 \r\nQ 2253 1281 950 2038 \r\nQ 344 2391 344 2947 \r\nQ 344 3181 430 3397 \r\nQ 516 3613 688 3781 \r\nQ 853 3944 1069 4038 \r\nQ 1272 4125 1512 4125 \r\nQ 1753 4125 1956 4038 \r\nQ 2169 3947 2338 3781 \r\nQ 2503 3619 2592 3405 \r\nQ 2681 3191 2681 2947 \r\nQ 2681 3191 2770 3405 \r\nQ 2859 3619 3025 3781 \r\nQ 3194 3947 3406 4038 \r\nQ 3609 4125 3850 4125 \r\nQ 4091 4125 4294 4038 \r\nQ 4509 3944 4675 3781 \r\nQ 4847 3613 4933 3397 \r\nQ 5019 3181 5019 2947 \r\nQ 5019 2384 4413 2038 \r\nQ 3109 1281 2681 534 \r\nz\r\n\" id=\"DejaVuSans-2764\" transform=\"scale(0.015625)\"/>\r\n     </defs>\r\n     <use xlink:href=\"#DejaVuSans-2764\"/>\r\n    </g>\r\n   </g>\r\n   <g id=\"text_23\">\r\n    <!-- :) -->\r\n    <g transform=\"translate(423.377007 374.053686)scale(0.12 -0.12)\">\r\n     <defs>\r\n      <path d=\"M 750 794 \r\nL 1409 794 \r\nL 1409 0 \r\nL 750 0 \r\nL 750 794 \r\nz\r\nM 750 3309 \r\nL 1409 3309 \r\nL 1409 2516 \r\nL 750 2516 \r\nL 750 3309 \r\nz\r\n\" id=\"DejaVuSans-3a\" transform=\"scale(0.015625)\"/>\r\n      <path d=\"M 513 4856 \r\nL 1013 4856 \r\nQ 1481 4119 1714 3412 \r\nQ 1947 2706 1947 2009 \r\nQ 1947 1309 1714 600 \r\nQ 1481 -109 1013 -844 \r\nL 513 -844 \r\nQ 928 -128 1133 580 \r\nQ 1338 1288 1338 2009 \r\nQ 1338 2731 1133 3434 \r\nQ 928 4138 513 4856 \r\nz\r\n\" id=\"DejaVuSans-29\" transform=\"scale(0.015625)\"/>\r\n     </defs>\r\n     <use xlink:href=\"#DejaVuSans-3a\"/>\r\n     <use x=\"33.691406\" xlink:href=\"#DejaVuSans-29\"/>\r\n    </g>\r\n   </g>\r\n   <g id=\"text_24\">\r\n    <!-- :( -->\r\n    <g transform=\"translate(85.786171 52.106586)scale(0.12 -0.12)\">\r\n     <defs>\r\n      <path d=\"M 1984 4856 \r\nQ 1566 4138 1362 3434 \r\nQ 1159 2731 1159 2009 \r\nQ 1159 1288 1364 580 \r\nQ 1569 -128 1984 -844 \r\nL 1484 -844 \r\nQ 1016 -109 783 600 \r\nQ 550 1309 550 2009 \r\nQ 550 2706 781 3412 \r\nQ 1013 4119 1484 4856 \r\nL 1984 4856 \r\nz\r\n\" id=\"DejaVuSans-28\" transform=\"scale(0.015625)\"/>\r\n     </defs>\r\n     <use xlink:href=\"#DejaVuSans-3a\"/>\r\n     <use x=\"33.691406\" xlink:href=\"#DejaVuSans-28\"/>\r\n    </g>\r\n   </g>\r\n   <g id=\"text_25\">\r\n    <!-- 😒 -->\r\n    <g transform=\"translate(85.786171 361.416597)scale(0.12 -0.12)\">\r\n     <defs>\r\n      <path d=\"M 953 2331 \r\nQ 953 1344 1651 648 \r\nQ 2350 -47 3338 -47 \r\nQ 4328 -47 5023 648 \r\nQ 5719 1344 5719 2331 \r\nQ 5719 3322 5023 4022 \r\nQ 4328 4722 3338 4722 \r\nQ 2350 4722 1651 4022 \r\nQ 953 3322 953 2331 \r\nz\r\nM 531 2331 \r\nQ 531 3497 1353 4320 \r\nQ 2175 5144 3338 5144 \r\nQ 4503 5144 5322 4320 \r\nQ 6141 3497 6141 2331 \r\nQ 6141 1169 5322 350 \r\nQ 4503 -469 3338 -469 \r\nQ 2175 -469 1353 350 \r\nQ 531 1169 531 2331 \r\nz\r\nM 1838 1153 \r\nL 1838 1575 \r\nL 4838 1575 \r\nL 4838 1153 \r\nL 1838 1153 \r\nz\r\nM 1644 2894 \r\nL 1644 3316 \r\nL 2819 3316 \r\nQ 3000 3316 3128 3189 \r\nQ 3256 3063 3256 2878 \r\nQ 3256 2697 3128 2567 \r\nQ 3000 2438 2819 2438 \r\nQ 2634 2438 2507 2567 \r\nQ 2381 2697 2381 2878 \r\nQ 2381 2888 2381 2894 \r\nL 1644 2894 \r\nz\r\nM 3450 2894 \r\nL 3450 3316 \r\nL 4625 3316 \r\nQ 4806 3316 4936 3189 \r\nQ 5066 3063 5066 2878 \r\nQ 5066 2697 4936 2567 \r\nQ 4806 2438 4625 2438 \r\nQ 4441 2438 4314 2567 \r\nQ 4188 2697 4188 2878 \r\nQ 4188 2888 4188 2894 \r\nL 3450 2894 \r\nz\r\n\" id=\"DejaVuSans-1f612\" transform=\"scale(0.015625)\"/>\r\n     </defs>\r\n     <use xlink:href=\"#DejaVuSans-1f612\"/>\r\n    </g>\r\n   </g>\r\n   <g id=\"text_26\">\r\n    <!-- 😬 -->\r\n    <g transform=\"translate(54.531534 374.053686)scale(0.12 -0.12)\">\r\n     <defs>\r\n      <path d=\"M 319 -1131 \r\nL 319 4513 \r\nL 3519 4513 \r\nL 3519 -1131 \r\nL 319 -1131 \r\nz\r\nM 678 -775 \r\nL 3163 -775 \r\nL 3163 4153 \r\nL 678 4153 \r\nL 678 -775 \r\nz\r\n\" id=\"DejaVuSans-1f62c\" transform=\"scale(0.015625)\"/>\r\n     </defs>\r\n     <use xlink:href=\"#DejaVuSans-1f62c\"/>\r\n    </g>\r\n   </g>\r\n   <g id=\"text_27\">\r\n    <!-- 😄 -->\r\n    <g transform=\"translate(135.323597 391.864662)scale(0.12 -0.12)\">\r\n     <defs>\r\n      <path d=\"M 1669 2838 \r\nQ 1669 3272 1887 3580 \r\nQ 2106 3888 2412 3888 \r\nQ 2719 3888 2937 3580 \r\nQ 3156 3272 3156 2838 \r\nL 2734 2838 \r\nQ 2734 3097 2639 3283 \r\nQ 2544 3469 2412 3469 \r\nQ 2281 3469 2186 3283 \r\nQ 2091 3097 2091 2838 \r\nL 1669 2838 \r\nz\r\nM 3519 2838 \r\nQ 3519 3272 3737 3580 \r\nQ 3956 3888 4262 3888 \r\nQ 4569 3888 4787 3580 \r\nQ 5006 3272 5006 2838 \r\nL 4584 2838 \r\nQ 4584 3097 4489 3283 \r\nQ 4394 3469 4262 3469 \r\nQ 4131 3469 4036 3283 \r\nQ 3941 3097 3941 2838 \r\nL 3519 2838 \r\nz\r\nM 531 2331 \r\nQ 531 3497 1353 4320 \r\nQ 2175 5144 3338 5144 \r\nQ 4503 5144 5322 4320 \r\nQ 6141 3497 6141 2331 \r\nQ 6141 1169 5322 350 \r\nQ 4503 -469 3338 -469 \r\nQ 2175 -469 1353 350 \r\nQ 531 1169 531 2331 \r\nz\r\nM 953 2331 \r\nQ 953 1344 1651 648 \r\nQ 2350 -47 3338 -47 \r\nQ 4328 -47 5023 648 \r\nQ 5719 1344 5719 2331 \r\nQ 5719 3322 5023 4022 \r\nQ 4328 4722 3338 4722 \r\nQ 2350 4722 1651 4022 \r\nQ 953 3322 953 2331 \r\nz\r\nM 1394 2300 \r\nL 5278 2300 \r\nQ 5278 1494 4711 928 \r\nQ 4144 363 3337 363 \r\nQ 2531 363 1962 928 \r\nQ 1394 1494 1394 2300 \r\nz\r\nM 4800 1878 \r\nL 1872 1878 \r\nQ 1975 1513 2263 1225 \r\nQ 2706 781 3338 784 \r\nQ 3969 784 4413 1228 \r\nQ 4700 1516 4800 1878 \r\nz\r\n\" id=\"DejaVuSans-1f604\" transform=\"scale(0.015625)\"/>\r\n     </defs>\r\n     <use xlink:href=\"#DejaVuSans-1f604\"/>\r\n    </g>\r\n   </g>\r\n   <g id=\"text_28\">\r\n    <!-- 😍 -->\r\n    <g transform=\"translate(104.068961 391.864662)scale(0.12 -0.12)\">\r\n     <defs>\r\n      <path d=\"M 4519 3800 \r\nQ 4600 3800 4678 3756 \r\nQ 4866 3641 4866 3444 \r\nQ 4863 3241 4706 3047 \r\nL 4181 2400 \r\nL 4175 2400 \r\nL 3678 2994 \r\nQ 3484 3206 3484 3444 \r\nQ 3481 3509 3513 3588 \r\nQ 3631 3800 3828 3800 \r\nQ 3956 3797 4056 3697 \r\nQ 4144 3597 4175 3444 \r\nL 4178 3444 \r\nQ 4178 3488 4219 3578 \r\nQ 4328 3800 4519 3800 \r\nz\r\nM 2156 3800 \r\nQ 2347 3800 2456 3578 \r\nQ 2497 3488 2497 3444 \r\nL 2500 3444 \r\nQ 2531 3597 2619 3697 \r\nQ 2719 3797 2847 3800 \r\nQ 3044 3800 3163 3588 \r\nQ 3194 3509 3191 3444 \r\nQ 3191 3206 2997 2994 \r\nL 2500 2400 \r\nL 2494 2400 \r\nL 1969 3047 \r\nQ 1813 3241 1809 3444 \r\nQ 1809 3641 1997 3756 \r\nQ 2075 3800 2156 3800 \r\nz\r\nM 531 2331 \r\nQ 531 3497 1353 4320 \r\nQ 2175 5144 3338 5144 \r\nQ 4503 5144 5322 4320 \r\nQ 6141 3497 6141 2331 \r\nQ 6141 1169 5322 350 \r\nQ 4503 -469 3338 -469 \r\nQ 2175 -469 1353 350 \r\nQ 531 1169 531 2331 \r\nz\r\nM 953 2331 \r\nQ 953 1344 1651 648 \r\nQ 2350 -47 3338 -47 \r\nQ 4328 -47 5023 648 \r\nQ 5719 1344 5719 2331 \r\nQ 5719 3322 5023 4022 \r\nQ 4328 4722 3338 4722 \r\nQ 2350 4722 1651 4022 \r\nQ 953 3322 953 2331 \r\nz\r\nM 1691 1453 \r\nL 2050 1675 \r\nQ 2138 1538 2263 1419 \r\nQ 2706 975 3337 975 \r\nQ 3969 975 4413 1419 \r\nQ 4534 1541 4625 1678 \r\nL 4984 1453 \r\nQ 4869 1275 4713 1119 \r\nQ 4144 553 3337 553 \r\nQ 2531 553 1963 1119 \r\nQ 1806 1278 1691 1453 \r\nz\r\n\" id=\"DejaVuSans-1f60d\" transform=\"scale(0.015625)\"/>\r\n     </defs>\r\n     <use xlink:href=\"#DejaVuSans-1f60d\"/>\r\n    </g>\r\n   </g>\r\n   <g id=\"text_29\">\r\n    <!-- ♛ -->\r\n    <g transform=\"translate(54.531534 187.220195)scale(0.12 -0.12)\">\r\n     <defs>\r\n      <path d=\"M 1041 3184 \r\nQ 744 3191 706 3488 \r\nQ 706 3575 751 3654 \r\nQ 797 3734 881 3778 \r\nQ 966 3822 1056 3822 \r\nQ 1144 3822 1228 3778 \r\nQ 1313 3734 1356 3654 \r\nQ 1400 3575 1400 3488 \r\nQ 1388 3288 1209 3219 \r\nL 1956 1638 \r\nL 1794 3831 \r\nQ 1534 3831 1478 4122 \r\nQ 1478 4209 1523 4287 \r\nQ 1569 4366 1651 4409 \r\nQ 1734 4453 1831 4453 \r\nQ 1919 4453 2001 4409 \r\nQ 2084 4366 2129 4287 \r\nQ 2175 4209 2175 4122 \r\nQ 2169 3981 2025 3875 \r\nL 2616 1538 \r\nL 2750 4100 \r\nQ 2541 4194 2534 4344 \r\nQ 2534 4431 2581 4512 \r\nQ 2628 4594 2711 4634 \r\nQ 2794 4675 2878 4675 \r\nQ 2969 4675 3051 4634 \r\nQ 3134 4594 3181 4512 \r\nQ 3228 4431 3228 4344 \r\nQ 3219 4175 3009 4100 \r\nL 3128 1531 \r\nL 3706 3844 \r\nQ 3563 3991 3563 4122 \r\nQ 3563 4206 3608 4286 \r\nQ 3653 4366 3737 4409 \r\nQ 3822 4453 3906 4453 \r\nQ 4000 4453 4084 4409 \r\nQ 4169 4366 4214 4286 \r\nQ 4259 4206 4259 4122 \r\nQ 4225 3856 3956 3806 \r\nL 3669 1638 \r\nL 4472 3247 \r\nQ 4338 3353 4338 3488 \r\nQ 4338 3575 4383 3654 \r\nQ 4428 3734 4511 3776 \r\nQ 4594 3819 4681 3819 \r\nQ 4775 3819 4858 3776 \r\nQ 4941 3734 4986 3654 \r\nQ 5031 3575 5031 3488 \r\nQ 4991 3194 4681 3194 \r\nL 4181 1747 \r\nL 4181 0 \r\nL 1491 0 \r\nL 1491 1747 \r\nL 1041 3184 \r\nz\r\nM 4003 1113 \r\nL 4003 1356 \r\nL 1731 1356 \r\nL 1731 1113 \r\nL 4003 1113 \r\nz\r\nM 4003 181 \r\nL 4003 428 \r\nL 1731 428 \r\nL 1731 181 \r\nL 4003 181 \r\nz\r\n\" id=\"DejaVuSans-265b\" transform=\"scale(0.015625)\"/>\r\n     </defs>\r\n     <use xlink:href=\"#DejaVuSans-265b\"/>\r\n    </g>\r\n   </g>\r\n   <g id=\"text_30\">\r\n    <!-- song -->\r\n    <g transform=\"translate(195.913819 275.938071)scale(0.12 -0.12)\">\r\n     <use xlink:href=\"#DejaVuSans-73\"/>\r\n     <use x=\"52.099609\" xlink:href=\"#DejaVuSans-6f\"/>\r\n     <use x=\"113.28125\" xlink:href=\"#DejaVuSans-6e\"/>\r\n     <use x=\"176.660156\" xlink:href=\"#DejaVuSans-67\"/>\r\n    </g>\r\n   </g>\r\n   <g id=\"text_31\">\r\n    <!-- idea -->\r\n    <g transform=\"translate(203.143815 316.979728)scale(0.12 -0.12)\">\r\n     <use xlink:href=\"#DejaVuSans-69\"/>\r\n     <use x=\"27.783203\" xlink:href=\"#DejaVuSans-64\"/>\r\n     <use x=\"91.259766\" xlink:href=\"#DejaVuSans-65\"/>\r\n     <use x=\"152.783203\" xlink:href=\"#DejaVuSans-61\"/>\r\n    </g>\r\n   </g>\r\n   <g id=\"text_32\">\r\n    <!-- power -->\r\n    <g transform=\"translate(148.295444 336.834201)scale(0.12 -0.12)\">\r\n     <defs>\r\n      <path d=\"M 269 3500 \r\nL 844 3500 \r\nL 1563 769 \r\nL 2278 3500 \r\nL 2956 3500 \r\nL 3675 769 \r\nL 4391 3500 \r\nL 4966 3500 \r\nL 4050 0 \r\nL 3372 0 \r\nL 2619 2869 \r\nL 1863 0 \r\nL 1184 0 \r\nL 269 3500 \r\nz\r\n\" id=\"DejaVuSans-77\" transform=\"scale(0.015625)\"/>\r\n     </defs>\r\n     <use xlink:href=\"#DejaVuSans-70\"/>\r\n     <use x=\"63.476562\" xlink:href=\"#DejaVuSans-6f\"/>\r\n     <use x=\"124.658203\" xlink:href=\"#DejaVuSans-77\"/>\r\n     <use x=\"206.445312\" xlink:href=\"#DejaVuSans-65\"/>\r\n     <use x=\"267.96875\" xlink:href=\"#DejaVuSans-72\"/>\r\n    </g>\r\n   </g>\r\n   <g id=\"text_33\">\r\n    <!-- play -->\r\n    <g transform=\"translate(228.13819 251.355676)scale(0.12 -0.12)\">\r\n     <defs>\r\n      <path d=\"M 603 4863 \r\nL 1178 4863 \r\nL 1178 0 \r\nL 603 0 \r\nL 603 4863 \r\nz\r\n\" id=\"DejaVuSans-6c\" transform=\"scale(0.015625)\"/>\r\n      <path d=\"M 2059 -325 \r\nQ 1816 -950 1584 -1140 \r\nQ 1353 -1331 966 -1331 \r\nL 506 -1331 \r\nL 506 -850 \r\nL 844 -850 \r\nQ 1081 -850 1212 -737 \r\nQ 1344 -625 1503 -206 \r\nL 1606 56 \r\nL 191 3500 \r\nL 800 3500 \r\nL 1894 763 \r\nL 2988 3500 \r\nL 3597 3500 \r\nL 2059 -325 \r\nz\r\n\" id=\"DejaVuSans-79\" transform=\"scale(0.015625)\"/>\r\n     </defs>\r\n     <use xlink:href=\"#DejaVuSans-70\"/>\r\n     <use x=\"63.476562\" xlink:href=\"#DejaVuSans-6c\"/>\r\n     <use x=\"91.259766\" xlink:href=\"#DejaVuSans-61\"/>\r\n     <use x=\"152.539062\" xlink:href=\"#DejaVuSans-79\"/>\r\n    </g>\r\n   </g>\r\n   <g id=\"text_34\">\r\n    <!-- magnific -->\r\n    <g transform=\"translate(104.068961 422.312727)scale(0.12 -0.12)\">\r\n     <defs>\r\n      <path d=\"M 2375 4863 \r\nL 2375 4384 \r\nL 1825 4384 \r\nQ 1516 4384 1395 4259 \r\nQ 1275 4134 1275 3809 \r\nL 1275 3500 \r\nL 2222 3500 \r\nL 2222 3053 \r\nL 1275 3053 \r\nL 1275 0 \r\nL 697 0 \r\nL 697 3053 \r\nL 147 3053 \r\nL 147 3500 \r\nL 697 3500 \r\nL 697 3744 \r\nQ 697 4328 969 4595 \r\nQ 1241 4863 1831 4863 \r\nL 2375 4863 \r\nz\r\n\" id=\"DejaVuSans-66\" transform=\"scale(0.015625)\"/>\r\n     </defs>\r\n     <use xlink:href=\"#DejaVuSans-6d\"/>\r\n     <use x=\"97.412109\" xlink:href=\"#DejaVuSans-61\"/>\r\n     <use x=\"158.691406\" xlink:href=\"#DejaVuSans-67\"/>\r\n     <use x=\"222.167969\" xlink:href=\"#DejaVuSans-6e\"/>\r\n     <use x=\"285.546875\" xlink:href=\"#DejaVuSans-69\"/>\r\n     <use x=\"313.330078\" xlink:href=\"#DejaVuSans-66\"/>\r\n     <use x=\"348.535156\" xlink:href=\"#DejaVuSans-69\"/>\r\n     <use x=\"376.318359\" xlink:href=\"#DejaVuSans-63\"/>\r\n    </g>\r\n   </g>\r\n  </g>\r\n </g>\r\n <defs>\r\n  <clipPath id=\"p35fcd9370a\">\r\n   <rect height=\"434.88\" width=\"446.4\" x=\"34.240625\" y=\"7.2\"/>\r\n  </clipPath>\r\n </defs>\r\n</svg>\r\n",
      "image/png": "[encoded data removed]"
     },
     "metadata": {
      "needs_background": "light"
     }
    }
   ],
   "source": [
    "fig, ax = plt.subplots(figsize = (8, 8))\n",
    "\n",
    "# convert positive raw counts to logarithmic scale. we add 1 to avoid log(0)\n",
    "x = np.log([x[1] + 1 for x in data])  \n",
    "\n",
    "# do the same for the negative counts\n",
    "y = np.log([x[2] + 1 for x in data]) \n",
    "\n",
    "# Plot a dot for each pair of words\n",
    "ax.scatter(x, y)  \n",
    "\n",
    "# assign axis labels\n",
    "plt.xlabel(\"Log Positive count\")\n",
    "plt.ylabel(\"Log Negative count\")\n",
    "\n",
    "# Add the word as the label at the same position as you added the points just before\n",
    "for i in range(0, len(data)):\n",
    "    ax.annotate(data[i][0], (x[i], y[i]), fontsize=12)\n",
    "\n",
    "ax.plot([0, 9], [0, 9], color = 'red') # Plot the red line that divides the 2 areas.\n",
    "plt.show()"
   ]
  },
  {
   "source": [
    "This chart is straightforward to interpret. It shows that emoticons :) and :( are very important for sentiment analysis. Thus, we should not let preprocessing steps get rid of these symbols!\n",
    "\n",
    "Furthermore, what is the meaning of the crown symbol? It seems to be very negative!"
   ],
   "cell_type": "markdown",
   "metadata": {}
  },
  {
   "cell_type": "code",
   "execution_count": null,
   "metadata": {},
   "outputs": [],
   "source": []
  }
 ]
}