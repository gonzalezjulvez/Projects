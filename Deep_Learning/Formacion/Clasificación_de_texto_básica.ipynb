{
  "nbformat": 4,
  "nbformat_minor": 0,
  "metadata": {
    "colab": {
      "name": "Clasificación de texto básica.ipynb",
      "provenance": [],
      "toc_visible": true,
      "authorship_tag": "ABX9TyMguTi9rGFzjZ8lo1ISKyGP",
      "include_colab_link": true
    },
    "kernelspec": {
      "name": "python3",
      "display_name": "Python 3.9.2 64-bit ('personal_projects': conda)",
      "metadata": {
        "interpreter": {
          "hash": "44803457dc58a0042d43c0505bd6df1559590704c5803dd018fa0cbfd3e609e1"
        }
      }
    }
  },
  "cells": [
    {
      "cell_type": "markdown",
      "metadata": {
        "id": "view-in-github",
        "colab_type": "text"
      },
      "source": [
        "<a href=\"https://colab.research.google.com/github/gonzalezjulvez/Projects/blob/main/Formacion/Clasificaci%C3%B3n_de_texto_b%C3%A1sica.ipynb\" target=\"_parent\"><img src=\"https://colab.research.google.com/assets/colab-badge.svg\" alt=\"Open In Colab\"/></a>"
      ]
    },
    {
      "cell_type": "markdown",
      "metadata": {
        "id": "P4_iRFtQf-8t"
      },
      "source": [
        "# Clasificación de texto básica\r\n",
        "\r\n",
        "En este tutorial demuestra la clasificación de texto a partir de archivos de texto sin formato almacenados en el disco. Entrenaremos a un clasificador binario para realizar análisis de sentimientos en un conjunto de datos IMDB. Al final del notebooks, en el que entrenaremos a un clasificador multiclase para predecir la etiqueta de una pregunta de programación en Stack Overflow.\r\n",
        "\r\n",
        "Este cuaderno entrena un modelo de análisis de sentimientos para clasificar las reseñas de películas como positivas o negativas , según el texto de la reseña. Este es un ejemplo de clasificación binaria, o de dos clases, un tipo de problema de aprendizaje automático importante y ampliamente aplicable.\r\n",
        "Utilizará el conjunto de datos de reseñas de películas grandes que contiene el texto de 50.000 reseñas de películas de Internet Movie Database. Estos se dividen en 25,000 revisiones para capacitación y 25,000 revisiones para pruebas. Los conjuntos de entrenamiento y prueba están equilibrados , lo que significa que contienen un número igual de críticas positivas y negativas.\r\n",
        "\r\n",
        "\r\n"
      ]
    },
    {
      "cell_type": "markdown",
      "metadata": {
        "id": "9n8GMvGZgX2H"
      },
      "source": [
        "## Cargamos las librerias "
      ]
    },
    {
      "cell_type": "code",
      "metadata": {
        "id": "r3NUJ_R4f_5H"
      },
      "source": [
        "import matplotlib.pyplot as plt\n",
        "import os\n",
        "import re\n",
        "import shutil\n",
        "import string\n",
        "import tensorflow as tf\n",
        "from pathlib import Path\n",
        "\n",
        "from tensorflow.keras import layers\n",
        "from tensorflow.keras import losses\n",
        "from tensorflow.keras import preprocessing\n",
        "from tensorflow.keras.layers.experimental.preprocessing import TextVectorization\n"
      ],
      "execution_count": 2,
      "outputs": [
        {
          "output_type": "error",
          "ename": "ModuleNotFoundError",
          "evalue": "No module named 'matplotlib'",
          "traceback": [
            "\u001b[1;31m---------------------------------------------------------------------------\u001b[0m",
            "\u001b[1;31mModuleNotFoundError\u001b[0m                       Traceback (most recent call last)",
            "\u001b[1;32m<ipython-input-2-b9fe83a2e340>\u001b[0m in \u001b[0;36m<module>\u001b[1;34m\u001b[0m\n\u001b[1;32m----> 1\u001b[1;33m \u001b[1;32mimport\u001b[0m \u001b[0mmatplotlib\u001b[0m\u001b[1;33m.\u001b[0m\u001b[0mpyplot\u001b[0m \u001b[1;32mas\u001b[0m \u001b[0mplt\u001b[0m\u001b[1;33m\u001b[0m\u001b[1;33m\u001b[0m\u001b[0m\n\u001b[0m\u001b[0;32m      2\u001b[0m \u001b[1;32mimport\u001b[0m \u001b[0mos\u001b[0m\u001b[1;33m\u001b[0m\u001b[1;33m\u001b[0m\u001b[0m\n\u001b[0;32m      3\u001b[0m \u001b[1;32mimport\u001b[0m \u001b[0mre\u001b[0m\u001b[1;33m\u001b[0m\u001b[1;33m\u001b[0m\u001b[0m\n\u001b[0;32m      4\u001b[0m \u001b[1;32mimport\u001b[0m \u001b[0mshutil\u001b[0m\u001b[1;33m\u001b[0m\u001b[1;33m\u001b[0m\u001b[0m\n\u001b[0;32m      5\u001b[0m \u001b[1;32mimport\u001b[0m \u001b[0mstring\u001b[0m\u001b[1;33m\u001b[0m\u001b[1;33m\u001b[0m\u001b[0m\n",
            "\u001b[1;31mModuleNotFoundError\u001b[0m: No module named 'matplotlib'"
          ]
        }
      ]
    },
    {
      "cell_type": "markdown",
      "metadata": {
        "id": "FWX_J5Skg3dx"
      },
      "source": [
        "## Cargamos el Datasets "
      ]
    },
    {
      "cell_type": "code",
      "metadata": {
        "colab": {
          "base_uri": "https://localhost:8080/"
        },
        "id": "1clBs1UxgfTY",
        "outputId": "f3eb556b-acae-483d-c99c-7d08083aacb5"
      },
      "source": [
        "url = 'https://ai.stanford.edu/~amaas/data/sentiment/aclImdb_v1.tar.gz'\r\n",
        "dataset = tf.keras.utils.get_file('aclImdb_v1.tar.gz',url,untar=True, cache_dir='.',cache_subdir='')\r\n",
        "dataset_dir=os.path.join(os.path.dirname(dataset), 'aclImdb')"
      ],
      "execution_count": 3,
      "outputs": [
        {
          "output_type": "stream",
          "text": [
            "Downloading data from https://ai.stanford.edu/~amaas/data/sentiment/aclImdb_v1.tar.gz\n",
            "84131840/84125825 [==============================] - 12s 0us/step\n"
          ],
          "name": "stdout"
        }
      ]
    },
    {
      "cell_type": "code",
      "metadata": {
        "colab": {
          "base_uri": "https://localhost:8080/"
        },
        "id": "5VFmjQXNhg-f",
        "outputId": "0676d3e9-dfbd-412c-beab-8e1483c14fa7"
      },
      "source": [
        "os.listdir(dataset_dir)"
      ],
      "execution_count": 5,
      "outputs": [
        {
          "output_type": "execute_result",
          "data": {
            "text/plain": [
              "['train', 'README', 'test', 'imdb.vocab', 'imdbEr.txt']"
            ]
          },
          "metadata": {
            "tags": []
          },
          "execution_count": 5
        }
      ]
    },
    {
      "cell_type": "code",
      "metadata": {
        "colab": {
          "base_uri": "https://localhost:8080/"
        },
        "id": "H3gAPvgjhr4Z",
        "outputId": "a096a742-7a8a-49c7-c2e3-0f65a8fbc36b"
      },
      "source": [
        "train_dir = os.path.join(dataset_dir, 'train')\r\n",
        "os.listdir(train_dir)"
      ],
      "execution_count": 10,
      "outputs": [
        {
          "output_type": "execute_result",
          "data": {
            "text/plain": [
              "['pos',\n",
              " 'urls_pos.txt',\n",
              " 'labeledBow.feat',\n",
              " 'unsupBow.feat',\n",
              " 'neg',\n",
              " 'urls_unsup.txt',\n",
              " 'unsup',\n",
              " 'urls_neg.txt']"
            ]
          },
          "metadata": {
            "tags": []
          },
          "execution_count": 10
        }
      ]
    },
    {
      "cell_type": "markdown",
      "metadata": {
        "id": "tNAs8BpUiNb7"
      },
      "source": [
        "Los aclImdb/train/pos y aclImdb/train/neg contienen muchos archivos de texto, cada uno de los cuales es una reseña de una sola película."
      ]
    },
    {
      "cell_type": "code",
      "metadata": {
        "colab": {
          "base_uri": "https://localhost:8080/"
        },
        "id": "5rIEFAqVhx9W",
        "outputId": "4891ab8c-afb4-4c8a-962c-8e39f6d4bcbc"
      },
      "source": [
        "sample_file = os.path.join(train_dir,'pos/1181_9.txt')\r\n",
        "with open(sample_file) as f:\r\n",
        "  print(f.read())"
      ],
      "execution_count": 11,
      "outputs": [
        {
          "output_type": "stream",
          "text": [
            "Rachel Griffiths writes and directs this award winning short film. A heartwarming story about coping with grief and cherishing the memory of those we've loved and lost. Although, only 15 minutes long, Griffiths manages to capture so much emotion and truth onto film in the short space of time. Bud Tingwell gives a touching performance as Will, a widower struggling to cope with his wife's death. Will is confronted by the harsh reality of loneliness and helplessness as he proceeds to take care of Ruth's pet cow, Tulip. The film displays the grief and responsibility one feels for those they have loved and lost. Good cinematography, great direction, and superbly acted. It will bring tears to all those who have lost a loved one, and survived.\n"
          ],
          "name": "stdout"
        }
      ]
    },
    {
      "cell_type": "markdown",
      "metadata": {
        "id": "hw13g_ONmGU9"
      },
      "source": [
        "Para preparar un conjunto de datos para la clasificación binaria, necesitará dos carpetas en el disco, correspondientes a class_a y class_b . Estas serán las críticas positivas y negativas de películas, que se pueden encontrar en aclImdb/train/pos y aclImdb/train/neg . Como el conjunto de datos de IMDB contiene carpetas adicionales, las eliminará antes de usar esta utilidad.\r\n",
        "\r\n"
      ]
    },
    {
      "cell_type": "code",
      "metadata": {
        "id": "IcKj675Eief8"
      },
      "source": [
        "remove_dir = os.path.join(train_dir,'unsup')\r\n",
        "shutil.rmtree(remove_dir)"
      ],
      "execution_count": 22,
      "outputs": []
    },
    {
      "cell_type": "markdown",
      "metadata": {
        "id": "Zjvxpx_Ymc-B"
      },
      "source": [
        "A continuación, utilizará la utilidad text_dataset_from_directory para crear untf.data.Dataset etiquetado. tf.data es una poderosa colección de herramientas para trabajar con datos. Al ejecutar un experimento de aprendizaje automático, se recomienda dividir su conjunto de datos en tres divisiones: entrenamiento , validación y prueba .\r\n",
        "\r\n",
        "El conjunto de datos de IMDB ya se ha dividido en entrenamiento y prueba, pero carece de un conjunto de validación. Creemos un conjunto de validación usando una división 80:20 de los datos de entrenamiento usando el argumento validation_split continuación."
      ]
    },
    {
      "cell_type": "code",
      "metadata": {
        "colab": {
          "base_uri": "https://localhost:8080/"
        },
        "id": "fAs4_y7RlVUw",
        "outputId": "d884f4e7-5eab-42e8-c750-7a152688dd88"
      },
      "source": [
        "batch_size = 32\r\n",
        "seed= 42\r\n",
        "\r\n",
        "raw_train_ds = tf.keras.preprocessing.text_dataset_from_directory('/content/aclImdb/train',\r\n",
        "                                                                  batch_size=batch_size,\r\n",
        "                                                                  validation_split=0.2,\r\n",
        "                                                                  subset='training',\r\n",
        "                                                                  seed=seed)"
      ],
      "execution_count": 23,
      "outputs": [
        {
          "output_type": "stream",
          "text": [
            "Found 25000 files belonging to 2 classes.\n",
            "Using 20000 files for training.\n"
          ],
          "name": "stdout"
        }
      ]
    },
    {
      "cell_type": "markdown",
      "metadata": {
        "id": "7hzKs7bKnVEe"
      },
      "source": [
        "Como puede ver arriba, hay 25.000 ejemplos en la carpeta de formación, de los cuales utilizará el 80% (o 20.000) para la formación. Como verá en un momento, puede entrenar un modelo pasando un conjunto de datos directamente a model.fit . Si es nuevo en tf.data , también puede iterar sobre el conjunto de datos e imprimir algunos ejemplos de la siguiente manera.\r\n",
        "\r\n"
      ]
    },
    {
      "cell_type": "code",
      "metadata": {
        "colab": {
          "base_uri": "https://localhost:8080/"
        },
        "id": "BvXeAeKNlW8E",
        "outputId": "6f417e9d-cb62-4e55-d167-4b4bd73d78ed"
      },
      "source": [
        "for text_batch, label_batch in raw_train_ds.take(1):\r\n",
        "  for i in range(3):\r\n",
        "    print(f\"Review {text_batch.numpy()[i]}\")\r\n",
        "    print(f\"Label {label_batch.numpy()[i]}\")"
      ],
      "execution_count": 25,
      "outputs": [
        {
          "output_type": "stream",
          "text": [
            "Review b\"Having seen most of Ringo Lam's films, I can say that this is his best film to date, and the most unusual. It's a ancient china period piece cranked full of kick-ass martial arts, where the location of an underground lair full of traps and dungeons plays as big a part as any of the characters. The action is fantastic, the story is tense and entertaining, and the set design is truely memorable. Sadly, Burning Paradise has not been made available on DVD and vhs is next-to-impossible to get your mitts on, even if you near the second biggest china-town in North America (like I do). If you can find it, don't pass it up.\"\n",
            "Label 1\n",
            "Review b'Caution: May contain spoilers...<br /><br />I\\'ve seen this movie 3 times & I\\'ve liked it every time. Upon seeing it again, I\\'m always reminded of how good it is. An HBO TV movie- very well done like most of their movies are- this would\\'ve gotten Oscars for it\\'s performances had it been released for general distribution instead of made for TV.<br /><br />As I\\'m sure anyone knows from reading other reviews here, this is the story of serial murderer, Andrei Chikatilo. He murdered 56 people over 8 years in the former Soviet Union. (3 victims were buried & couldn\\'t be found so he was only convicted of 52 out of 53 of his murders.) The story actually focuses more on the forensic analyst, Victor Burakov played to perfection by Stephen Rea. A man that becomes tortured and obsessed with finding this killer despite the additional obstacles placed by party hacks, his part is essential to be sure. There is a very touching scene towards the end of the movie that mentions how in America, investigators are routinely taken off serial killer cases after 18 months whether they want to or not due to the mental strain & frustration. According to this acct, Burakov worked for over 5 years before getting his first break from it. He followed the case to its conclusion, 3 years later. In this scene, his superior, General Fetisov, played by Donald Sutherland, actually tells him he admires his dedication and apologizes for not knowing he should\\'ve given him a break sooner.<br /><br />Rea\\'s performance is so well done, he doesn\\'t overact, chew up the scenery or do anything that distracts from his portrayal of a man who is hell bent on finding his killer. He is a man with passion, but doesn\\'t show it in the same manner as is so usually portrayed in detective movies. He only occasionally gives outbursts after quietly putting up with more than most could stand under such circumstances. Rea does so much with his face, his eyes, he doesn\\'t need to overact. He just *is* - His character, so frustrated after so long, at one point, driven to frustration, he actually says he\\'d rather find 3 at one time than none in a year. Of course what he means is not that he wants more people to die, he just wants some clues to catch this man. Rea makes us feel for this man. He makes us understand but a glimpse of what it is to live with such horror and futility.<br /><br />A mutant to be sure, Chikatilo\\'s childhood was one which produces such \"monsters.\" The character of Chikatilo is very well done by Jeffrey DeMunn. He somehow (impossible though it may seem) elicits some modicum of sympathy for himself. Perhaps he is the worst of us gone terribly wrong? Either way, his performance is very well done.<br /><br />Donald Sutherland as Colonel Fetisov (later promoted to General) also does a great job. He starts out seeming to be a cynical worldly official that doesn\\'t seem much more interested in helping the investigation than anyone else blocking Burakov. But he eventually becomes more than just an assistant, he actually actively participates in helping Burakov. There is also a very nice turn by Max Von Sydow as the psychiatrist brought in to help profile and figure out what kind of deviant they are looking for.<br /><br />Although this movie deals with a morbid, grotesque and violent story, it really is more about what it takes to catch a killer than the killer himself. All around a very well done movie with fine performances and a great screenplay. The screenplay manages to do what the best of this type of movie does: give factual events & place them meaningfully inside a dramatic framework that makes you feel like you know the people *behind* the facts.<br /><br />9 out of 10 stars'\n",
            "Label 1\n",
            "Review b\"from the view of a NASCAR Maniac like I am, the movie is interesting. You can see many race cars from 1983. Even tough, the racing scenes are not that much realistic. But I have to admit, that I haven't seen any race before 1995, because before that time, they didn't show any NASCAR races in Germany)<br /><br />from the view of a Burt Reynolds fan like I am, the movie basically is what we are used to see from Reynolds in the 80's: Burt behind the wheel of a fast car, like in his Bandit Movies.<br /><br />If you love NASCAR and Burt Reynolds, this movie is a must-see. If you only love one of this 2 things, I also recommend to watch it. If you like neither NASCAR nor Burt Reynolds, you still should give it a chance, but remember, this movie was far away from winning an Oscar Academy Award.<br /><br />It is the typical humor of the 80's. If you like movies like the Cannonball Movies, and Police Academy, you will also like that one.\"\n",
            "Label 1\n"
          ],
          "name": "stdout"
        }
      ]
    },
    {
      "cell_type": "markdown",
      "metadata": {
        "id": "aQjR-ahFn9ed"
      },
      "source": [
        "Observe que las reseñas contienen texto sin formato (con puntuación y etiquetas HTML ocasionales como). Mostrará cómo manejarlos en la siguiente sección.\r\n",
        "\r\n",
        "Las etiquetas son 0 o 1. Para ver cuáles corresponden a reseñas de películas positivas y negativas, puede verificar la propiedad class_names en el conjunto de datos.\r\n",
        "\r\n"
      ]
    },
    {
      "cell_type": "code",
      "metadata": {
        "colab": {
          "base_uri": "https://localhost:8080/"
        },
        "id": "GrpMdVNAnxMF",
        "outputId": "5ee780ab-53c7-4354-e51d-4204462d891e"
      },
      "source": [
        "print(\"Label 0 corresponds to\", raw_train_ds.class_names[0])\r\n",
        "print(\"Label 1 corresponds to\", raw_train_ds.class_names[1])"
      ],
      "execution_count": 26,
      "outputs": [
        {
          "output_type": "stream",
          "text": [
            "Label 0 corresponds to neg\n",
            "Label 1 corresponds to pos\n"
          ],
          "name": "stdout"
        }
      ]
    },
    {
      "cell_type": "markdown",
      "metadata": {
        "id": "1qe3hGMOweBD"
      },
      "source": [
        "Nota: Cuando utilice los argumentos validation_split y subset , asegúrese de especificar una semilla aleatoria o de pasar shuffle=False , para que las divisiones de validación y entrenamiento no se superpongan.\r\n"
      ]
    },
    {
      "cell_type": "code",
      "metadata": {
        "colab": {
          "base_uri": "https://localhost:8080/"
        },
        "id": "mnWvVXdxoN0j",
        "outputId": "fb1da31a-ccb0-49f8-cb75-83dd2bbb9a6d"
      },
      "source": [
        "raw_val_ds = tf.keras.preprocessing.text_dataset_from_directory(\r\n",
        "    'aclImdb/train', \r\n",
        "    batch_size=batch_size, \r\n",
        "    validation_split=0.2, \r\n",
        "    subset='validation', \r\n",
        "    seed=seed)"
      ],
      "execution_count": 30,
      "outputs": [
        {
          "output_type": "stream",
          "text": [
            "Found 25000 files belonging to 2 classes.\n",
            "Using 5000 files for validation.\n"
          ],
          "name": "stdout"
        }
      ]
    },
    {
      "cell_type": "code",
      "metadata": {
        "colab": {
          "base_uri": "https://localhost:8080/"
        },
        "id": "a_o5G7-PyYCY",
        "outputId": "75f4a157-f99d-4157-c8e8-c8d0346c4184"
      },
      "source": [
        "raw_test_ds = tf.keras.preprocessing.text_dataset_from_directory(\r\n",
        "    'aclImdb/test', \r\n",
        "    batch_size=batch_size)"
      ],
      "execution_count": 31,
      "outputs": [
        {
          "output_type": "stream",
          "text": [
            "Found 25000 files belonging to 2 classes.\n"
          ],
          "name": "stdout"
        }
      ]
    },
    {
      "cell_type": "markdown",
      "metadata": {
        "id": "-xsnXKdnyr4R"
      },
      "source": [
        "## Preparar datos para entrenar el modelo\r\n",
        "\r\n",
        "La estandarización se refiere al preprocesamiento del texto, generalmente para eliminar la puntuación o elementos HTML para simplificar el conjunto de datos. La tokenización se refiere a dividir cadenas en tokens (por ejemplo, dividir una oración en palabras individuales, dividiéndola en espacios en blanco). La vectorización se refiere a convertir tokens en números para que se puedan alimentar a una red neuronal. Todas estas tareas se pueden realizar con esta capa.\r\n",
        "\r\n",
        "Como vio anteriormente, las reseñas contienen varias etiquetas HTML como \\<br /> . Estas etiquetas no serán eliminadas por el estandarizador predeterminado en la capa TextVectorization (que convierte el texto a minúsculas y elimina la puntuación por defecto, pero no elimina el HTML). Escribirás una función de estandarización personalizada para eliminar el HTML.\r\n",
        "\r\n",
        "------------------------------------------------------------------------\r\n",
        "Nota: para evitar el sesgo de tren / prueba (también conocido como sesgo de tren / servicio), es importante preprocesar los datos de forma idéntica en el momento del tren y de la prueba. Para facilitar esto, la capa TextVectorization se puede incluir directamente dentro de su modelo, como se muestra más adelante en este tutorial."
      ]
    },
    {
      "cell_type": "code",
      "metadata": {
        "id": "ZdnYOy53yfDw"
      },
      "source": [
        "def custom_standardization(input_data):\r\n",
        "  lowercase = tf.strings.lower(input_data)\r\n",
        "  stripped_html = tf.strings.regex_replace(lowercase, '<br />',' ')\r\n",
        "  return tf.strings.regex_replace(stripped_html,\r\n",
        "                                  '[%s]' % re.escape(string.punctuation),\r\n",
        "                                  '')\r\n",
        "  "
      ],
      "execution_count": 32,
      "outputs": []
    },
    {
      "cell_type": "markdown",
      "metadata": {
        "id": "oskqD85o0X42"
      },
      "source": [
        "A continuación, creará una capa TextVectorization . usará esta capa para estandarizar, tokenizar y vectorizar nuestros datos. Establece output_mode en int para crear índices enteros únicos para cada token. \r\n",
        "\r\n",
        "Tenga en cuenta que está utilizando la función de división predeterminada y la función de estandarización personalizada que definió anteriormente. También podrá definir algunas constantes para el modelo, como un máximo explícita sequence_length , lo que hará que la capa de secuencias almohadilla o truncar a exactamente sequence_length valores."
      ]
    },
    {
      "cell_type": "code",
      "metadata": {
        "id": "gr0HQF-a0TQd"
      },
      "source": [
        "max_features = 10000\r\n",
        "sequence_length = 250\r\n",
        "\r\n",
        "vectorize_layer = TextVectorization(\r\n",
        "    max_tokens=max_features,\r\n",
        "    standardize = custom_standardization,\r\n",
        "    output_mode='int',\r\n",
        "    output_sequence_length= sequence_length   \r\n",
        ")"
      ],
      "execution_count": 33,
      "outputs": []
    },
    {
      "cell_type": "markdown",
      "metadata": {
        "id": "sPF3_HIc2RGW"
      },
      "source": [
        "A continuación, llamará a adapt para ajustar el estado de la capa de preprocesamiento al conjunto de datos. Esto hará que el modelo cree un índice de cadenas a números enteros.\r\n",
        "\r\n",
        "-------------------------\r\n",
        "Nota: es importante que solo uses tus datos de entrenamiento cuando llames a adapt (usar el conjunto de prueba podría filtrar información)."
      ]
    },
    {
      "cell_type": "code",
      "metadata": {
        "id": "3exN_2g22OIA"
      },
      "source": [
        "train = raw_train_ds.map(lambda x,y: x)\r\n",
        "vectorize_layer.adapt(train)"
      ],
      "execution_count": 40,
      "outputs": []
    },
    {
      "cell_type": "code",
      "metadata": {
        "id": "8guyF0nL2e2P"
      },
      "source": [
        "# Creemos una función para ver el resultado de usar esta capa para preprocesar algunos datos.\r\n",
        "def vectorize_text(texts,label):\r\n",
        "  text = tf.expand_dims(texts,-1)\r\n",
        "  return vectorize_layer(text), label \r\n"
      ],
      "execution_count": 49,
      "outputs": []
    },
    {
      "cell_type": "code",
      "metadata": {
        "colab": {
          "base_uri": "https://localhost:8080/"
        },
        "id": "YkshTwcb22Mf",
        "outputId": "0fe56ff9-5963-4efc-eb4b-a846bec86ea0"
      },
      "source": [
        "# Obtenemos un sample de 10 reseñas y labels de nuestro datasets\r\n",
        "text_batch, label_batch = next(iter(raw_train_ds))\r\n",
        "first_review ,firts_label = text_batch[0], label_batch[0]\r\n",
        "print(\"Review\", first_review)\r\n",
        "print(\"Label\",firts_label)\r\n",
        "print(\"Vectorized review\",vectorize_text(first_review, firts_label))"
      ],
      "execution_count": 50,
      "outputs": [
        {
          "output_type": "stream",
          "text": [
            "Review tf.Tensor(b\"I went to see Fever Pitch with my Mom, and I can say that we both loved it. It wasn't the typical romantic comedy where someone is pining for the other, and blah blah blah... You weren't waiting for the climatic first kiss or for them to finally get together. It was more real, because you saw them through the relationship, rather than the whole movie be about them getting together. People could actually relate to the film, because it didn't seem like extraordinary circumstances, or impossible situations. It was really funny, and I think it was Jimmy Fallon's best performance. All in all... I would definitely recommend it!\", shape=(), dtype=string)\n",
            "Label tf.Tensor(1, shape=(), dtype=int32)\n",
            "Vectorized review (<tf.Tensor: shape=(1, 250), dtype=int64, numpy=\n",
            "array([[  10,  426,    6,   67, 3775, 3322,   16,   54, 1611,    3,   10,\n",
            "          68,  131,   12,   71,  192,  446,    9,    9,  269,    2,  769,\n",
            "         736,  220,  114,  282,    7,    1,   15,    2,   78,    3, 2642,\n",
            "        2642, 2642,   22, 1156, 1064,   15,    2, 9883,   83, 2719,   41,\n",
            "          15,   93,    6,  404,   75,  281,    9,   13,   50,  145,   84,\n",
            "          22,  208,   93,  140,    2,  629,  239,   70,    2,  211,   17,\n",
            "          26,   42,   93,  383,  281,   79,   98,  157, 2133,    6,    2,\n",
            "          19,   84,    9,  152,  295,   38, 2735, 2331,   41, 1168, 1134,\n",
            "           9,   13,   62,  160,    3,   10,  102,    9,   13, 1995,    1,\n",
            "         113,  234,   30,    8,   30,   10,   59,  387,  367,    9,    0,\n",
            "           0,    0,    0,    0,    0,    0,    0,    0,    0,    0,    0,\n",
            "           0,    0,    0,    0,    0,    0,    0,    0,    0,    0,    0,\n",
            "           0,    0,    0,    0,    0,    0,    0,    0,    0,    0,    0,\n",
            "           0,    0,    0,    0,    0,    0,    0,    0,    0,    0,    0,\n",
            "           0,    0,    0,    0,    0,    0,    0,    0,    0,    0,    0,\n",
            "           0,    0,    0,    0,    0,    0,    0,    0,    0,    0,    0,\n",
            "           0,    0,    0,    0,    0,    0,    0,    0,    0,    0,    0,\n",
            "           0,    0,    0,    0,    0,    0,    0,    0,    0,    0,    0,\n",
            "           0,    0,    0,    0,    0,    0,    0,    0,    0,    0,    0,\n",
            "           0,    0,    0,    0,    0,    0,    0,    0,    0,    0,    0,\n",
            "           0,    0,    0,    0,    0,    0,    0,    0,    0,    0,    0,\n",
            "           0,    0,    0,    0,    0,    0,    0,    0,    0,    0,    0,\n",
            "           0,    0,    0,    0,    0,    0,    0,    0]])>, <tf.Tensor: shape=(), dtype=int32, numpy=1>)\n"
          ],
          "name": "stdout"
        }
      ]
    },
    {
      "cell_type": "code",
      "metadata": {
        "colab": {
          "base_uri": "https://localhost:8080/"
        },
        "id": "NrwXgj1K3tiG",
        "outputId": "9b2defba-e808-4d2f-97fd-af7f2f890966"
      },
      "source": [
        "print(\"10 ---> \",vectorize_layer.get_vocabulary()[10])\r\n",
        "print(\"426 ---> \",vectorize_layer.get_vocabulary()[426])\r\n",
        "print('Vocabulary size: {}'.format(len(vectorize_layer.get_vocabulary())))"
      ],
      "execution_count": 52,
      "outputs": [
        {
          "output_type": "stream",
          "text": [
            "10 --->  i\n",
            "426 --->  went\n",
            "Vocabulary size: 10000\n"
          ],
          "name": "stdout"
        }
      ]
    },
    {
      "cell_type": "code",
      "metadata": {
        "id": "boYMbsV44iny"
      },
      "source": [
        "#Como paso final de preprocesamiento, aplicará la capa TextVectorization que creó anteriormente al conjunto de datos de entrenamiento, validación y prueba.\r\n",
        "train_ds= raw_train_ds.map(vectorize_text)\r\n",
        "val_ds = raw_val_ds.map(vectorize_text)\r\n",
        "test_ds = raw_test_ds.map(vectorize_text)"
      ],
      "execution_count": 54,
      "outputs": []
    },
    {
      "cell_type": "markdown",
      "metadata": {
        "id": "PXFKePIs5Vk7"
      },
      "source": [
        "Estos son dos métodos importantes que debe utilizar al cargar datos para asegurarse de que las E / S no se bloqueen.\r\n",
        "\r\n",
        "**.cache()** mantiene los datos en la memoria después de que se cargan del disco. Esto asegurará que el conjunto de datos no se convierta en un cuello de botella mientras entrena su modelo. Si su conjunto de datos es demasiado grande para caber en la memoria, también puede usar este método para crear una caché en disco de alto rendimiento, que es más eficiente de leer que muchos archivos pequeños.\r\n",
        "\r\n",
        "**.prefetch()** superpone el preprocesamiento de datos y la ejecución del modelo durante el entrenamiento."
      ]
    },
    {
      "cell_type": "code",
      "metadata": {
        "id": "vj6CM7Th41Xd"
      },
      "source": [
        "AUTOTUNE = tf.data.AUTOTUNE\r\n",
        "\r\n",
        "train_ds = train_ds.cache().prefetch(buffer_size=AUTOTUNE)\r\n",
        "val_ds = val_ds.cache().prefetch(buffer_size=AUTOTUNE)\r\n",
        "test_ds = test_ds.cache().prefetch(buffer_size=AUTOTUNE)"
      ],
      "execution_count": 55,
      "outputs": []
    },
    {
      "cell_type": "markdown",
      "metadata": {
        "id": "M2qJUUEp5r_V"
      },
      "source": [
        "## Creación del modelo"
      ]
    },
    {
      "cell_type": "code",
      "metadata": {
        "colab": {
          "base_uri": "https://localhost:8080/"
        },
        "id": "0QrnoyOp5qhT",
        "outputId": "57d17dd5-c756-4da1-c7f3-5a89a7a4fe79"
      },
      "source": [
        "embedding_dim = 16\r\n",
        "\r\n",
        "model = tf.keras.Sequential([\r\n",
        "                             layers.Embedding(max_features+1, embedding_dim),\r\n",
        "                             layers.Dropout(0.2),\r\n",
        "                             layers.GlobalAveragePooling1D(),\r\n",
        "                             layers.Dropout(0.2),\r\n",
        "                             layers.Dense(1)])\r\n",
        "model.summary()"
      ],
      "execution_count": 77,
      "outputs": [
        {
          "output_type": "stream",
          "text": [
            "Model: \"sequential_4\"\n",
            "_________________________________________________________________\n",
            "Layer (type)                 Output Shape              Param #   \n",
            "=================================================================\n",
            "embedding_2 (Embedding)      (None, None, 16)          160016    \n",
            "_________________________________________________________________\n",
            "dropout_4 (Dropout)          (None, None, 16)          0         \n",
            "_________________________________________________________________\n",
            "global_average_pooling1d_2 ( (None, 16)                0         \n",
            "_________________________________________________________________\n",
            "dropout_5 (Dropout)          (None, 16)                0         \n",
            "_________________________________________________________________\n",
            "dense_1 (Dense)              (None, 1)                 17        \n",
            "=================================================================\n",
            "Total params: 160,033\n",
            "Trainable params: 160,033\n",
            "Non-trainable params: 0\n",
            "_________________________________________________________________\n"
          ],
          "name": "stdout"
        }
      ]
    },
    {
      "cell_type": "markdown",
      "metadata": {
        "id": "f0FMN-FD8oJv"
      },
      "source": [
        "Las capas se apilan secuencialmente para construir el clasificador:\r\n",
        "\r\n",
        "- La primera capa es una capa de Embedding . Esta capa toma las revisiones codificadas con números enteros y busca un vector de incrustación para cada índice de palabras. Estos vectores se aprenden a medida que se entrena el modelo. Los vectores agregan una dimensión a la matriz de salida. Las dimensiones resultantes son: (batch, sequence, embedding)\r\n",
        "\r\n",
        "- A continuación, una capa GlobalAveragePooling1D devuelve un vector de salida de longitud fija para cada ejemplo promediando la dimensión de la secuencia. Esto permite que el modelo maneje entradas de longitud variable, de la manera más simple posible.\r\n",
        "\r\n",
        "- Este vector de salida de longitud fija se canaliza a través de una capa completamente conectada ( Dense ) con 16 unidades ocultas.\r\n",
        "\r\n",
        "- La última capa está densamente conectada con un solo nodo de salida.\r\n"
      ]
    },
    {
      "cell_type": "code",
      "metadata": {
        "id": "6dfX3rcM8T17"
      },
      "source": [
        "# Compilaremos el modelo con la funcion de perdida y el optimizador\r\n",
        "\r\n",
        "model.compile(loss=losses.BinaryCrossentropy(from_logits=True),\r\n",
        "              optimizer='adam',\r\n",
        "              metrics=tf.metrics.BinaryAccuracy(threshold=0.0))"
      ],
      "execution_count": 78,
      "outputs": []
    },
    {
      "cell_type": "code",
      "metadata": {
        "colab": {
          "base_uri": "https://localhost:8080/"
        },
        "id": "c-aNLOEH9US1",
        "outputId": "5c3abc17-7650-4ce8-a900-c3757fe86f2c"
      },
      "source": [
        "# Entrenamos el modelo\r\n",
        "\r\n",
        "epochs = 10\r\n",
        "\r\n",
        "history = model.fit(train_ds, validation_data=val_ds, epochs=epochs)"
      ],
      "execution_count": 79,
      "outputs": [
        {
          "output_type": "stream",
          "text": [
            "Epoch 1/10\n",
            "625/625 [==============================] - 4s 6ms/step - loss: 0.6839 - binary_accuracy: 0.6142 - val_loss: 0.6178 - val_binary_accuracy: 0.7728\n",
            "Epoch 2/10\n",
            "625/625 [==============================] - 4s 6ms/step - loss: 0.5823 - binary_accuracy: 0.7841 - val_loss: 0.4997 - val_binary_accuracy: 0.8208\n",
            "Epoch 3/10\n",
            "625/625 [==============================] - 4s 6ms/step - loss: 0.4670 - binary_accuracy: 0.8335 - val_loss: 0.4211 - val_binary_accuracy: 0.8454\n",
            "Epoch 4/10\n",
            "625/625 [==============================] - 4s 6ms/step - loss: 0.3921 - binary_accuracy: 0.8588 - val_loss: 0.3746 - val_binary_accuracy: 0.8610\n",
            "Epoch 5/10\n",
            "625/625 [==============================] - 4s 6ms/step - loss: 0.3458 - binary_accuracy: 0.8743 - val_loss: 0.3458 - val_binary_accuracy: 0.8680\n",
            "Epoch 6/10\n",
            "625/625 [==============================] - 4s 6ms/step - loss: 0.3111 - binary_accuracy: 0.8859 - val_loss: 0.3269 - val_binary_accuracy: 0.8722\n",
            "Epoch 7/10\n",
            "625/625 [==============================] - 4s 6ms/step - loss: 0.2863 - binary_accuracy: 0.8970 - val_loss: 0.3135 - val_binary_accuracy: 0.8728\n",
            "Epoch 8/10\n",
            "625/625 [==============================] - 4s 6ms/step - loss: 0.2671 - binary_accuracy: 0.9047 - val_loss: 0.3041 - val_binary_accuracy: 0.8770\n",
            "Epoch 9/10\n",
            "625/625 [==============================] - 4s 6ms/step - loss: 0.2514 - binary_accuracy: 0.9087 - val_loss: 0.2969 - val_binary_accuracy: 0.8778\n",
            "Epoch 10/10\n",
            "625/625 [==============================] - 4s 6ms/step - loss: 0.2342 - binary_accuracy: 0.9166 - val_loss: 0.2927 - val_binary_accuracy: 0.8788\n"
          ],
          "name": "stdout"
        }
      ]
    },
    {
      "cell_type": "code",
      "metadata": {
        "colab": {
          "base_uri": "https://localhost:8080/"
        },
        "id": "9X5mZPQX9lEE",
        "outputId": "7e13b75e-cd76-4df8-c7ae-e021cc4ba8ce"
      },
      "source": [
        "# Evaluar el modelo\r\n",
        "model.evaluate(test_ds)"
      ],
      "execution_count": 80,
      "outputs": [
        {
          "output_type": "stream",
          "text": [
            "782/782 [==============================] - 1s 1ms/step - loss: 0.3103 - binary_accuracy: 0.8738\n"
          ],
          "name": "stdout"
        },
        {
          "output_type": "execute_result",
          "data": {
            "text/plain": [
              "[0.3103112578392029, 0.8737999796867371]"
            ]
          },
          "metadata": {
            "tags": []
          },
          "execution_count": 80
        }
      ]
    },
    {
      "cell_type": "markdown",
      "metadata": {
        "id": "nNcZbhSF98W8"
      },
      "source": [
        "## Cree una gráfica de precisión y pérdida a lo largo del tiempo\r\n",
        "\r\n",
        "model.fit() devuelve un objeto History que contiene un diccionario con todo lo que sucedió durante el entrenamiento:\r\n",
        "\r\n"
      ]
    },
    {
      "cell_type": "code",
      "metadata": {
        "colab": {
          "base_uri": "https://localhost:8080/"
        },
        "id": "t9radCoS9tgb",
        "outputId": "28cd9e5c-eee8-44d0-97f2-474d17aea1ec"
      },
      "source": [
        "history_dict = history.history\r\n",
        "history_dict.keys()"
      ],
      "execution_count": 81,
      "outputs": [
        {
          "output_type": "execute_result",
          "data": {
            "text/plain": [
              "dict_keys(['loss', 'binary_accuracy', 'val_loss', 'val_binary_accuracy'])"
            ]
          },
          "metadata": {
            "tags": []
          },
          "execution_count": 81
        }
      ]
    },
    {
      "cell_type": "code",
      "metadata": {
        "colab": {
          "base_uri": "https://localhost:8080/",
          "height": 295
        },
        "id": "6JiFaFs--eEM",
        "outputId": "868495e2-f599-4b67-d77e-fcc43e35a3be"
      },
      "source": [
        "acc = history_dict['binary_accuracy']\r\n",
        "val_acc = history_dict['val_binary_accuracy']\r\n",
        "loss = history_dict['loss']\r\n",
        "val_loss = history_dict['val_loss']\r\n",
        "\r\n",
        "epochs = range(1,len(acc)+1)\r\n",
        "\r\n",
        "plt.plot(epochs, loss,'bo', label='Training loss')\r\n",
        "plt.plot(epochs, val_loss,'b', label='Validation loss')\r\n",
        "plt.title('Training and Validation Loss')\r\n",
        "plt.xlabel('Epochs')\r\n",
        "plt.ylabel('Loss')\r\n",
        "plt.grid(True)\r\n",
        "plt.show()"
      ],
      "execution_count": 82,
      "outputs": [
        {
          "output_type": "display_data",
          "data": {
            "image/png": "[encoded data removed]",
            "text/plain": [
              "<Figure size 432x288 with 1 Axes>"
            ]
          },
          "metadata": {
            "tags": [],
            "needs_background": "light"
          }
        }
      ]
    },
    {
      "cell_type": "code",
      "metadata": {
        "colab": {
          "base_uri": "https://localhost:8080/",
          "height": 295
        },
        "id": "69ujh8jf_QaO",
        "outputId": "8981121e-6d9f-4187-821e-4519ebddeec9"
      },
      "source": [
        "plt.plot(epochs, acc, 'bo', label='Training acc')\r\n",
        "plt.plot(epochs, val_acc, 'b', label='Validation acc')\r\n",
        "plt.title('Training and validation accuracy')\r\n",
        "plt.xlabel('Epochs')\r\n",
        "plt.ylabel('Accuracy')\r\n",
        "plt.legend(loc='lower right')\r\n",
        "plt.grid(True)\r\n",
        "plt.show()"
      ],
      "execution_count": 83,
      "outputs": [
        {
          "output_type": "display_data",
          "data": {
            "image/png": "[encoded data removed]",
            "text/plain": [
              "<Figure size 432x288 with 1 Axes>"
            ]
          },
          "metadata": {
            "tags": [],
            "needs_background": "light"
          }
        }
      ]
    },
    {
      "cell_type": "markdown",
      "metadata": {
        "id": "UOK9SodZ_s29"
      },
      "source": [
        "En este gráfico, los puntos representan la pérdida y la precisión del entrenamiento, y las líneas continuas son la pérdida y la precisión de la validación.\r\n",
        "\r\n",
        "Observe que la pérdida de entrenamiento disminuye con cada época y la precisión del entrenamiento aumenta con cada época. Esto se espera cuando se usa una optimización de descenso de gradiente; debe minimizar la cantidad deseada en cada iteración.\r\n",
        "\r\n",
        "Este no es el caso de la pérdida de validación y la precisión; parecen alcanzar su punto máximo antes que la precisión del entrenamiento. Este es un ejemplo de sobreajuste: el modelo funciona mejor en los datos de entrenamiento que en los datos que nunca antes había visto. Después de este punto, el modelo sobreoptimiza y aprende representaciones específicas de los datos de entrenamiento que no se generalizan a los datos de prueba.\r\n",
        "\r\n",
        "Para este caso particular, podría evitar el sobreajuste simplemente deteniendo el entrenamiento cuando la precisión de la validación ya no aumente. Una forma de hacerlo es utilizar [tf.keras.callbacks.EarlyStopping](https://www.tensorflow.org/api_docs/python/tf/keras/callbacks/EarlyStopping).\r\n",
        "\r\n"
      ]
    },
    {
      "cell_type": "markdown",
      "metadata": {
        "id": "ufEH2j3vAere"
      },
      "source": [
        "## Guardar el modelo\r\n",
        "\r\n",
        "En el código anterior, aplicó la capa TextVectorization al conjunto de datos antes de alimentar texto al modelo. Si desea que su modelo sea capaz de procesar cadenas sin procesar (por ejemplo, para simplificar su implementación), puede incluir la capa TextVectorization dentro de su modelo. Para hacerlo, puede crear un nuevo modelo utilizando los pesos que acaba de entrenar.\r\n",
        "\r\n",
        "\r\n"
      ]
    },
    {
      "cell_type": "code",
      "metadata": {
        "colab": {
          "base_uri": "https://localhost:8080/"
        },
        "id": "WZ1wRZx6_XGb",
        "outputId": "50080f46-c4d1-47ee-9acc-926eeef552bd"
      },
      "source": [
        "export_model = tf.keras.Sequential([\r\n",
        "                                    vectorize_layer,\r\n",
        "                                    model,\r\n",
        "                                    layers.Activation('sigmoid')\r\n",
        "])\r\n",
        "\r\n",
        "export_model.compile(loss=losses.BinaryCrossentropy(from_logits=True),\r\n",
        "                     optimizer='adam',\r\n",
        "                     metrics =['accuracy'])\r\n",
        "\r\n",
        "loss, accuracy = export_model.evaluate(raw_test_ds)\r\n",
        "print(accuracy)"
      ],
      "execution_count": 84,
      "outputs": [
        {
          "output_type": "stream",
          "text": [
            "782/782 [==============================] - 10s 12ms/step - loss: 0.3172 - accuracy: 0.8688\n",
            "0.8737999796867371\n"
          ],
          "name": "stdout"
        }
      ]
    },
    {
      "cell_type": "markdown",
      "metadata": {
        "id": "cYsRylqPBayR"
      },
      "source": [
        "# Inferencia del modelo\r\n",
        "\r\n",
        "Para obtener predicciones para nuevos ejemplos, simplemente puede llamar model.predict() .\r\n",
        "\r\n"
      ]
    },
    {
      "cell_type": "code",
      "metadata": {
        "colab": {
          "base_uri": "https://localhost:8080/"
        },
        "id": "Hbugdm0CBJtM",
        "outputId": "b19ba4b4-a897-4a92-9948-d60d308803e2"
      },
      "source": [
        "examples = [\r\n",
        "  \"It is the best movie I have seen, I liked everything.\",\r\n",
        "  \"The movie was okay.\",\r\n",
        "  \"The movie was terrible...\"\r\n",
        "]\r\n",
        "\r\n",
        "export_model.predict(examples)"
      ],
      "execution_count": 87,
      "outputs": [
        {
          "output_type": "execute_result",
          "data": {
            "text/plain": [
              "array([[0.76505446],\n",
              "       [0.45269707],\n",
              "       [0.37022758]], dtype=float32)"
            ]
          },
          "metadata": {
            "tags": []
          },
          "execution_count": 87
        }
      ]
    },
    {
      "cell_type": "code",
      "metadata": {
        "id": "BiL7Kx_8BoND"
      },
      "source": [],
      "execution_count": null,
      "outputs": []
    }
  ]
}