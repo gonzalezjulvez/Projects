{
  "nbformat": 4,
  "nbformat_minor": 0,
  "metadata": {
    "colab": {
      "name": "Clasificacion de texto Stackoverflow.ipynb",
      "provenance": [],
      "authorship_tag": "ABX9TyMJnIQNzXoGi0kHtH+r98hx",
      "include_colab_link": true
    },
    "kernelspec": {
      "name": "python3",
      "display_name": "Python 3"
    }
  },
  "cells": [
    {
      "cell_type": "markdown",
      "metadata": {
        "id": "view-in-github",
        "colab_type": "text"
      },
      "source": [
        "<a href=\"https://colab.research.google.com/github/gonzalezjulvez/Projects/blob/main/Formacion/Clasificacion_de_texto_Stackoverflow.ipynb\" target=\"_parent\"><img src=\"https://colab.research.google.com/assets/colab-badge.svg\" alt=\"Open In Colab\"/></a>"
      ]
    },
    {
      "cell_type": "code",
      "metadata": {
        "id": "zd2Jg3qDRrb0"
      },
      "source": [
        "#Importamos librerias\r\n",
        "\r\n",
        "import matplotlib.pyplot as plt\r\n",
        "import os\r\n",
        "import re\r\n",
        "import shutil\r\n",
        "import string\r\n",
        "import tensorflow as tf\r\n",
        "\r\n",
        "from tensorflow.keras import layers\r\n",
        "from tensorflow.keras import losses\r\n",
        "from tensorflow.keras import preprocessing\r\n",
        "from tensorflow.keras.layers.experimental.preprocessing import TextVectorization"
      ],
      "execution_count": 1,
      "outputs": []
    },
    {
      "cell_type": "markdown",
      "metadata": {
        "id": "gztCEKm9Ti6R"
      },
      "source": [
        "## Obtenemos los datos\r\n"
      ]
    },
    {
      "cell_type": "code",
      "metadata": {
        "colab": {
          "base_uri": "https://localhost:8080/"
        },
        "id": "WZDO5IpiRkX0",
        "outputId": "f6087441-0c61-4361-8162-e106b447b814"
      },
      "source": [
        "url = 'http://storage.googleapis.com/download.tensorflow.org/data/stack_overflow_16k.tar.gz'\r\n",
        "\r\n",
        "datasets = tf.keras.utils.get_file('stack_overflow_16k',url, untar=True, cache_dir='.', cache_subdir='')"
      ],
      "execution_count": 2,
      "outputs": [
        {
          "output_type": "stream",
          "text": [
            "Downloading data from http://storage.googleapis.com/download.tensorflow.org/data/stack_overflow_16k.tar.gz\n",
            "6053888/6053168 [==============================] - 0s 0us/step\n"
          ],
          "name": "stdout"
        }
      ]
    },
    {
      "cell_type": "code",
      "metadata": {
        "colab": {
          "base_uri": "https://localhost:8080/"
        },
        "id": "IiGep27HRttE",
        "outputId": "386968eb-f711-4c89-abb5-fae73ceac474"
      },
      "source": [
        "batch_size=32\r\n",
        "seed=42\r\n",
        "raw_train_ds = tf.keras.preprocessing.text_dataset_from_directory('train', batch_size=32, validation_split=0.2, subset='training', seed=seed)\r\n",
        "raw_val_ds = tf.keras.preprocessing.text_dataset_from_directory('train', batch_size=32, validation_split=0.2, subset='validation', seed=seed)\r\n",
        "raw_test_ds = tf.keras.preprocessing.text_dataset_from_directory('test', batch_size=32)"
      ],
      "execution_count": 4,
      "outputs": [
        {
          "output_type": "stream",
          "text": [
            "Found 8000 files belonging to 4 classes.\n",
            "Using 6400 files for training.\n",
            "Found 8000 files belonging to 4 classes.\n",
            "Using 1600 files for validation.\n",
            "Found 8000 files belonging to 4 classes.\n"
          ],
          "name": "stdout"
        }
      ]
    },
    {
      "cell_type": "code",
      "metadata": {
        "colab": {
          "base_uri": "https://localhost:8080/"
        },
        "id": "Z7w7BmIYTCLQ",
        "outputId": "9d50c18e-abac-41db-a275-a718668806f2"
      },
      "source": [
        "print(raw_train_ds.class_names)"
      ],
      "execution_count": 5,
      "outputs": [
        {
          "output_type": "stream",
          "text": [
            "['csharp', 'java', 'javascript', 'python']\n"
          ],
          "name": "stdout"
        }
      ]
    },
    {
      "cell_type": "code",
      "metadata": {
        "colab": {
          "base_uri": "https://localhost:8080/"
        },
        "id": "GGF4aVc2R1dl",
        "outputId": "91119789-f7af-4d56-f496-15ce00cc6f37"
      },
      "source": [
        "for text_batch, label_batch in raw_train_ds.take(1):\r\n",
        "  for i in range(3):\r\n",
        "    print(f\"Review {text_batch.numpy()[i]}\")\r\n",
        "    print(f\"Label {label_batch.numpy()[i]}\")"
      ],
      "execution_count": 6,
      "outputs": [
        {
          "output_type": "stream",
          "text": [
            "Review b'\"my tester is going to the wrong constructor i am new to programming so if i ask a question that can be easily fixed, please forgive me. my program has a tester class with a main. when i send that to my regularpolygon class, it sends it to the wrong constructor. i have two constructors. 1 without perameters..public regularpolygon().    {.       mynumsides = 5;.       mysidelength = 30;.    }//end default constructor...and my second, with perameters. ..public regularpolygon(int numsides, double sidelength).    {.        mynumsides = numsides;.        mysidelength = sidelength;.    }// end constructor...in my tester class i have these two lines:..regularpolygon shape = new regularpolygon(numsides, sidelength);.        shape.menu();...numsides and sidelength were declared and initialized earlier in the testing class...so what i want to happen, is the tester class sends numsides and sidelength to the second constructor and use it in that class. but it only uses the default constructor, which therefor ruins the whole rest of the program. can somebody help me?..for those of you who want to see more of my code: here you go..public double vertexangle().    {.        system.out.println(\"\"the vertex angle method: \"\" + mynumsides);// prints out 5.        system.out.println(\"\"the vertex angle method: \"\" + mysidelength); // prints out 30..        double vertexangle;.        vertexangle = ((mynumsides - 2.0) / mynumsides) * 180.0;.        return vertexangle;.    }//end method vertexangle..public void menu().{.    system.out.println(mynumsides); // prints out what the user puts in.    system.out.println(mysidelength); // prints out what the user puts in.    gotographic();.    calcr(mynumsides, mysidelength);.    calcr(mynumsides, mysidelength);.    print(); .}// end menu...this is my entire tester class:..public static void main(string[] arg).{.    int numsides;.    double sidelength;.    scanner keyboard = new scanner(system.in);..    system.out.println(\"\"welcome to the regular polygon program!\"\");.    system.out.println();..    system.out.print(\"\"enter the number of sides of the polygon ==&gt; \"\");.    numsides = keyboard.nextint();.    system.out.println();..    system.out.print(\"\"enter the side length of each side ==&gt; \"\");.    sidelength = keyboard.nextdouble();.    system.out.println();..    regularpolygon shape = new regularpolygon(numsides, sidelength);.    shape.menu();.}//end main...for testing it i sent it numsides 4 and sidelength 100.\"\\n'\n",
            "Label 1\n",
            "Review b'\"blank code slow skin detection this code changes the color space to lab and using a threshold finds the skin area of an image. but it\\'s ridiculously slow. i don\\'t know how to make it faster ?    ..from colormath.color_objects import *..def skindetection(img, treshold=80, color=[255,20,147]):..    print img.shape.    res=img.copy().    for x in range(img.shape[0]):.        for y in range(img.shape[1]):.            rgbimg=rgbcolor(img[x,y,0],img[x,y,1],img[x,y,2]).            labimg=rgbimg.convert_to(\\'lab\\', debug=false).            if (labimg.lab_l &gt; treshold):.                res[x,y,:]=color.            else: .                res[x,y,:]=img[x,y,:]..    return res\"\\n'\n",
            "Label 3\n",
            "Review b'\"option and validation in blank i want to add a new option on my system where i want to add two text files, both rental.txt and customer.txt. inside each text are id numbers of the customer, the videotape they need and the price...i want to place it as an option on my code. right now i have:...add customer.rent return.view list.search.exit...i want to add this as my sixth option. say for example i ordered a video, it would display the price and would let me confirm the price and if i am going to buy it or not...here is my current code:..  import blank.io.*;.    import blank.util.arraylist;.    import static blank.lang.system.out;..    public class rentalsystem{.    static bufferedreader input = new bufferedreader(new inputstreamreader(system.in));.    static file file = new file(\"\"file.txt\"\");.    static arraylist&lt;string&gt; list = new arraylist&lt;string&gt;();.    static int rows;..    public static void main(string[] args) throws exception{.        introduction();.        system.out.print(\"\"nn\"\");.        login();.        system.out.print(\"\"nnnnnnnnnnnnnnnnnnnnnn\"\");.        introduction();.        string repeat;.        do{.            loadfile();.            system.out.print(\"\"nwhat do you want to do?nn\"\");.            system.out.print(\"\"n                    - - - - - - - - - - - - - - - - - - - - - - -\"\");.            system.out.print(\"\"nn                    |     1. add customer    |   2. rent return |n\"\");.            system.out.print(\"\"n                    - - - - - - - - - - - - - - - - - - - - - - -\"\");.            system.out.print(\"\"nn                    |     3. view list       |   4. search      |n\"\");.            system.out.print(\"\"n                    - - - - - - - - - - - - - - - - - - - - - - -\"\");.            system.out.print(\"\"nn                                             |   5. exit        |n\"\");.            system.out.print(\"\"n                                              - - - - - - - - - -\"\");.            system.out.print(\"\"nnchoice:\"\");.            int choice = integer.parseint(input.readline());.            switch(choice){.                case 1:.                    writedata();.                    break;.                case 2:.                    rentdata();.                    break;.                case 3:.                    viewlist();.                    break;.                case 4:.                    search();.                    break;.                case 5:.                    system.out.println(\"\"goodbye!\"\");.                    system.exit(0);.                default:.                    system.out.print(\"\"invalid choice: \"\");.                    break;.            }.            system.out.print(\"\"ndo another task? [y/n] \"\");.            repeat = input.readline();.        }while(repeat.equals(\"\"y\"\"));..        if(repeat!=\"\"y\"\") system.out.println(\"\"ngoodbye!\"\");..    }..    public static void writedata() throws exception{.        system.out.print(\"\"nname: \"\");.        string cname = input.readline();.        system.out.print(\"\"address: \"\");.        string add = input.readline();.        system.out.print(\"\"phone no.: \"\");.        string pno = input.readline();.        system.out.print(\"\"rental amount: \"\");.        string ramount = input.readline();.        system.out.print(\"\"tapenumber: \"\");.        string tno = input.readline();.        system.out.print(\"\"title: \"\");.        string title = input.readline();.        system.out.print(\"\"date borrowed: \"\");.        string dborrowed = input.readline();.        system.out.print(\"\"due date: \"\");.        string ddate = input.readline();.        createline(cname, add, pno, ramount,tno, title, dborrowed, ddate);.        rentdata();.    }..    public static void createline(string name, string address, string phone , string rental, string tapenumber, string title, string borrowed, string due) throws exception{.        filewriter fw = new filewriter(file, true);.        fw.write(\"\"nname: \"\"+name + \"\"naddress: \"\" + address +\"\"nphone no.: \"\"+ phone+\"\"nrentalamount: \"\"+rental+\"\"ntape no.: \"\"+ tapenumber+\"\"ntitle: \"\"+ title+\"\"ndate borrowed: \"\"+borrowed +\"\"ndue date: \"\"+ due+\"\":rn\"\");.        fw.close();.    }..    public static void loadfile() throws exception{.        try{.            list.clear();.            fileinputstream fstream = new fileinputstream(file);.            bufferedreader br = new bufferedreader(new inputstreamreader(fstream));.            rows = 0;.            while( br.ready()).            {.                list.add(br.readline());.                rows++;.            }.            br.close();.        } catch(exception e){.            system.out.println(\"\"list not yet loaded.\"\");.        }.    }..    public static void viewlist(){.        system.out.print(\"\"n~ ~ ~ ~ ~ ~ ~ ~ ~ ~ ~\"\");.        system.out.print(\"\" |list of all costumers|\"\");.        system.out.print(\"\"~ ~ ~ ~ ~ ~ ~ ~ ~ ~ ~\"\");.        for(int i = 0; i &lt;rows; i++){.            system.out.println(list.get(i));.        }.    }.        public static void rentdata()throws exception.    {   system.out.print(\"\"n~ ~ ~ ~ ~ ~ ~ ~ ~ ~ ~\"\");.        system.out.print(\"\" |rent data list|\"\");.        system.out.print(\"\"~ ~ ~ ~ ~ ~ ~ ~ ~ ~ ~\"\");.        system.out.print(\"\"nenter customer name: \"\");.        string cname = input.readline();.        system.out.print(\"\"date borrowed: \"\");.        string dborrowed = input.readline();.        system.out.print(\"\"due date: \"\");.        string ddate = input.readline();.        system.out.print(\"\"return date: \"\");.        string rdate = input.readline();.        system.out.print(\"\"rent amount: \"\");.        string ramount = input.readline();..        system.out.print(\"\"you pay:\"\"+ramount);...    }.    public static void search()throws exception.    {   system.out.print(\"\"n~ ~ ~ ~ ~ ~ ~ ~ ~ ~ ~\"\");.        system.out.print(\"\" |search costumers|\"\");.        system.out.print(\"\"~ ~ ~ ~ ~ ~ ~ ~ ~ ~ ~\"\");.        system.out.print(\"\"nenter costumer name: \"\");.        string cname = input.readline();.        boolean found = false;..        for(int i=0; i &lt; rows; i++){.            string temp[] = list.get(i).split(\"\",\"\");..            if(cname.equals(temp[0])){.            system.out.println(\"\"search result:nyou are \"\" + temp[0] + \"\" from \"\" + temp[1] + \"\".\"\"+ temp[2] + \"\".\"\"+ temp[3] + \"\".\"\"+ temp[4] + \"\".\"\"+ temp[5] + \"\" is \"\" + temp[6] + \"\".\"\"+ temp[7] + \"\" is \"\" + temp[8] + \"\".\"\");.                found = true;.            }.        }..        if(!found){.            system.out.print(\"\"no results.\"\");.        }..    }..        public static boolean evaluate(string uname, string pass){.        if (uname.equals(\"\"admin\"\")&amp;&amp;pass.equals(\"\"12345\"\")) return true;.        else return false;.    }..    public static string login()throws exception{.        bufferedreader input=new bufferedreader(new inputstreamreader(system.in));.        int counter=0;.        do{.            system.out.print(\"\"username:\"\");.            string uname =input.readline();.            system.out.print(\"\"password:\"\");.            string pass =input.readline();..            boolean accept= evaluate(uname,pass);..            if(accept){.                break;.                }else{.                    system.out.println(\"\"incorrect username or password!\"\");.                    counter ++;.                    }.        }while(counter&lt;3);..            if(counter !=3) return \"\"login successful\"\";.            else return \"\"login failed\"\";.            }.        public static void introduction() throws exception{..        system.out.println(\"\"                  - - - - - - - - - - - - - - - - - - - - - - - - -\"\");.        system.out.println(\"\"                  !                  r e n t a l                  !\"\");.        system.out.println(\"\"                   ! ~ ~ ~ ~ ~ !  =================  ! ~ ~ ~ ~ ~ !\"\");.        system.out.println(\"\"                  !                  s y s t e m                  !\"\");.        system.out.println(\"\"                  - - - - - - - - - - - - - - - - - - - - - - - - -\"\");.        }..}\"\\n'\n",
            "Label 1\n"
          ],
          "name": "stdout"
        }
      ]
    },
    {
      "cell_type": "markdown",
      "metadata": {
        "id": "g3TQxzDCTdsw"
      },
      "source": [
        "## Prepare data for training"
      ]
    },
    {
      "cell_type": "code",
      "metadata": {
        "id": "wucQpjewTHsF"
      },
      "source": [
        "max_features = 10000\r\n",
        "sequence_length = 250\r\n",
        "embedding_dim = 128\r\n",
        "\r\n",
        "vectorize_layer = TextVectorization(\r\n",
        "    max_tokens=max_features,\r\n",
        "    output_mode='int',\r\n",
        "    output_sequence_length= sequence_length   \r\n",
        ")\r\n",
        "text_ds = raw_train_ds.map(lambda x,y :x)\r\n",
        "vectorize_layer.adapt(text_ds)"
      ],
      "execution_count": 8,
      "outputs": []
    },
    {
      "cell_type": "code",
      "metadata": {
        "id": "Cx2vpIoQUY-6"
      },
      "source": [
        "# Vectorizar los datos\r\n",
        "\r\n",
        "def vectorizer_text(texts, label):\r\n",
        "  text = tf.expand_dims(texts, -1)\r\n",
        "  return vectorize_layer(text), label\r\n",
        "\r\n",
        "train_ds = raw_train_ds.map(vectorizer_text)\r\n",
        "val_ds = raw_val_ds.map(vectorizer_text)\r\n",
        "test_ds = raw_test_ds.map(vectorizer_text)"
      ],
      "execution_count": 10,
      "outputs": []
    },
    {
      "cell_type": "code",
      "metadata": {
        "id": "IllI3J8ZVBZE"
      },
      "source": [
        "# configure datasers to performance\r\n",
        "\r\n",
        "AUTOTUNE = tf.data.experimental.AUTOTUNE\r\n",
        "\r\n",
        "train_ds = train_ds.cache().prefetch(buffer_size=AUTOTUNE)\r\n",
        "val_ds = val_ds.cache().prefetch(buffer_size=AUTOTUNE)\r\n",
        "test_ds = test_ds.cache().prefetch(buffer_size=AUTOTUNE)"
      ],
      "execution_count": 11,
      "outputs": []
    },
    {
      "cell_type": "markdown",
      "metadata": {
        "id": "YX2zsth6VrkT"
      },
      "source": [
        "## Construimos el modelo"
      ]
    },
    {
      "cell_type": "code",
      "metadata": {
        "id": "BBMPdiyuVpc9"
      },
      "source": [
        "# Construimos el modelo\r\n",
        "model = tf.keras.Sequential([\r\n",
        "                             layers.Embedding(input_dim=max_features+1, output_dim=embedding_dim),\r\n",
        "                             layers.Dropout(0.2),\r\n",
        "                             layers.GlobalAveragePooling1D(),\r\n",
        "                             layers.Dropout(0.2),\r\n",
        "                             layers.Dense(4)])\r\n",
        "\r\n",
        "model.compile(loss=losses.SparseCategoricalCrossentropy(from_logits=True),\r\n",
        "              optimizer='adam',\r\n",
        "              metrics = ['accuracy'])"
      ],
      "execution_count": 12,
      "outputs": []
    },
    {
      "cell_type": "code",
      "metadata": {
        "colab": {
          "base_uri": "https://localhost:8080/"
        },
        "id": "UhcsC7SOWpCy",
        "outputId": "8bfd4a9e-3ba9-4e0a-f21c-388c86a82396"
      },
      "source": [
        "# Entrenamos el modelo\r\n",
        "\r\n",
        "history = model.fit(train_ds, epochs=10, validation_data=val_ds)"
      ],
      "execution_count": 13,
      "outputs": [
        {
          "output_type": "stream",
          "text": [
            "Epoch 1/10\n",
            "200/200 [==============================] - 7s 32ms/step - loss: 1.3750 - accuracy: 0.3463 - val_loss: 1.3188 - val_accuracy: 0.5644\n",
            "Epoch 2/10\n",
            "200/200 [==============================] - 5s 23ms/step - loss: 1.2815 - accuracy: 0.5656 - val_loss: 1.1566 - val_accuracy: 0.6737\n",
            "Epoch 3/10\n",
            "200/200 [==============================] - 5s 23ms/step - loss: 1.1048 - accuracy: 0.6645 - val_loss: 0.9787 - val_accuracy: 0.7294\n",
            "Epoch 4/10\n",
            "200/200 [==============================] - 5s 23ms/step - loss: 0.9282 - accuracy: 0.7296 - val_loss: 0.8460 - val_accuracy: 0.7563\n",
            "Epoch 5/10\n",
            "200/200 [==============================] - 5s 23ms/step - loss: 0.7934 - accuracy: 0.7649 - val_loss: 0.7520 - val_accuracy: 0.7756\n",
            "Epoch 6/10\n",
            "200/200 [==============================] - 5s 23ms/step - loss: 0.6962 - accuracy: 0.8017 - val_loss: 0.6861 - val_accuracy: 0.7912\n",
            "Epoch 7/10\n",
            "200/200 [==============================] - 5s 23ms/step - loss: 0.6172 - accuracy: 0.8237 - val_loss: 0.6366 - val_accuracy: 0.7962\n",
            "Epoch 8/10\n",
            "200/200 [==============================] - 5s 23ms/step - loss: 0.5548 - accuracy: 0.8416 - val_loss: 0.5991 - val_accuracy: 0.8062\n",
            "Epoch 9/10\n",
            "200/200 [==============================] - 5s 23ms/step - loss: 0.5046 - accuracy: 0.8579 - val_loss: 0.5702 - val_accuracy: 0.8112\n",
            "Epoch 10/10\n",
            "200/200 [==============================] - 5s 23ms/step - loss: 0.4637 - accuracy: 0.8712 - val_loss: 0.5477 - val_accuracy: 0.8138\n"
          ],
          "name": "stdout"
        }
      ]
    },
    {
      "cell_type": "code",
      "metadata": {
        "colab": {
          "base_uri": "https://localhost:8080/"
        },
        "id": "UXZFnUNpW-zD",
        "outputId": "1c93b8d4-9d12-4bfd-cf62-efc968f44ee7"
      },
      "source": [
        "# Evaluamos el modelo\r\n",
        "\r\n",
        "model.evaluate(test_ds)"
      ],
      "execution_count": 14,
      "outputs": [
        {
          "output_type": "stream",
          "text": [
            "250/250 [==============================] - 3s 12ms/step - loss: 0.5945 - accuracy: 0.7881\n"
          ],
          "name": "stdout"
        },
        {
          "output_type": "execute_result",
          "data": {
            "text/plain": [
              "[0.594524621963501, 0.7881249785423279]"
            ]
          },
          "metadata": {
            "tags": []
          },
          "execution_count": 14
        }
      ]
    },
    {
      "cell_type": "code",
      "metadata": {
        "colab": {
          "base_uri": "https://localhost:8080/"
        },
        "id": "p4w9Hp96XU_z",
        "outputId": "501d0ab8-2153-4cc4-aa65-09d6d6ae3f68"
      },
      "source": [
        "for text_batch, label_batch in raw_test_ds.take(1):\r\n",
        "  for i in range(3):\r\n",
        "    print(f\"Review {text_batch.numpy()[i]}\")\r\n",
        "    print(f\"Label {label_batch.numpy()[i]}\")"
      ],
      "execution_count": 19,
      "outputs": [
        {
          "output_type": "stream",
          "text": [
            "Review b'\"send screen output to /dev/null in blank i am returning a variable from a function in blank...when i try to retrieve the variable in another function, it prints out the print statements of the original function for a second time...here is my code:..user_name = \\'my_user\\'.kms_cleint = \\'client_info\\'.aws_account = \\'company-account\\'.def create_kms_key(user_name, kms_client):   .    print(\"\"****************************************************************\"\").    print(\"\"         create kms key for %s                                   \"\" % user_name).    print(\"\"****************************************************************\"\").    kms_key_id = 5.    return kms_key_id..def store_secret(user_name, kms_client, secrets_client, aws_account):.    print(\"\"****************************************************************\"\").    print(\"\"         store secret for %s for aws account: %s                \"\" % (user_name, aws_account)).    print(\"\"****************************************************************\"\").    f = open(os.devnull,\"\"w\"\").    kms_key_id = create_kms_key(user_name, kms_client).set_log_stream(f)...my output:..****************************************************************.         create kms key for user35.****************************************************************.****************************************************************.         store secret for user35 for aws account: company-account.****************************************************************.****************************************************************.         create kms key for user35.****************************************************************...i am trying to avoid printing out the create_kms_key function output a second time...i am getting this error when i try to redirect the output to /dev/null when i call the create_kms_key function:..attributeerror: \\'int\\' object has no attribute \\'set_log_stream\\'...how can i keep the create_kms_key function from printing it\\'s output a second time?\"\\n'\n",
            "Label 3\n",
            "Review b'\"nameerror despite everything being correctly declared i am getting a weird error in my code...here is the snippet...from sqlalchemy import *.import datetime.from config import *.from sqlalchemy.orm import sessionmaker.import logging..engine = create_engine(db_connection_string).metadata = metadata(engine).session = sessionmaker(bind=engine)...def now():.    return datetime.datetime.now()..feeds = table(\\'feeds\\', metadata, .        column(\\'id\\', integer, primary_key=true),.        column(\\'title\\', string(500)),.        column(\\'summary\\', text),.        column(\\'link\\', string(200)),.        column(\\'published_at\\', datetime),.        column(\\'created_at\\', datetime),.        column(\\'updated_at\\', datetime),.        column(\\'user_seen\\', datetime),.        column(\\'rss_link_id\\', foreignkey(\\'rss_links.id\\', ondelete=\"\"cascade\"\")).    )..rsslinks = table(\\'rss_links\\', metadata, .        column(\\'id\\', integer, primary_key=true),.        column(\\'link\\', string(200)),.        column(\\'rss_link\\', string(200)),.        column(\\'title\\', string(500)),.        column(\\'status\\', string(100)),.        column(\\'created_at\\', datetime),.        column(\\'updated_at\\', datetime),.    )..def insert_into_rss_links(link=link, rss_link=rss_link, title=title):.    ins = rsslinks.insert().    ins.execute(link=link, rss_link=rss_link, title=title, status=\\'valid\\', created_at=now())..def insert_rss_links(site_link, _rss_links):.    for rss_link in _rss_links:.        insert_into_rss_links(link=site_link, rss_link=_rss_links[\\'link\\'], title=_rss_links[\\'title\\'])....if __name__ == \\'__main__\\':.    metadata.create_all()...the error is..in [1]: import dbi.---------------------------------------------------------------------------.nameerror                                 traceback (most recent call last).&lt;iblank-input-1-81964b779871&gt; in &lt;module&gt;().----&gt; 1 import dbi../home/asit/own/proj/dbi.py in &lt;module&gt;().     44 .---&gt; 45 def insert_into_rss_links(link=link, rss_link=rss_link, title=title):.     46         ins = rsslinks.insert().     47         ins.execute(link=link, rss_link=rss_link, title=title, status=\\'valid\\', created_at=now())..nameerror: name \\'link\\' is not defined...can somebody tell me, why is this happening ?\"\\n'\n",
            "Label 3\n",
            "Review b'\"variable referencing and assignment say..c = 10.a = b = c...and now a,b reference c, so i thought if c changes, so will a,b, like..c = 123  # change c, then a = b = 123...but actually, a,b doesn\\'t change at all, why? now consider a list..m = [0].l = [m]*3.l[0][0] = 1  # just change l[0][0], then l[1:] change...why?\"\\n'\n",
            "Label 3\n"
          ],
          "name": "stdout"
        }
      ]
    },
    {
      "cell_type": "code",
      "metadata": {
        "id": "BLeTFFXiXozC"
      },
      "source": [
        "export_model = tf.keras.Sequential([\r\n",
        "                                    vectorize_layer,\r\n",
        "                                    model,\r\n",
        "                                    layers.Activation('sigmoid')\r\n",
        "])"
      ],
      "execution_count": 22,
      "outputs": []
    },
    {
      "cell_type": "code",
      "metadata": {
        "id": "69o0JvVsX-cS"
      },
      "source": [
        "export_model.compile(loss=losses.SparseCategoricalCrossentropy(from_logits=True),\r\n",
        "                     optimizer='adam',\r\n",
        "                     metrics =['accuracy'])"
      ],
      "execution_count": 23,
      "outputs": []
    },
    {
      "cell_type": "code",
      "metadata": {
        "colab": {
          "base_uri": "https://localhost:8080/"
        },
        "id": "DdAj9ES3YB3y",
        "outputId": "3c20926f-7336-4ea2-bd05-1d952998ac4c"
      },
      "source": [
        "loss, accuracy = export_model.evaluate(raw_test_ds)\r\n",
        "print(accuracy)"
      ],
      "execution_count": 24,
      "outputs": [
        {
          "output_type": "stream",
          "text": [
            "250/250 [==============================] - 4s 15ms/step - loss: 0.5962 - accuracy: 0.7838\n",
            "0.7881249785423279\n"
          ],
          "name": "stdout"
        }
      ]
    },
    {
      "cell_type": "code",
      "metadata": {
        "id": "fOA-jI9iYMVD"
      },
      "source": [
        ""
      ],
      "execution_count": null,
      "outputs": []
    }
  ]
}